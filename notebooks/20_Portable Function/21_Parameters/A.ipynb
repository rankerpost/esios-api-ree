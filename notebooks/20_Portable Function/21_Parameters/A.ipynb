{
 "cells": [
  {
   "cell_type": "markdown",
   "id": "9b72400e-7290-424c-a6cf-bd6cc93f59eb",
   "metadata": {},
   "source": [
    "# Select a Date Range within the API"
   ]
  },
  {
   "cell_type": "markdown",
   "id": "71461870-1123-4157-bba7-a7316d4f2bb6",
   "metadata": {},
   "source": [
    "## Load the credentials from the `JSON` file"
   ]
  },
  {
   "cell_type": "code",
   "execution_count": null,
   "id": "d48d45cf-a8df-4fc1-a2ce-8c9414c5f8a5",
   "metadata": {},
   "outputs": [],
   "source": [
    "import json\n",
    "\n",
    "with open('../../credentials.json', 'r') as f:    \n",
    "    headers = json.load(f)"
   ]
  },
  {
   "cell_type": "markdown",
   "id": "56f54f4f-6f8f-418f-bb68-1e2f0183db1c",
   "metadata": {},
   "source": [
    "## Request the information of the indicator"
   ]
  },
  {
   "cell_type": "markdown",
   "id": "5b8eaf8a-146b-4c34-a02f-20fafeda9e25",
   "metadata": {},
   "source": [
    "### Choose the indicator"
   ]
  },
  {
   "cell_type": "code",
   "execution_count": null,
   "id": "01e7b690-76ce-4fa5-b305-fa8850994abf",
   "metadata": {},
   "outputs": [],
   "source": [
    "indicator = ???"
   ]
  },
  {
   "cell_type": "code",
   "execution_count": null,
   "id": "8d7770d2-5e39-44b6-a7e5-1246e4ec1c08",
   "metadata": {},
   "outputs": [],
   "source": [
    "url_indicator = f'https://api.esios.ree.es/indicators/{indicator}'"
   ]
  },
  {
   "cell_type": "code",
   "execution_count": null,
   "id": "3537b575-9c0e-417d-b024-99a07d72f4d3",
   "metadata": {},
   "outputs": [],
   "source": [
    "url_indicator"
   ]
  },
  {
   "cell_type": "markdown",
   "id": "877e0081-de31-4a7b-8bf5-905b307cedd7",
   "metadata": {},
   "source": [
    "### How to introduce the date?"
   ]
  },
  {
   "cell_type": "code",
   "execution_count": null,
   "id": "669654c8-aa5c-4435-b467-4effd45079d5",
   "metadata": {},
   "outputs": [],
   "source": []
  },
  {
   "cell_type": "markdown",
   "id": "f62c0e3d-c1a4-4712-82bf-6bddfbdfa060",
   "metadata": {},
   "source": [
    "### How to introduce the API parameters through variables?"
   ]
  },
  {
   "cell_type": "code",
   "execution_count": null,
   "id": "a3398977-e012-48f9-ab22-1c75d3b0df93",
   "metadata": {},
   "outputs": [],
   "source": []
  },
  {
   "cell_type": "markdown",
   "id": "9ee140b4-66d8-4178-b2fc-a97cbf06a9d3",
   "metadata": {},
   "source": [
    "### Request the data"
   ]
  },
  {
   "cell_type": "code",
   "execution_count": null,
   "id": "ccfcc509-6e64-4415-8d7b-636147d52ec8",
   "metadata": {},
   "outputs": [],
   "source": []
  },
  {
   "cell_type": "markdown",
   "id": "3bd6bea9-11b2-400f-8972-628bdf752654",
   "metadata": {},
   "source": [
    "## Get the `JSON`"
   ]
  },
  {
   "cell_type": "code",
   "execution_count": null,
   "id": "081e1cb6-e375-4ea3-8d1a-e282c7e2c4bc",
   "metadata": {},
   "outputs": [],
   "source": []
  },
  {
   "cell_type": "markdown",
   "id": "1a211a93-e018-4852-bd91-2030e7a47c88",
   "metadata": {},
   "source": [
    "## Create a `DataFrame`"
   ]
  },
  {
   "cell_type": "code",
   "execution_count": null,
   "id": "f1b945f2-7984-4851-8386-17ea879df268",
   "metadata": {},
   "outputs": [],
   "source": []
  },
  {
   "cell_type": "markdown",
   "id": "ce9d2084-39d6-49b0-9282-cf34490563ef",
   "metadata": {},
   "source": [
    "## Automate data processing with functions\n",
    "\n",
    "1. Open the previous exercise\n",
    "2. Copy the cells from the `json`\n",
    "3. Paste the cells below this one\n",
    "4. Merge the cells\n",
    "5. Indent lines to the right\n",
    "6. Clean the code\n",
    "    1. Comments together\n",
    "    2. Remove unnecessary lines\n",
    "7. Define the name of the function in the first line\n",
    "8. Idenfity the variable the function needs as the ingredient and define the parameter\n",
    "9. Identify the variable the function will return after executed and return the object at the end"
   ]
  },
  {
   "cell_type": "code",
   "execution_count": null,
   "id": "60ca18b3-cafe-43ba-ba25-c5b77656a089",
   "metadata": {},
   "outputs": [],
   "source": []
  },
  {
   "cell_type": "markdown",
   "id": "d87d1010-99d7-4256-840f-132efb6d22aa",
   "metadata": {},
   "source": [
    "## Automate API call with a function\n",
    "\n",
    "- Follow the same procedure we followed in the previous exercise"
   ]
  },
  {
   "cell_type": "code",
   "execution_count": null,
   "id": "14afc413-1f82-4ec7-9bd2-7b8408421cd9",
   "metadata": {},
   "outputs": [],
   "source": []
  },
  {
   "cell_type": "markdown",
   "id": "d8021393-ac8a-4375-9c3b-921b8a6e4ed7",
   "metadata": {},
   "source": [
    "## Save the function in a custom library"
   ]
  },
  {
   "cell_type": "code",
   "execution_count": null,
   "id": "afcb0f20-27a9-4b6c-81d0-a2e80e8a26c0",
   "metadata": {},
   "outputs": [],
   "source": []
  }
 ],
 "metadata": {
  "kernelspec": {
   "display_name": "Python 3 (ipykernel)",
   "language": "python",
   "name": "python3"
  },
  "language_info": {
   "codemirror_mode": {
    "name": "ipython",
    "version": 3
   },
   "file_extension": ".py",
   "mimetype": "text/x-python",
   "name": "python",
   "nbconvert_exporter": "python",
   "pygments_lexer": "ipython3",
   "version": "3.10.6"
  },
  "toc-autonumbering": true
 },
 "nbformat": 4,
 "nbformat_minor": 5
}
