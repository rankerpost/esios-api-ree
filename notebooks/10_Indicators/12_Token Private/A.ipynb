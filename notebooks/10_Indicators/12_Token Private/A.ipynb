{
 "cells": [
  {
   "cell_type": "markdown",
   "id": "e5e775d9-fef7-440d-9063-1fe346b8060a",
   "metadata": {},
   "source": [
    "# Keep Token Private"
   ]
  },
  {
   "cell_type": "markdown",
   "id": "e44e64a2-e310-4b6b-9ef2-770c840d7dec",
   "metadata": {},
   "source": [
    "## Create the dictionary with the credentials\n",
    "\n",
    "> You need to substitue the token (code) you [should have requested to ESIOS by email](https://share.cleanshot.com/2bWZ42LS) instead of 'YOUR_TOKEN' (as below)."
   ]
  },
  {
   "cell_type": "code",
   "execution_count": 25,
   "id": "9b4988ec-532c-4285-a973-21f90013a54f",
   "metadata": {},
   "outputs": [],
   "source": [
    "token = 'YOUR_TOKEN'\n",
    "\n",
    "headers = dict()\n",
    "headers['Host'] = 'api.esios.ree.es'\n",
    "headers['x-api-key'] = token"
   ]
  },
  {
   "cell_type": "code",
   "execution_count": null,
   "id": "0d684009-98fc-468c-9461-f860af59ea4c",
   "metadata": {},
   "outputs": [],
   "source": [
    "headers"
   ]
  },
  {
   "cell_type": "markdown",
   "id": "c529a607-8473-436e-a592-cc17a8f3c1ca",
   "metadata": {},
   "source": [
    "## Create a json with the headers"
   ]
  },
  {
   "cell_type": "code",
   "execution_count": null,
   "id": "83469ddd-d6b6-442d-9d8f-4a2a4bc6d95e",
   "metadata": {},
   "outputs": [],
   "source": [
    "import json"
   ]
  },
  {
   "cell_type": "code",
   "execution_count": null,
   "id": "5b505da4-7212-4b18-bcc4-d8b7aa6c2166",
   "metadata": {},
   "outputs": [],
   "source": [
    "with open('credentials.json', 'w') as f:\n",
    "    json.dump(headers, f)"
   ]
  },
  {
   "cell_type": "markdown",
   "id": "f18e207a-0311-4bad-b166-7424707d4854",
   "metadata": {},
   "source": [
    "## Create a new file and execute an example"
   ]
  },
  {
   "cell_type": "code",
   "execution_count": null,
   "id": "65321ca9-17ff-48da-8ecb-9eccb16ae94d",
   "metadata": {},
   "outputs": [],
   "source": []
  }
 ],
 "metadata": {
  "kernelspec": {
   "display_name": "Python 3 (ipykernel)",
   "language": "python",
   "name": "python3"
  },
  "language_info": {
   "codemirror_mode": {
    "name": "ipython",
    "version": 3
   },
   "file_extension": ".py",
   "mimetype": "text/x-python",
   "name": "python",
   "nbconvert_exporter": "python",
   "pygments_lexer": "ipython3",
   "version": "3.10.6"
  }
 },
 "nbformat": 4,
 "nbformat_minor": 5
}
