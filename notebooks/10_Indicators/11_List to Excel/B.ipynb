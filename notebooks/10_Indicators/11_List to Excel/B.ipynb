{
 "cells": [
  {
   "cell_type": "markdown",
   "id": "7a615e0e-bb7d-41cd-a3e0-05047d36a716",
   "metadata": {},
   "source": [
    "# Download List of Indicators"
   ]
  },
  {
   "cell_type": "markdown",
   "id": "9548f08d-16ff-4967-9c40-a49c43a57f00",
   "metadata": {
    "tags": []
   },
   "source": [
    "## Set up your credentials in a dictionary\n",
    "\n",
    "> You need to substitue the token (code) you [should have requested to ESIOS by email](https://share.cleanshot.com/2bWZ42LS) instead of 'YOUR_TOKEN' (as below)."
   ]
  },
  {
   "cell_type": "code",
   "execution_count": 13,
   "id": "2244ed5e-0c4a-43cd-85d0-cf6370109348",
   "metadata": {},
   "outputs": [],
   "source": [
    "TOKEN = '<YOUR_TOKEN>'\n",
    "\n",
    "headers = {\n",
    "    'Host': 'api.esios.ree.es',\n",
    "    'x-api-key': TOKEN\n",
    "}"
   ]
  },
  {
   "cell_type": "markdown",
   "id": "1113d155-9c37-4f82-8640-d103879d0be7",
   "metadata": {},
   "source": [
    "## Request the indicators list\n",
    "\n",
    "https://api.esios.ree.es/"
   ]
  },
  {
   "cell_type": "code",
   "execution_count": 15,
   "id": "df034fb1-359f-4ceb-9999-c4cf445457a5",
   "metadata": {},
   "outputs": [
    {
     "data": {
      "text/plain": [
       "'https://api.esios.ree.es/indicators'"
      ]
     },
     "execution_count": 15,
     "metadata": {},
     "output_type": "execute_result"
    }
   ],
   "source": [
    "url = 'https://api.esios.ree.es/indicators'\n",
    "url"
   ]
  },
  {
   "cell_type": "code",
   "execution_count": 16,
   "id": "9ab6736c-de5f-43ce-994c-1a1792080d87",
   "metadata": {},
   "outputs": [],
   "source": [
    "import requests\n",
    "res = requests.get(url, headers=headers)"
   ]
  },
  {
   "cell_type": "markdown",
   "id": "8b6d79ed-3900-432a-83a9-fb72751d4836",
   "metadata": {},
   "source": [
    "## Get the `JSON`"
   ]
  },
  {
   "cell_type": "code",
   "execution_count": 17,
   "id": "11b61c53-6fb9-4cb1-8005-beb805da2f38",
   "metadata": {},
   "outputs": [],
   "source": [
    "data = res.json()"
   ]
  },
  {
   "cell_type": "markdown",
   "id": "4729c2a2-899c-430c-acf0-8a8988aa0111",
   "metadata": {},
   "source": [
    "## Create a `DataFrame`"
   ]
  },
  {
   "cell_type": "code",
   "execution_count": 18,
   "id": "53761074-291f-42fb-a60e-e5475e8ffbcf",
   "metadata": {},
   "outputs": [
    {
     "data": {
      "text/html": [
       "<div>\n",
       "<style scoped>\n",
       "    .dataframe tbody tr th:only-of-type {\n",
       "        vertical-align: middle;\n",
       "    }\n",
       "\n",
       "    .dataframe tbody tr th {\n",
       "        vertical-align: top;\n",
       "    }\n",
       "\n",
       "    .dataframe thead th {\n",
       "        text-align: right;\n",
       "    }\n",
       "</style>\n",
       "<table border=\"1\" class=\"dataframe\">\n",
       "  <thead>\n",
       "    <tr style=\"text-align: right;\">\n",
       "      <th></th>\n",
       "      <th>name</th>\n",
       "      <th>description</th>\n",
       "      <th>short_name</th>\n",
       "      <th>id</th>\n",
       "    </tr>\n",
       "  </thead>\n",
       "  <tbody>\n",
       "    <tr>\n",
       "      <th>0</th>\n",
       "      <td>Generación programada PBF Hidráulica UGH</td>\n",
       "      <td>&lt;p&gt;Es el programa de energía diario, con desgl...</td>\n",
       "      <td>Hidráulica UGH</td>\n",
       "      <td>1</td>\n",
       "    </tr>\n",
       "    <tr>\n",
       "      <th>1</th>\n",
       "      <td>Generación programada PBF Hidráulica no UGH</td>\n",
       "      <td>&lt;p&gt;Es el programa de energía diario, con desgl...</td>\n",
       "      <td>Hidráulica no UGH</td>\n",
       "      <td>2</td>\n",
       "    </tr>\n",
       "    <tr>\n",
       "      <th>...</th>\n",
       "      <td>...</td>\n",
       "      <td>...</td>\n",
       "      <td>...</td>\n",
       "      <td>...</td>\n",
       "    </tr>\n",
       "    <tr>\n",
       "      <th>1937</th>\n",
       "      <td>RD-L 10/2022 restricciones técnicas y mercados...</td>\n",
       "      <td>&lt;p&gt;RD-L 10/2022 restricciones t&amp;eacute;cnicas ...</td>\n",
       "      <td>Mercado diario e intradiario</td>\n",
       "      <td>10411</td>\n",
       "    </tr>\n",
       "    <tr>\n",
       "      <th>1938</th>\n",
       "      <td>Precio medio ponderado de activación del servi...</td>\n",
       "      <td>&lt;p&gt; Es un servicio específico de balance del s...</td>\n",
       "      <td>Precio medio ponderado de activación del servi...</td>\n",
       "      <td>10412</td>\n",
       "    </tr>\n",
       "  </tbody>\n",
       "</table>\n",
       "<p>1939 rows × 4 columns</p>\n",
       "</div>"
      ],
      "text/plain": [
       "                                                   name  \\\n",
       "0              Generación programada PBF Hidráulica UGH   \n",
       "1           Generación programada PBF Hidráulica no UGH   \n",
       "...                                                 ...   \n",
       "1937  RD-L 10/2022 restricciones técnicas y mercados...   \n",
       "1938  Precio medio ponderado de activación del servi...   \n",
       "\n",
       "                                            description  \\\n",
       "0     <p>Es el programa de energía diario, con desgl...   \n",
       "1     <p>Es el programa de energía diario, con desgl...   \n",
       "...                                                 ...   \n",
       "1937  <p>RD-L 10/2022 restricciones t&eacute;cnicas ...   \n",
       "1938  <p> Es un servicio específico de balance del s...   \n",
       "\n",
       "                                             short_name     id  \n",
       "0                                        Hidráulica UGH      1  \n",
       "1                                     Hidráulica no UGH      2  \n",
       "...                                                 ...    ...  \n",
       "1937                       Mercado diario e intradiario  10411  \n",
       "1938  Precio medio ponderado de activación del servi...  10412  \n",
       "\n",
       "[1939 rows x 4 columns]"
      ]
     },
     "execution_count": 18,
     "metadata": {},
     "output_type": "execute_result"
    }
   ],
   "source": [
    "import pandas as pd\n",
    "df_indicators = pd.DataFrame(data['indicators'])\n",
    "df_indicators"
   ]
  },
  {
   "cell_type": "markdown",
   "id": "c84fa189-7e81-4644-be70-b7c753e8c657",
   "metadata": {},
   "source": [
    "### Set the `id` column as the index"
   ]
  },
  {
   "cell_type": "code",
   "execution_count": 19,
   "id": "5c25a982-79b9-4c26-9657-ab147229a1f7",
   "metadata": {},
   "outputs": [
    {
     "data": {
      "text/html": [
       "<div>\n",
       "<style scoped>\n",
       "    .dataframe tbody tr th:only-of-type {\n",
       "        vertical-align: middle;\n",
       "    }\n",
       "\n",
       "    .dataframe tbody tr th {\n",
       "        vertical-align: top;\n",
       "    }\n",
       "\n",
       "    .dataframe thead th {\n",
       "        text-align: right;\n",
       "    }\n",
       "</style>\n",
       "<table border=\"1\" class=\"dataframe\">\n",
       "  <thead>\n",
       "    <tr style=\"text-align: right;\">\n",
       "      <th></th>\n",
       "      <th>name</th>\n",
       "      <th>description</th>\n",
       "      <th>short_name</th>\n",
       "    </tr>\n",
       "    <tr>\n",
       "      <th>id</th>\n",
       "      <th></th>\n",
       "      <th></th>\n",
       "      <th></th>\n",
       "    </tr>\n",
       "  </thead>\n",
       "  <tbody>\n",
       "    <tr>\n",
       "      <th>1</th>\n",
       "      <td>Generación programada PBF Hidráulica UGH</td>\n",
       "      <td>&lt;p&gt;Es el programa de energía diario, con desgl...</td>\n",
       "      <td>Hidráulica UGH</td>\n",
       "    </tr>\n",
       "    <tr>\n",
       "      <th>2</th>\n",
       "      <td>Generación programada PBF Hidráulica no UGH</td>\n",
       "      <td>&lt;p&gt;Es el programa de energía diario, con desgl...</td>\n",
       "      <td>Hidráulica no UGH</td>\n",
       "    </tr>\n",
       "    <tr>\n",
       "      <th>...</th>\n",
       "      <td>...</td>\n",
       "      <td>...</td>\n",
       "      <td>...</td>\n",
       "    </tr>\n",
       "    <tr>\n",
       "      <th>10411</th>\n",
       "      <td>RD-L 10/2022 restricciones técnicas y mercados...</td>\n",
       "      <td>&lt;p&gt;RD-L 10/2022 restricciones t&amp;eacute;cnicas ...</td>\n",
       "      <td>Mercado diario e intradiario</td>\n",
       "    </tr>\n",
       "    <tr>\n",
       "      <th>10412</th>\n",
       "      <td>Precio medio ponderado de activación del servi...</td>\n",
       "      <td>&lt;p&gt; Es un servicio específico de balance del s...</td>\n",
       "      <td>Precio medio ponderado de activación del servi...</td>\n",
       "    </tr>\n",
       "  </tbody>\n",
       "</table>\n",
       "<p>1939 rows × 3 columns</p>\n",
       "</div>"
      ],
      "text/plain": [
       "                                                    name  \\\n",
       "id                                                         \n",
       "1               Generación programada PBF Hidráulica UGH   \n",
       "2            Generación programada PBF Hidráulica no UGH   \n",
       "...                                                  ...   \n",
       "10411  RD-L 10/2022 restricciones técnicas y mercados...   \n",
       "10412  Precio medio ponderado de activación del servi...   \n",
       "\n",
       "                                             description  \\\n",
       "id                                                         \n",
       "1      <p>Es el programa de energía diario, con desgl...   \n",
       "2      <p>Es el programa de energía diario, con desgl...   \n",
       "...                                                  ...   \n",
       "10411  <p>RD-L 10/2022 restricciones t&eacute;cnicas ...   \n",
       "10412  <p> Es un servicio específico de balance del s...   \n",
       "\n",
       "                                              short_name  \n",
       "id                                                        \n",
       "1                                         Hidráulica UGH  \n",
       "2                                      Hidráulica no UGH  \n",
       "...                                                  ...  \n",
       "10411                       Mercado diario e intradiario  \n",
       "10412  Precio medio ponderado de activación del servi...  \n",
       "\n",
       "[1939 rows x 3 columns]"
      ]
     },
     "execution_count": 19,
     "metadata": {},
     "output_type": "execute_result"
    }
   ],
   "source": [
    "df_indicators = df_indicators.set_index('id')\n",
    "df_indicators"
   ]
  },
  {
   "cell_type": "markdown",
   "id": "29c57096-2ecc-4e9b-a05e-e6ba823099af",
   "metadata": {},
   "source": [
    "### Save the *styled* `DataFrame` to a new variable"
   ]
  },
  {
   "cell_type": "code",
   "execution_count": 20,
   "id": "a9d29169-3552-4778-bfb0-8ed689483097",
   "metadata": {},
   "outputs": [],
   "source": [
    "df_indicators_styled = df_indicators.style"
   ]
  },
  {
   "cell_type": "markdown",
   "id": "361580f3-855d-4d0c-afb7-98819ff7455b",
   "metadata": {},
   "source": [
    "### Export the `DataFrame` to an Excel"
   ]
  },
  {
   "cell_type": "code",
   "execution_count": 21,
   "id": "775ab6f2-25ca-4d9b-9f02-f706e6d1164a",
   "metadata": {},
   "outputs": [],
   "source": [
    "df_indicators_styled.to_excel('../../../data/indicators.xlsx')"
   ]
  }
 ],
 "metadata": {
  "kernelspec": {
   "display_name": "Python 3 (ipykernel)",
   "language": "python",
   "name": "python3"
  },
  "language_info": {
   "codemirror_mode": {
    "name": "ipython",
    "version": 3
   },
   "file_extension": ".py",
   "mimetype": "text/x-python",
   "name": "python",
   "nbconvert_exporter": "python",
   "pygments_lexer": "ipython3",
   "version": "3.12.2"
  },
  "toc-autonumbering": true
 },
 "nbformat": 4,
 "nbformat_minor": 5
}
