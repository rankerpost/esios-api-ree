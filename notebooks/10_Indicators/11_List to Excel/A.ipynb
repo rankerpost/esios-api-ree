{
 "cells": [
  {
   "cell_type": "markdown",
   "id": "7a615e0e-bb7d-41cd-a3e0-05047d36a716",
   "metadata": {},
   "source": [
    "# Download List of Indicators"
   ]
  },
  {
   "cell_type": "markdown",
   "id": "9548f08d-16ff-4967-9c40-a49c43a57f00",
   "metadata": {
    "tags": []
   },
   "source": [
    "## Set up your credentials in a dictionary\n",
    "\n",
    "> You need to substitue the token (code) you [should have requested to ESIOS by email](https://share.cleanshot.com/2bWZ42LS) instead of 'YOUR_TOKEN' (as below)."
   ]
  },
  {
   "cell_type": "code",
   "execution_count": 25,
   "id": "ef443d08-8d62-408b-a3d6-1d9d4957a778",
   "metadata": {},
   "outputs": [],
   "source": [
    "token = 'YOUR_TOKEN'\n",
    "\n",
    "headers = dict()\n",
    "headers['Host'] = 'api.esios.ree.es'\n",
    "headers['x-api-key'] = token"
   ]
  },
  {
   "cell_type": "code",
   "execution_count": null,
   "id": "445cc18d-1885-4097-a194-3cf0b211ac07",
   "metadata": {},
   "outputs": [],
   "source": [
    "headers"
   ]
  },
  {
   "cell_type": "markdown",
   "id": "1113d155-9c37-4f82-8640-d103879d0be7",
   "metadata": {},
   "source": [
    "## Request the indicators list\n",
    "\n",
    "https://api.esios.ree.es/"
   ]
  },
  {
   "cell_type": "code",
   "execution_count": null,
   "id": "df034fb1-359f-4ceb-9999-c4cf445457a5",
   "metadata": {},
   "outputs": [],
   "source": [
    "url = 'https://api.esios.ree.es/indicators'"
   ]
  },
  {
   "cell_type": "code",
   "execution_count": null,
   "id": "c4fea9d7-440d-416b-a03d-e72f9ea6ef4e",
   "metadata": {},
   "outputs": [],
   "source": []
  },
  {
   "cell_type": "markdown",
   "id": "8b6d79ed-3900-432a-83a9-fb72751d4836",
   "metadata": {},
   "source": [
    "## Get the `JSON`"
   ]
  },
  {
   "cell_type": "code",
   "execution_count": null,
   "id": "f46867b6-696e-426b-8a95-6b7b6cc1819b",
   "metadata": {},
   "outputs": [],
   "source": []
  },
  {
   "cell_type": "markdown",
   "id": "4729c2a2-899c-430c-acf0-8a8988aa0111",
   "metadata": {},
   "source": [
    "## Create a `DataFrame`"
   ]
  },
  {
   "cell_type": "code",
   "execution_count": null,
   "id": "e6b42128-b5a3-46db-9c35-a88cda2eb2a2",
   "metadata": {},
   "outputs": [],
   "source": []
  },
  {
   "cell_type": "markdown",
   "id": "c84fa189-7e81-4644-be70-b7c753e8c657",
   "metadata": {},
   "source": [
    "### Set the `id` column as the index"
   ]
  },
  {
   "cell_type": "code",
   "execution_count": null,
   "id": "20accb0f-22db-4df5-9670-9898f2d7e598",
   "metadata": {},
   "outputs": [],
   "source": []
  },
  {
   "cell_type": "markdown",
   "id": "29c57096-2ecc-4e9b-a05e-e6ba823099af",
   "metadata": {},
   "source": [
    "### Save the *styled* `DataFrame` to a new variable"
   ]
  },
  {
   "cell_type": "code",
   "execution_count": null,
   "id": "02081407-f488-4792-9950-e5b4cb62b9ff",
   "metadata": {},
   "outputs": [],
   "source": []
  },
  {
   "cell_type": "markdown",
   "id": "361580f3-855d-4d0c-afb7-98819ff7455b",
   "metadata": {},
   "source": [
    "### Export the `DataFrame` to an Excel"
   ]
  },
  {
   "cell_type": "code",
   "execution_count": null,
   "id": "f8612e51-7863-4ac8-87a5-4e8292dc3c94",
   "metadata": {},
   "outputs": [],
   "source": []
  }
 ],
 "metadata": {
  "kernelspec": {
   "display_name": "Python 3 (ipykernel)",
   "language": "python",
   "name": "python3"
  },
  "language_info": {
   "codemirror_mode": {
    "name": "ipython",
    "version": 3
   },
   "file_extension": ".py",
   "mimetype": "text/x-python",
   "name": "python",
   "nbconvert_exporter": "python",
   "pygments_lexer": "ipython3",
   "version": "3.10.6"
  },
  "toc-autonumbering": true
 },
 "nbformat": 4,
 "nbformat_minor": 5
}
