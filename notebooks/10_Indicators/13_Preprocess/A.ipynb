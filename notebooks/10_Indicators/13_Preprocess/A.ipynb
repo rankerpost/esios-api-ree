{
 "cells": [
  {
   "cell_type": "markdown",
   "id": "3a5e861d-d403-4e42-a41d-5eeef2373686",
   "metadata": {},
   "source": [
    "# Download Specific Data from API"
   ]
  },
  {
   "cell_type": "markdown",
   "id": "cdd94854-a6d5-465a-91db-69d8599e296f",
   "metadata": {},
   "source": [
    "## Load the Excel of indicators"
   ]
  },
  {
   "cell_type": "code",
   "execution_count": null,
   "id": "5e44343b-7e7d-452b-8ebb-f78dc3a025b7",
   "metadata": {},
   "outputs": [],
   "source": []
  },
  {
   "cell_type": "markdown",
   "id": "e62dae92-25ff-4181-b8b9-11ab9fca0c36",
   "metadata": {},
   "source": [
    "## Find `ids` by searching the technology program and type in the name column"
   ]
  },
  {
   "cell_type": "code",
   "execution_count": null,
   "id": "e40497f7-0f5f-4ae8-a029-04893abdeead",
   "metadata": {},
   "outputs": [],
   "source": [
    "from itables import init_notebook_mode, show #!\n",
    "\n",
    "init_notebook_mode(all_interactive=False)"
   ]
  },
  {
   "cell_type": "code",
   "execution_count": null,
   "id": "e3141f9a-b4fc-4935-888c-00e950af8a05",
   "metadata": {},
   "outputs": [],
   "source": [
    "show(\n",
    "    df_indicators,\n",
    "    search={'regex': True, 'caseInsensitive': True},\n",
    "    columnDefs=[{'className': 'dt-left', 'targets': '_all'}],\n",
    "    column_filters='header'\n",
    ") #!"
   ]
  },
  {
   "cell_type": "markdown",
   "id": "2dc11e5d-7c87-437e-a7fc-001a7be1f30c",
   "metadata": {},
   "source": [
    "## Request the information of a specific indicator"
   ]
  },
  {
   "cell_type": "markdown",
   "id": "b5ec70d1-eeb4-47ba-acd0-ea70892fce05",
   "metadata": {},
   "source": [
    "### Choose the indicator"
   ]
  },
  {
   "cell_type": "code",
   "execution_count": null,
   "id": "f184169f-8cb6-4481-b37d-93c0f4b6900a",
   "metadata": {},
   "outputs": [],
   "source": []
  },
  {
   "cell_type": "markdown",
   "id": "efdc4f8d-2541-49a3-91be-7173a51c9de4",
   "metadata": {},
   "source": [
    "### Load the `JSON` with the token credentials"
   ]
  },
  {
   "cell_type": "code",
   "execution_count": null,
   "id": "e9a2736a-c054-431f-8660-026421627c48",
   "metadata": {},
   "outputs": [],
   "source": []
  },
  {
   "cell_type": "markdown",
   "id": "ed721f54-1096-4cb7-9013-3ea2228e45ec",
   "metadata": {},
   "source": [
    "### Request the data"
   ]
  },
  {
   "cell_type": "code",
   "execution_count": null,
   "id": "468c1e6a-104c-448d-a3bc-f90736d32b8a",
   "metadata": {},
   "outputs": [],
   "source": []
  },
  {
   "cell_type": "markdown",
   "id": "5b1a7220-697c-4889-a951-842b4ff7495a",
   "metadata": {},
   "source": [
    "## Get the `JSON`"
   ]
  },
  {
   "cell_type": "code",
   "execution_count": null,
   "id": "1bb53eec-c2c9-46b6-95c3-432955504240",
   "metadata": {},
   "outputs": [],
   "source": []
  },
  {
   "cell_type": "markdown",
   "id": "a8e9a68b-64e4-4ef4-90bf-3fe092835e5b",
   "metadata": {},
   "source": [
    "## Create a `DataFrame`"
   ]
  },
  {
   "cell_type": "markdown",
   "id": "1b99721f-4181-4ea6-bf70-9fce75d4254b",
   "metadata": {},
   "source": [
    "### Get to the pattern of the data"
   ]
  },
  {
   "cell_type": "code",
   "execution_count": null,
   "id": "37c104f0-70c7-42a3-814c-e1ef79cc7b64",
   "metadata": {},
   "outputs": [],
   "source": []
  },
  {
   "cell_type": "markdown",
   "id": "14fa709b-43d5-43a3-9d13-de479c7b38eb",
   "metadata": {},
   "source": [
    "### Transform the `JSON` to a `DataFrame`"
   ]
  },
  {
   "cell_type": "code",
   "execution_count": null,
   "id": "7a658d6d-6a07-41c1-bd40-ae95d65ec6cb",
   "metadata": {},
   "outputs": [],
   "source": []
  },
  {
   "cell_type": "markdown",
   "id": "8eb9ba0f-c1e3-4a55-8060-50b75b9813ca",
   "metadata": {},
   "source": [
    "## Preprocess & clean the `DataFrame`"
   ]
  },
  {
   "cell_type": "markdown",
   "id": "9602292d-d62e-4e6e-ac68-092bc0b82868",
   "metadata": {},
   "source": [
    "### Get the indicator name from metadata"
   ]
  },
  {
   "cell_type": "code",
   "execution_count": null,
   "id": "0cf0645a-3b5a-43df-9770-cb0b485f125f",
   "metadata": {},
   "outputs": [],
   "source": []
  },
  {
   "cell_type": "markdown",
   "id": "cd99a7ae-1920-47ae-b1e6-2f28a503c059",
   "metadata": {},
   "source": [
    "### Change colname `value` to the `short_name`"
   ]
  },
  {
   "cell_type": "code",
   "execution_count": null,
   "id": "53452ab2-3d49-434b-baa2-8bbdc4c65e82",
   "metadata": {},
   "outputs": [],
   "source": []
  },
  {
   "cell_type": "markdown",
   "id": "0a17cf21-959d-4aa9-9099-3f31249d15d1",
   "metadata": {},
   "source": [
    "### Check the dtypes"
   ]
  },
  {
   "cell_type": "code",
   "execution_count": null,
   "id": "ecfbfb74-1d6c-4f8c-9bad-dc4a61f2fb49",
   "metadata": {},
   "outputs": [],
   "source": []
  },
  {
   "cell_type": "markdown",
   "id": "e8d26654-ae32-4a11-985a-e295c3965ceb",
   "metadata": {},
   "source": [
    "### Transform `datetime_utc` to a `datetime`"
   ]
  },
  {
   "cell_type": "code",
   "execution_count": null,
   "id": "1f88110c-a9b1-4304-b0ba-ca38f9e85d8b",
   "metadata": {},
   "outputs": [],
   "source": []
  },
  {
   "cell_type": "markdown",
   "id": "03f705c8-4104-4e21-87d2-5a494ab4f906",
   "metadata": {},
   "source": [
    "### Select the columns `datetime_utc` and `short_name` (previously)"
   ]
  },
  {
   "cell_type": "code",
   "execution_count": null,
   "id": "011bc4e9-f99b-4d5a-ab51-b775c49ab2b3",
   "metadata": {},
   "outputs": [],
   "source": []
  },
  {
   "cell_type": "markdown",
   "id": "4e13d270-46eb-4793-89f2-5b4da7931bb7",
   "metadata": {},
   "source": [
    "### Set the `datetime_utc` as the index"
   ]
  },
  {
   "cell_type": "code",
   "execution_count": null,
   "id": "0e4c961f-5665-4193-a69b-b1a798d60b83",
   "metadata": {},
   "outputs": [],
   "source": []
  },
  {
   "cell_type": "markdown",
   "id": "25360b61-0418-465e-8288-18200256c633",
   "metadata": {},
   "source": [
    "### Export the data into an Excel"
   ]
  },
  {
   "cell_type": "code",
   "execution_count": null,
   "id": "57e587ba-580c-4137-b8a9-20475b61a860",
   "metadata": {},
   "outputs": [],
   "source": []
  },
  {
   "cell_type": "markdown",
   "id": "0e9d29b7-041e-49a4-9ff9-e8477252d509",
   "metadata": {},
   "source": [
    "### Change the index to a periodical object"
   ]
  },
  {
   "cell_type": "code",
   "execution_count": null,
   "id": "a8ba8575-8809-4520-a886-7345edb1de08",
   "metadata": {},
   "outputs": [],
   "source": []
  },
  {
   "cell_type": "markdown",
   "id": "4738617c-9c4f-4469-9e65-fab95af0fdba",
   "metadata": {},
   "source": [
    "### Export the data into an Excel again"
   ]
  },
  {
   "cell_type": "code",
   "execution_count": null,
   "id": "c9655a86-fb61-4a7b-bcd3-7c13c42d15c0",
   "metadata": {},
   "outputs": [],
   "source": []
  }
 ],
 "metadata": {
  "kernelspec": {
   "display_name": "Python 3 (ipykernel)",
   "language": "python",
   "name": "python3"
  },
  "language_info": {
   "codemirror_mode": {
    "name": "ipython",
    "version": 3
   },
   "file_extension": ".py",
   "mimetype": "text/x-python",
   "name": "python",
   "nbconvert_exporter": "python",
   "pygments_lexer": "ipython3",
   "version": "3.10.6"
  },
  "toc-autonumbering": true
 },
 "nbformat": 4,
 "nbformat_minor": 5
}
