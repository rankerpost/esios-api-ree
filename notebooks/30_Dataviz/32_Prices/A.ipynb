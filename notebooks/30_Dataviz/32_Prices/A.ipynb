{
 "cells": [
  {
   "cell_type": "markdown",
   "id": "4ec16ab7-51dd-4a1e-915b-8753b466f925",
   "metadata": {},
   "source": [
    "# Create Data Visualization for Energy Prices"
   ]
  },
  {
   "cell_type": "markdown",
   "id": "934e31ab-7f39-440d-8972-f0b0fd695396",
   "metadata": {},
   "source": [
    "https://www.esios.ree.es/es/analisis/10211?vis=1&start_date=01-01-2022T00%3A00&end_date=23-12-2022T23%3A55&compare_start_date=31-12-2021T00%3A00&groupby=day&compare_indicators=805,806,807,808,809,810,811,812,813,814,815,816,1277,10403,1286,1368"
   ]
  },
  {
   "cell_type": "markdown",
   "id": "bc7d8d19-34b7-4b8c-a6f2-6820644647fe",
   "metadata": {},
   "source": [
    "## Create list with energy prices indicators"
   ]
  },
  {
   "cell_type": "code",
   "execution_count": 3,
   "id": "3aee0733-413d-4eed-834d-65de44b223b0",
   "metadata": {},
   "outputs": [],
   "source": [
    "compare_indicators=[805,806,807,808,809,810,811,812,813,814,815,816,1277,10403,1286,1368]"
   ]
  },
  {
   "cell_type": "markdown",
   "id": "efc4037a-f180-474c-8695-13c342981849",
   "metadata": {},
   "source": [
    "## Generate the data with the `esios` library\n",
    "\n",
    "> You may need to change the `esios` library because it's made for p48 generation, not energy prices."
   ]
  },
  {
   "cell_type": "markdown",
   "id": "4e8898a8-9838-45e6-892c-62f18bf29f6e",
   "metadata": {},
   "source": [
    "### Get the `JSON` for one energy price"
   ]
  },
  {
   "cell_type": "code",
   "execution_count": null,
   "id": "a0e8f09e-0bb5-42d8-9dee-aee5a3500b6c",
   "metadata": {},
   "outputs": [],
   "source": []
  },
  {
   "cell_type": "markdown",
   "id": "b89b2646-2cf2-43ed-9d4c-8fcfb5ca51cd",
   "metadata": {},
   "source": [
    "### Process the `DataFrame`"
   ]
  },
  {
   "cell_type": "code",
   "execution_count": null,
   "id": "bb2ee3a1-b671-449a-919a-9c647f3ea034",
   "metadata": {},
   "outputs": [],
   "source": []
  },
  {
   "cell_type": "markdown",
   "id": "87ec0013-9167-4ebc-a9b4-4610814afb35",
   "metadata": {},
   "source": [
    "### Create an empty list"
   ]
  },
  {
   "cell_type": "code",
   "execution_count": null,
   "id": "8ce2d92e-a3fe-47bc-bd1c-9fb8e121ecf1",
   "metadata": {},
   "outputs": [],
   "source": []
  },
  {
   "cell_type": "markdown",
   "id": "3f854eec-5056-4a42-879e-34dc8aaadb6a",
   "metadata": {},
   "source": [
    "### Process the data for all indicators"
   ]
  },
  {
   "cell_type": "code",
   "execution_count": null,
   "id": "1e76ef34-0ec8-407b-8eb7-6ead51d6ee70",
   "metadata": {},
   "outputs": [],
   "source": []
  },
  {
   "cell_type": "markdown",
   "id": "f472bfd3-d1db-4ebc-9550-d8e05fdd4ba9",
   "metadata": {},
   "source": [
    "### Concat all the `DataFrame`s within the list"
   ]
  },
  {
   "cell_type": "code",
   "execution_count": null,
   "id": "67c70401-795e-4246-a6a3-9897427a28a1",
   "metadata": {},
   "outputs": [],
   "source": []
  },
  {
   "cell_type": "markdown",
   "id": "5b32584a-bdd9-4af1-94f4-b8f8341e9428",
   "metadata": {},
   "source": [
    "## Compute the daily pricing"
   ]
  },
  {
   "cell_type": "code",
   "execution_count": null,
   "id": "b6840a92-0ea1-4585-84c6-2a8de1b7da3c",
   "metadata": {},
   "outputs": [],
   "source": []
  },
  {
   "cell_type": "markdown",
   "id": "77c3913e-e9d9-4601-91fb-cfddedcec027",
   "metadata": {},
   "source": [
    "## Melt the daily energy prices `DataFrame`"
   ]
  },
  {
   "cell_type": "code",
   "execution_count": null,
   "id": "bc643309-cab3-4499-887f-8d9230908944",
   "metadata": {},
   "outputs": [],
   "source": []
  },
  {
   "cell_type": "markdown",
   "id": "f52321e9-f518-42ac-be62-5429162b4739",
   "metadata": {},
   "source": [
    "## Visualize the data"
   ]
  },
  {
   "cell_type": "markdown",
   "id": "e959fbe1-3c54-4250-945d-517f4b1ba4d0",
   "metadata": {},
   "source": [
    "### Bar plot"
   ]
  },
  {
   "cell_type": "markdown",
   "id": "7843acad-11c8-4d4c-9294-249ebf324e9a",
   "metadata": {},
   "source": [
    "#### Colors"
   ]
  },
  {
   "cell_type": "code",
   "execution_count": null,
   "id": "083bfca8-59d8-4670-a9a5-7fe32c96caa8",
   "metadata": {},
   "outputs": [],
   "source": []
  },
  {
   "cell_type": "markdown",
   "id": "081f4337-9a8c-4c7a-8cbb-dae718f3ee7c",
   "metadata": {},
   "source": [
    "#### Facets"
   ]
  },
  {
   "cell_type": "code",
   "execution_count": null,
   "id": "ae07bf69-cee9-4474-ad98-a949c85d8049",
   "metadata": {},
   "outputs": [],
   "source": []
  },
  {
   "cell_type": "markdown",
   "id": "97702d5d-5cf7-467e-840f-aa60eb20e39c",
   "metadata": {},
   "source": [
    "### Area plot"
   ]
  },
  {
   "cell_type": "markdown",
   "id": "9d0cfcdd-95f5-43ff-b093-5f5ff75b912d",
   "metadata": {
    "tags": []
   },
   "source": [
    "#### Colors"
   ]
  },
  {
   "cell_type": "code",
   "execution_count": null,
   "id": "487a64ff-c759-4749-b8f2-e434b5b676ed",
   "metadata": {},
   "outputs": [],
   "source": []
  },
  {
   "cell_type": "markdown",
   "id": "94fab934-64bb-41d2-9d60-fac83075fb4b",
   "metadata": {},
   "source": [
    "#### Facets"
   ]
  },
  {
   "cell_type": "code",
   "execution_count": null,
   "id": "d7f3e0e6-bad3-4ba4-b749-00f1f000a76e",
   "metadata": {},
   "outputs": [],
   "source": []
  },
  {
   "cell_type": "markdown",
   "id": "140d8500-dcaf-4b4f-b5cf-89bbb79e34ca",
   "metadata": {},
   "source": [
    "### Line plot"
   ]
  },
  {
   "cell_type": "markdown",
   "id": "018cbac7-ed58-432d-828c-d70076cf89f5",
   "metadata": {
    "tags": []
   },
   "source": [
    "#### Colors"
   ]
  },
  {
   "cell_type": "code",
   "execution_count": null,
   "id": "66729d14-83ee-4fc8-8efe-e05e51d82c7c",
   "metadata": {},
   "outputs": [],
   "source": []
  },
  {
   "cell_type": "markdown",
   "id": "cb94d165-0521-4ad0-a56c-ac014a20049a",
   "metadata": {},
   "source": [
    "#### Facets"
   ]
  },
  {
   "cell_type": "code",
   "execution_count": null,
   "id": "4d532de0-a71f-4835-8fa4-a12945fc6eb4",
   "metadata": {},
   "outputs": [],
   "source": []
  }
 ],
 "metadata": {
  "kernelspec": {
   "display_name": "Python 3 (ipykernel)",
   "language": "python",
   "name": "python3"
  },
  "language_info": {
   "codemirror_mode": {
    "name": "ipython",
    "version": 3
   },
   "file_extension": ".py",
   "mimetype": "text/x-python",
   "name": "python",
   "nbconvert_exporter": "python",
   "pygments_lexer": "ipython3",
   "version": "3.9.10"
  },
  "toc-autonumbering": true,
  "toc-showcode": true,
  "vscode": {
   "interpreter": {
    "hash": "31f2aee4e71d21fbe5cf8b01ff0e069b9275f58929596ceb00d14d90e3e16cd6"
   }
  }
 },
 "nbformat": 4,
 "nbformat_minor": 5
}
