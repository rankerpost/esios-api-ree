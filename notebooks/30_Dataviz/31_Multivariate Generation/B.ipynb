{
 "cells": [
  {
   "cell_type": "markdown",
   "id": "4ec16ab7-51dd-4a1e-915b-8753b466f925",
   "metadata": {},
   "source": [
    "# Create Data Visualization"
   ]
  },
  {
   "cell_type": "markdown",
   "id": "4ec44a19-a26a-4404-bf62-ef815601c5c4",
   "metadata": {},
   "source": [
    "https://www.esios.ree.es/es/balance?date=22-12-2022&program=P48&agg=day"
   ]
  },
  {
   "cell_type": "markdown",
   "id": "429ae846-82ab-40e6-9e4f-24412bab23e6",
   "metadata": {},
   "source": [
    "## Load the data"
   ]
  },
  {
   "cell_type": "code",
   "execution_count": 28,
   "id": "e981d84b-dab7-4048-969d-cba05bc63024",
   "metadata": {},
   "outputs": [
    {
     "data": {
      "text/html": [
       "<div>\n",
       "<style scoped>\n",
       "    .dataframe tbody tr th:only-of-type {\n",
       "        vertical-align: middle;\n",
       "    }\n",
       "\n",
       "    .dataframe tbody tr th {\n",
       "        vertical-align: top;\n",
       "    }\n",
       "\n",
       "    .dataframe thead th {\n",
       "        text-align: right;\n",
       "    }\n",
       "</style>\n",
       "<table border=\"1\" class=\"dataframe\">\n",
       "  <thead>\n",
       "    <tr style=\"text-align: right;\">\n",
       "      <th></th>\n",
       "      <th>Turbinación bombeo</th>\n",
       "      <th>Nuclear</th>\n",
       "      <th>Ciclo combinado</th>\n",
       "      <th>Solar fotovoltaica</th>\n",
       "      <th>Solar térmica</th>\n",
       "      <th>Consumo bombeo</th>\n",
       "      <th>Enlace Baleares</th>\n",
       "      <th>Carbón</th>\n",
       "      <th>Eólica</th>\n",
       "      <th>Cogeneración</th>\n",
       "      <th>Residuos no renovables</th>\n",
       "      <th>otras renovables</th>\n",
       "      <th>Saldo Portugal</th>\n",
       "      <th>Saldo Francia</th>\n",
       "      <th>Saldo Marruecos</th>\n",
       "      <th>Saldo Andorra</th>\n",
       "      <th>Ajuste P48</th>\n",
       "      <th>Hidráulica</th>\n",
       "    </tr>\n",
       "    <tr>\n",
       "      <th>datetime</th>\n",
       "      <th></th>\n",
       "      <th></th>\n",
       "      <th></th>\n",
       "      <th></th>\n",
       "      <th></th>\n",
       "      <th></th>\n",
       "      <th></th>\n",
       "      <th></th>\n",
       "      <th></th>\n",
       "      <th></th>\n",
       "      <th></th>\n",
       "      <th></th>\n",
       "      <th></th>\n",
       "      <th></th>\n",
       "      <th></th>\n",
       "      <th></th>\n",
       "      <th></th>\n",
       "      <th></th>\n",
       "    </tr>\n",
       "  </thead>\n",
       "  <tbody>\n",
       "    <tr>\n",
       "      <th>2022-01-01 00:00:00</th>\n",
       "      <td>50.000</td>\n",
       "      <td>6096.70</td>\n",
       "      <td>1885.40</td>\n",
       "      <td>7.1</td>\n",
       "      <td>10.0</td>\n",
       "      <td>-1243.0</td>\n",
       "      <td>-40.8</td>\n",
       "      <td>810.0</td>\n",
       "      <td>6380.800</td>\n",
       "      <td>1742.8</td>\n",
       "      <td>312.500</td>\n",
       "      <td>584.1</td>\n",
       "      <td>-761.10</td>\n",
       "      <td>3330.0</td>\n",
       "      <td>33.0</td>\n",
       "      <td>-44.0</td>\n",
       "      <td>0.0</td>\n",
       "      <td>2171.6</td>\n",
       "    </tr>\n",
       "    <tr>\n",
       "      <th>2022-01-01 01:00:00</th>\n",
       "      <td>0.000</td>\n",
       "      <td>6098.60</td>\n",
       "      <td>1948.80</td>\n",
       "      <td>19.1</td>\n",
       "      <td>10.0</td>\n",
       "      <td>-1688.0</td>\n",
       "      <td>-40.8</td>\n",
       "      <td>815.0</td>\n",
       "      <td>6563.300</td>\n",
       "      <td>1729.1</td>\n",
       "      <td>313.900</td>\n",
       "      <td>572.9</td>\n",
       "      <td>-1673.80</td>\n",
       "      <td>3330.0</td>\n",
       "      <td>133.0</td>\n",
       "      <td>-42.0</td>\n",
       "      <td>100.0</td>\n",
       "      <td>2075.1</td>\n",
       "    </tr>\n",
       "    <tr>\n",
       "      <th>...</th>\n",
       "      <td>...</td>\n",
       "      <td>...</td>\n",
       "      <td>...</td>\n",
       "      <td>...</td>\n",
       "      <td>...</td>\n",
       "      <td>...</td>\n",
       "      <td>...</td>\n",
       "      <td>...</td>\n",
       "      <td>...</td>\n",
       "      <td>...</td>\n",
       "      <td>...</td>\n",
       "      <td>...</td>\n",
       "      <td>...</td>\n",
       "      <td>...</td>\n",
       "      <td>...</td>\n",
       "      <td>...</td>\n",
       "      <td>...</td>\n",
       "      <td>...</td>\n",
       "    </tr>\n",
       "    <tr>\n",
       "      <th>2022-12-31 22:00:00</th>\n",
       "      <td>823.625</td>\n",
       "      <td>6457.75</td>\n",
       "      <td>1725.00</td>\n",
       "      <td>1.7</td>\n",
       "      <td>0.0</td>\n",
       "      <td>-1846.7</td>\n",
       "      <td>-153.0</td>\n",
       "      <td>260.0</td>\n",
       "      <td>8871.225</td>\n",
       "      <td>760.6</td>\n",
       "      <td>264.700</td>\n",
       "      <td>259.2</td>\n",
       "      <td>3355.00</td>\n",
       "      <td>-1715.8</td>\n",
       "      <td>-740.0</td>\n",
       "      <td>-67.0</td>\n",
       "      <td>-200.0</td>\n",
       "      <td>4055.5</td>\n",
       "    </tr>\n",
       "    <tr>\n",
       "      <th>2022-12-31 23:00:00</th>\n",
       "      <td>134.500</td>\n",
       "      <td>1604.80</td>\n",
       "      <td>526.45</td>\n",
       "      <td>0.4</td>\n",
       "      <td>0.0</td>\n",
       "      <td>-609.9</td>\n",
       "      <td>-32.0</td>\n",
       "      <td>65.0</td>\n",
       "      <td>1909.925</td>\n",
       "      <td>190.4</td>\n",
       "      <td>66.225</td>\n",
       "      <td>64.3</td>\n",
       "      <td>688.75</td>\n",
       "      <td>-64.5</td>\n",
       "      <td>-187.5</td>\n",
       "      <td>-15.5</td>\n",
       "      <td>-50.0</td>\n",
       "      <td>998.8</td>\n",
       "    </tr>\n",
       "  </tbody>\n",
       "</table>\n",
       "<p>8760 rows × 18 columns</p>\n",
       "</div>"
      ],
      "text/plain": [
       "                     Turbinación bombeo  Nuclear  Ciclo combinado  \\\n",
       "datetime                                                            \n",
       "2022-01-01 00:00:00              50.000  6096.70          1885.40   \n",
       "2022-01-01 01:00:00               0.000  6098.60          1948.80   \n",
       "...                                 ...      ...              ...   \n",
       "2022-12-31 22:00:00             823.625  6457.75          1725.00   \n",
       "2022-12-31 23:00:00             134.500  1604.80           526.45   \n",
       "\n",
       "                     Solar fotovoltaica  Solar térmica  Consumo bombeo  \\\n",
       "datetime                                                                 \n",
       "2022-01-01 00:00:00                 7.1           10.0         -1243.0   \n",
       "2022-01-01 01:00:00                19.1           10.0         -1688.0   \n",
       "...                                 ...            ...             ...   \n",
       "2022-12-31 22:00:00                 1.7            0.0         -1846.7   \n",
       "2022-12-31 23:00:00                 0.4            0.0          -609.9   \n",
       "\n",
       "                     Enlace Baleares  Carbón    Eólica  Cogeneración  \\\n",
       "datetime                                                               \n",
       "2022-01-01 00:00:00            -40.8   810.0  6380.800        1742.8   \n",
       "2022-01-01 01:00:00            -40.8   815.0  6563.300        1729.1   \n",
       "...                              ...     ...       ...           ...   \n",
       "2022-12-31 22:00:00           -153.0   260.0  8871.225         760.6   \n",
       "2022-12-31 23:00:00            -32.0    65.0  1909.925         190.4   \n",
       "\n",
       "                     Residuos no renovables  otras renovables  Saldo Portugal  \\\n",
       "datetime                                                                        \n",
       "2022-01-01 00:00:00                 312.500             584.1         -761.10   \n",
       "2022-01-01 01:00:00                 313.900             572.9        -1673.80   \n",
       "...                                     ...               ...             ...   \n",
       "2022-12-31 22:00:00                 264.700             259.2         3355.00   \n",
       "2022-12-31 23:00:00                  66.225              64.3          688.75   \n",
       "\n",
       "                     Saldo Francia  Saldo Marruecos  Saldo Andorra  \\\n",
       "datetime                                                             \n",
       "2022-01-01 00:00:00         3330.0             33.0          -44.0   \n",
       "2022-01-01 01:00:00         3330.0            133.0          -42.0   \n",
       "...                            ...              ...            ...   \n",
       "2022-12-31 22:00:00        -1715.8           -740.0          -67.0   \n",
       "2022-12-31 23:00:00          -64.5           -187.5          -15.5   \n",
       "\n",
       "                     Ajuste P48  Hidráulica  \n",
       "datetime                                     \n",
       "2022-01-01 00:00:00         0.0      2171.6  \n",
       "2022-01-01 01:00:00       100.0      2075.1  \n",
       "...                         ...         ...  \n",
       "2022-12-31 22:00:00      -200.0      4055.5  \n",
       "2022-12-31 23:00:00       -50.0       998.8  \n",
       "\n",
       "[8760 rows x 18 columns]"
      ]
     },
     "execution_count": 28,
     "metadata": {},
     "output_type": "execute_result"
    }
   ],
   "source": [
    "import pandas as pd #!\n",
    "\n",
    "df_p48 = pd.read_excel('../../../data/p48_2022.xlsx', index_col=0, parse_dates=True)\n",
    "df_p48"
   ]
  },
  {
   "cell_type": "markdown",
   "id": "5b32584a-bdd9-4af1-94f4-b8f8341e9428",
   "metadata": {},
   "source": [
    "## Compute the daily p48 generation"
   ]
  },
  {
   "cell_type": "code",
   "execution_count": 29,
   "id": "65fa491c-9fdc-4b75-9192-03dacd86f420",
   "metadata": {},
   "outputs": [
    {
     "data": {
      "text/html": [
       "<div>\n",
       "<style scoped>\n",
       "    .dataframe tbody tr th:only-of-type {\n",
       "        vertical-align: middle;\n",
       "    }\n",
       "\n",
       "    .dataframe tbody tr th {\n",
       "        vertical-align: top;\n",
       "    }\n",
       "\n",
       "    .dataframe thead th {\n",
       "        text-align: right;\n",
       "    }\n",
       "</style>\n",
       "<table border=\"1\" class=\"dataframe\">\n",
       "  <thead>\n",
       "    <tr style=\"text-align: right;\">\n",
       "      <th></th>\n",
       "      <th>Turbinación bombeo</th>\n",
       "      <th>Nuclear</th>\n",
       "      <th>Ciclo combinado</th>\n",
       "      <th>Solar fotovoltaica</th>\n",
       "      <th>Solar térmica</th>\n",
       "      <th>Consumo bombeo</th>\n",
       "      <th>Enlace Baleares</th>\n",
       "      <th>Carbón</th>\n",
       "      <th>Eólica</th>\n",
       "      <th>Cogeneración</th>\n",
       "      <th>Residuos no renovables</th>\n",
       "      <th>otras renovables</th>\n",
       "      <th>Saldo Portugal</th>\n",
       "      <th>Saldo Francia</th>\n",
       "      <th>Saldo Marruecos</th>\n",
       "      <th>Saldo Andorra</th>\n",
       "      <th>Ajuste P48</th>\n",
       "      <th>Hidráulica</th>\n",
       "    </tr>\n",
       "    <tr>\n",
       "      <th>datetime</th>\n",
       "      <th></th>\n",
       "      <th></th>\n",
       "      <th></th>\n",
       "      <th></th>\n",
       "      <th></th>\n",
       "      <th></th>\n",
       "      <th></th>\n",
       "      <th></th>\n",
       "      <th></th>\n",
       "      <th></th>\n",
       "      <th></th>\n",
       "      <th></th>\n",
       "      <th></th>\n",
       "      <th></th>\n",
       "      <th></th>\n",
       "      <th></th>\n",
       "      <th></th>\n",
       "      <th></th>\n",
       "    </tr>\n",
       "  </thead>\n",
       "  <tbody>\n",
       "    <tr>\n",
       "      <th>2022-01-01</th>\n",
       "      <td>8508.200</td>\n",
       "      <td>146306.300</td>\n",
       "      <td>46225.70</td>\n",
       "      <td>46594.700</td>\n",
       "      <td>7048.3</td>\n",
       "      <td>-49067.800</td>\n",
       "      <td>-979.2</td>\n",
       "      <td>19191.10</td>\n",
       "      <td>139893.000</td>\n",
       "      <td>41592.3</td>\n",
       "      <td>7512.300</td>\n",
       "      <td>13938.6</td>\n",
       "      <td>-43698.500</td>\n",
       "      <td>64866.6</td>\n",
       "      <td>2960.0</td>\n",
       "      <td>-1170.0</td>\n",
       "      <td>-3900.00</td>\n",
       "      <td>52468.200</td>\n",
       "    </tr>\n",
       "    <tr>\n",
       "      <th>2022-01-02</th>\n",
       "      <td>11273.900</td>\n",
       "      <td>146316.500</td>\n",
       "      <td>94889.20</td>\n",
       "      <td>41061.000</td>\n",
       "      <td>4779.2</td>\n",
       "      <td>-26987.800</td>\n",
       "      <td>-979.2</td>\n",
       "      <td>20247.70</td>\n",
       "      <td>109515.800</td>\n",
       "      <td>50642.6</td>\n",
       "      <td>7625.000</td>\n",
       "      <td>14507.0</td>\n",
       "      <td>-55552.900</td>\n",
       "      <td>74410.7</td>\n",
       "      <td>3869.4</td>\n",
       "      <td>-1223.0</td>\n",
       "      <td>-2950.00</td>\n",
       "      <td>51174.900</td>\n",
       "    </tr>\n",
       "    <tr>\n",
       "      <th>...</th>\n",
       "      <td>...</td>\n",
       "      <td>...</td>\n",
       "      <td>...</td>\n",
       "      <td>...</td>\n",
       "      <td>...</td>\n",
       "      <td>...</td>\n",
       "      <td>...</td>\n",
       "      <td>...</td>\n",
       "      <td>...</td>\n",
       "      <td>...</td>\n",
       "      <td>...</td>\n",
       "      <td>...</td>\n",
       "      <td>...</td>\n",
       "      <td>...</td>\n",
       "      <td>...</td>\n",
       "      <td>...</td>\n",
       "      <td>...</td>\n",
       "      <td>...</td>\n",
       "    </tr>\n",
       "    <tr>\n",
       "      <th>2022-12-30</th>\n",
       "      <td>12695.875</td>\n",
       "      <td>162528.875</td>\n",
       "      <td>28471.80</td>\n",
       "      <td>38280.325</td>\n",
       "      <td>1502.7</td>\n",
       "      <td>-67283.325</td>\n",
       "      <td>-4141.0</td>\n",
       "      <td>8145.10</td>\n",
       "      <td>314274.925</td>\n",
       "      <td>21089.6</td>\n",
       "      <td>6206.100</td>\n",
       "      <td>6586.2</td>\n",
       "      <td>50542.100</td>\n",
       "      <td>-54318.5</td>\n",
       "      <td>-12840.0</td>\n",
       "      <td>-1217.0</td>\n",
       "      <td>252.00</td>\n",
       "      <td>76542.575</td>\n",
       "    </tr>\n",
       "    <tr>\n",
       "      <th>2022-12-31</th>\n",
       "      <td>14834.488</td>\n",
       "      <td>149035.975</td>\n",
       "      <td>36128.75</td>\n",
       "      <td>52060.875</td>\n",
       "      <td>5355.4</td>\n",
       "      <td>-65530.450</td>\n",
       "      <td>-3334.0</td>\n",
       "      <td>6771.85</td>\n",
       "      <td>175047.375</td>\n",
       "      <td>18808.9</td>\n",
       "      <td>6096.625</td>\n",
       "      <td>6060.7</td>\n",
       "      <td>59926.708</td>\n",
       "      <td>-15145.0</td>\n",
       "      <td>-13567.5</td>\n",
       "      <td>-1436.5</td>\n",
       "      <td>-10106.25</td>\n",
       "      <td>88236.784</td>\n",
       "    </tr>\n",
       "  </tbody>\n",
       "</table>\n",
       "<p>365 rows × 18 columns</p>\n",
       "</div>"
      ],
      "text/plain": [
       "            Turbinación bombeo     Nuclear  Ciclo combinado  \\\n",
       "datetime                                                      \n",
       "2022-01-01            8508.200  146306.300         46225.70   \n",
       "2022-01-02           11273.900  146316.500         94889.20   \n",
       "...                        ...         ...              ...   \n",
       "2022-12-30           12695.875  162528.875         28471.80   \n",
       "2022-12-31           14834.488  149035.975         36128.75   \n",
       "\n",
       "            Solar fotovoltaica  Solar térmica  Consumo bombeo  \\\n",
       "datetime                                                        \n",
       "2022-01-01           46594.700         7048.3      -49067.800   \n",
       "2022-01-02           41061.000         4779.2      -26987.800   \n",
       "...                        ...            ...             ...   \n",
       "2022-12-30           38280.325         1502.7      -67283.325   \n",
       "2022-12-31           52060.875         5355.4      -65530.450   \n",
       "\n",
       "            Enlace Baleares    Carbón      Eólica  Cogeneración  \\\n",
       "datetime                                                          \n",
       "2022-01-01           -979.2  19191.10  139893.000       41592.3   \n",
       "2022-01-02           -979.2  20247.70  109515.800       50642.6   \n",
       "...                     ...       ...         ...           ...   \n",
       "2022-12-30          -4141.0   8145.10  314274.925       21089.6   \n",
       "2022-12-31          -3334.0   6771.85  175047.375       18808.9   \n",
       "\n",
       "            Residuos no renovables  otras renovables  Saldo Portugal  \\\n",
       "datetime                                                               \n",
       "2022-01-01                7512.300           13938.6      -43698.500   \n",
       "2022-01-02                7625.000           14507.0      -55552.900   \n",
       "...                            ...               ...             ...   \n",
       "2022-12-30                6206.100            6586.2       50542.100   \n",
       "2022-12-31                6096.625            6060.7       59926.708   \n",
       "\n",
       "            Saldo Francia  Saldo Marruecos  Saldo Andorra  Ajuste P48  \\\n",
       "datetime                                                                \n",
       "2022-01-01        64866.6           2960.0        -1170.0    -3900.00   \n",
       "2022-01-02        74410.7           3869.4        -1223.0    -2950.00   \n",
       "...                   ...              ...            ...         ...   \n",
       "2022-12-30       -54318.5         -12840.0        -1217.0      252.00   \n",
       "2022-12-31       -15145.0         -13567.5        -1436.5   -10106.25   \n",
       "\n",
       "            Hidráulica  \n",
       "datetime                \n",
       "2022-01-01   52468.200  \n",
       "2022-01-02   51174.900  \n",
       "...                ...  \n",
       "2022-12-30   76542.575  \n",
       "2022-12-31   88236.784  \n",
       "\n",
       "[365 rows x 18 columns]"
      ]
     },
     "execution_count": 29,
     "metadata": {},
     "output_type": "execute_result"
    }
   ],
   "source": [
    "df_p48_daily = df_p48.resample(rule='1D').sum()\n",
    "df_p48_daily"
   ]
  },
  {
   "cell_type": "markdown",
   "id": "f4c79fec",
   "metadata": {},
   "source": [
    "## Select one  month"
   ]
  },
  {
   "cell_type": "code",
   "execution_count": 30,
   "id": "59723cf9",
   "metadata": {},
   "outputs": [
    {
     "data": {
      "text/html": [
       "<div>\n",
       "<style scoped>\n",
       "    .dataframe tbody tr th:only-of-type {\n",
       "        vertical-align: middle;\n",
       "    }\n",
       "\n",
       "    .dataframe tbody tr th {\n",
       "        vertical-align: top;\n",
       "    }\n",
       "\n",
       "    .dataframe thead th {\n",
       "        text-align: right;\n",
       "    }\n",
       "</style>\n",
       "<table border=\"1\" class=\"dataframe\">\n",
       "  <thead>\n",
       "    <tr style=\"text-align: right;\">\n",
       "      <th></th>\n",
       "      <th>Turbinación bombeo</th>\n",
       "      <th>Nuclear</th>\n",
       "      <th>Ciclo combinado</th>\n",
       "      <th>Solar fotovoltaica</th>\n",
       "      <th>Solar térmica</th>\n",
       "      <th>Consumo bombeo</th>\n",
       "      <th>Enlace Baleares</th>\n",
       "      <th>Carbón</th>\n",
       "      <th>Eólica</th>\n",
       "      <th>Cogeneración</th>\n",
       "      <th>Residuos no renovables</th>\n",
       "      <th>otras renovables</th>\n",
       "      <th>Saldo Portugal</th>\n",
       "      <th>Saldo Francia</th>\n",
       "      <th>Saldo Marruecos</th>\n",
       "      <th>Saldo Andorra</th>\n",
       "      <th>Ajuste P48</th>\n",
       "      <th>Hidráulica</th>\n",
       "    </tr>\n",
       "    <tr>\n",
       "      <th>datetime</th>\n",
       "      <th></th>\n",
       "      <th></th>\n",
       "      <th></th>\n",
       "      <th></th>\n",
       "      <th></th>\n",
       "      <th></th>\n",
       "      <th></th>\n",
       "      <th></th>\n",
       "      <th></th>\n",
       "      <th></th>\n",
       "      <th></th>\n",
       "      <th></th>\n",
       "      <th></th>\n",
       "      <th></th>\n",
       "      <th></th>\n",
       "      <th></th>\n",
       "      <th></th>\n",
       "      <th></th>\n",
       "    </tr>\n",
       "  </thead>\n",
       "  <tbody>\n",
       "    <tr>\n",
       "      <th>2022-12-01</th>\n",
       "      <td>9475.800</td>\n",
       "      <td>169400.900</td>\n",
       "      <td>188295.075</td>\n",
       "      <td>48341.025</td>\n",
       "      <td>3152.2</td>\n",
       "      <td>-11761.025</td>\n",
       "      <td>-1325.6</td>\n",
       "      <td>25422.900</td>\n",
       "      <td>144571.275</td>\n",
       "      <td>44488.75</td>\n",
       "      <td>6036.400</td>\n",
       "      <td>12098.93</td>\n",
       "      <td>21038.200</td>\n",
       "      <td>-40800.0</td>\n",
       "      <td>-6850.0</td>\n",
       "      <td>-1241.0</td>\n",
       "      <td>1535.00</td>\n",
       "      <td>85416.900</td>\n",
       "    </tr>\n",
       "    <tr>\n",
       "      <th>2022-12-02</th>\n",
       "      <td>6406.417</td>\n",
       "      <td>169522.600</td>\n",
       "      <td>285396.367</td>\n",
       "      <td>50708.700</td>\n",
       "      <td>5637.6</td>\n",
       "      <td>-9484.400</td>\n",
       "      <td>-1475.4</td>\n",
       "      <td>26381.758</td>\n",
       "      <td>76543.005</td>\n",
       "      <td>43460.00</td>\n",
       "      <td>6306.000</td>\n",
       "      <td>12386.80</td>\n",
       "      <td>-5325.000</td>\n",
       "      <td>-48150.0</td>\n",
       "      <td>-5500.0</td>\n",
       "      <td>-1385.0</td>\n",
       "      <td>197.50</td>\n",
       "      <td>87180.300</td>\n",
       "    </tr>\n",
       "    <tr>\n",
       "      <th>...</th>\n",
       "      <td>...</td>\n",
       "      <td>...</td>\n",
       "      <td>...</td>\n",
       "      <td>...</td>\n",
       "      <td>...</td>\n",
       "      <td>...</td>\n",
       "      <td>...</td>\n",
       "      <td>...</td>\n",
       "      <td>...</td>\n",
       "      <td>...</td>\n",
       "      <td>...</td>\n",
       "      <td>...</td>\n",
       "      <td>...</td>\n",
       "      <td>...</td>\n",
       "      <td>...</td>\n",
       "      <td>...</td>\n",
       "      <td>...</td>\n",
       "      <td>...</td>\n",
       "    </tr>\n",
       "    <tr>\n",
       "      <th>2022-12-30</th>\n",
       "      <td>12695.875</td>\n",
       "      <td>162528.875</td>\n",
       "      <td>28471.800</td>\n",
       "      <td>38280.325</td>\n",
       "      <td>1502.7</td>\n",
       "      <td>-67283.325</td>\n",
       "      <td>-4141.0</td>\n",
       "      <td>8145.100</td>\n",
       "      <td>314274.925</td>\n",
       "      <td>21089.60</td>\n",
       "      <td>6206.100</td>\n",
       "      <td>6586.20</td>\n",
       "      <td>50542.100</td>\n",
       "      <td>-54318.5</td>\n",
       "      <td>-12840.0</td>\n",
       "      <td>-1217.0</td>\n",
       "      <td>252.00</td>\n",
       "      <td>76542.575</td>\n",
       "    </tr>\n",
       "    <tr>\n",
       "      <th>2022-12-31</th>\n",
       "      <td>14834.488</td>\n",
       "      <td>149035.975</td>\n",
       "      <td>36128.750</td>\n",
       "      <td>52060.875</td>\n",
       "      <td>5355.4</td>\n",
       "      <td>-65530.450</td>\n",
       "      <td>-3334.0</td>\n",
       "      <td>6771.850</td>\n",
       "      <td>175047.375</td>\n",
       "      <td>18808.90</td>\n",
       "      <td>6096.625</td>\n",
       "      <td>6060.70</td>\n",
       "      <td>59926.708</td>\n",
       "      <td>-15145.0</td>\n",
       "      <td>-13567.5</td>\n",
       "      <td>-1436.5</td>\n",
       "      <td>-10106.25</td>\n",
       "      <td>88236.784</td>\n",
       "    </tr>\n",
       "  </tbody>\n",
       "</table>\n",
       "<p>31 rows × 18 columns</p>\n",
       "</div>"
      ],
      "text/plain": [
       "            Turbinación bombeo     Nuclear  Ciclo combinado  \\\n",
       "datetime                                                      \n",
       "2022-12-01            9475.800  169400.900       188295.075   \n",
       "2022-12-02            6406.417  169522.600       285396.367   \n",
       "...                        ...         ...              ...   \n",
       "2022-12-30           12695.875  162528.875        28471.800   \n",
       "2022-12-31           14834.488  149035.975        36128.750   \n",
       "\n",
       "            Solar fotovoltaica  Solar térmica  Consumo bombeo  \\\n",
       "datetime                                                        \n",
       "2022-12-01           48341.025         3152.2      -11761.025   \n",
       "2022-12-02           50708.700         5637.6       -9484.400   \n",
       "...                        ...            ...             ...   \n",
       "2022-12-30           38280.325         1502.7      -67283.325   \n",
       "2022-12-31           52060.875         5355.4      -65530.450   \n",
       "\n",
       "            Enlace Baleares     Carbón      Eólica  Cogeneración  \\\n",
       "datetime                                                           \n",
       "2022-12-01          -1325.6  25422.900  144571.275      44488.75   \n",
       "2022-12-02          -1475.4  26381.758   76543.005      43460.00   \n",
       "...                     ...        ...         ...           ...   \n",
       "2022-12-30          -4141.0   8145.100  314274.925      21089.60   \n",
       "2022-12-31          -3334.0   6771.850  175047.375      18808.90   \n",
       "\n",
       "            Residuos no renovables  otras renovables  Saldo Portugal  \\\n",
       "datetime                                                               \n",
       "2022-12-01                6036.400          12098.93       21038.200   \n",
       "2022-12-02                6306.000          12386.80       -5325.000   \n",
       "...                            ...               ...             ...   \n",
       "2022-12-30                6206.100           6586.20       50542.100   \n",
       "2022-12-31                6096.625           6060.70       59926.708   \n",
       "\n",
       "            Saldo Francia  Saldo Marruecos  Saldo Andorra  Ajuste P48  \\\n",
       "datetime                                                                \n",
       "2022-12-01       -40800.0          -6850.0        -1241.0     1535.00   \n",
       "2022-12-02       -48150.0          -5500.0        -1385.0      197.50   \n",
       "...                   ...              ...            ...         ...   \n",
       "2022-12-30       -54318.5         -12840.0        -1217.0      252.00   \n",
       "2022-12-31       -15145.0         -13567.5        -1436.5   -10106.25   \n",
       "\n",
       "            Hidráulica  \n",
       "datetime                \n",
       "2022-12-01   85416.900  \n",
       "2022-12-02   87180.300  \n",
       "...                ...  \n",
       "2022-12-30   76542.575  \n",
       "2022-12-31   88236.784  \n",
       "\n",
       "[31 rows x 18 columns]"
      ]
     },
     "execution_count": 30,
     "metadata": {},
     "output_type": "execute_result"
    }
   ],
   "source": [
    "df = df_p48_daily.loc['2022-12']\n",
    "df"
   ]
  },
  {
   "cell_type": "code",
   "execution_count": 31,
   "id": "c02d99b6-6175-4db5-b0e1-c2c7b0e62c69",
   "metadata": {},
   "outputs": [
    {
     "data": {
      "application/vnd.plotly.v1+json": {
       "config": {
        "plotlyServerURL": "https://plot.ly"
       },
       "data": [
        {
         "alignmentgroup": "True",
         "hovertemplate": "variable=Turbinación bombeo<br>datetime=%{x}<br>value=%{y}<extra></extra>",
         "legendgroup": "Turbinación bombeo",
         "marker": {
          "color": "#636efa",
          "pattern": {
           "shape": ""
          }
         },
         "name": "Turbinación bombeo",
         "offsetgroup": "Turbinación bombeo",
         "orientation": "v",
         "showlegend": true,
         "textposition": "auto",
         "type": "bar",
         "x": [
          "2022-12-01T00:00:00",
          "2022-12-02T00:00:00",
          "2022-12-03T00:00:00",
          "2022-12-04T00:00:00",
          "2022-12-05T00:00:00",
          "2022-12-06T00:00:00",
          "2022-12-07T00:00:00",
          "2022-12-08T00:00:00",
          "2022-12-09T00:00:00",
          "2022-12-10T00:00:00",
          "2022-12-11T00:00:00",
          "2022-12-12T00:00:00",
          "2022-12-13T00:00:00",
          "2022-12-14T00:00:00",
          "2022-12-15T00:00:00",
          "2022-12-16T00:00:00",
          "2022-12-17T00:00:00",
          "2022-12-18T00:00:00",
          "2022-12-19T00:00:00",
          "2022-12-20T00:00:00",
          "2022-12-21T00:00:00",
          "2022-12-22T00:00:00",
          "2022-12-23T00:00:00",
          "2022-12-24T00:00:00",
          "2022-12-25T00:00:00",
          "2022-12-26T00:00:00",
          "2022-12-27T00:00:00",
          "2022-12-28T00:00:00",
          "2022-12-29T00:00:00",
          "2022-12-30T00:00:00",
          "2022-12-31T00:00:00"
         ],
         "xaxis": "x",
         "y": [
          9475.8,
          6406.417,
          14898.15,
          7777.625,
          12508.775,
          8886.075,
          2728.8940000000002,
          11663,
          6884.525,
          5805.15,
          7923.65,
          7572.9,
          13910.550000000001,
          16857.975,
          10475.1,
          10222.025,
          5342.625,
          6645.225,
          12809.65,
          14355.25,
          11341.1,
          14284.725,
          16210.5,
          14110.775,
          9824.525,
          17833.65,
          23846.325,
          19804.125,
          26680.933,
          12695.875,
          14834.488000000001
         ],
         "yaxis": "y"
        },
        {
         "alignmentgroup": "True",
         "hovertemplate": "variable=Nuclear<br>datetime=%{x}<br>value=%{y}<extra></extra>",
         "legendgroup": "Nuclear",
         "marker": {
          "color": "#EF553B",
          "pattern": {
           "shape": ""
          }
         },
         "name": "Nuclear",
         "offsetgroup": "Nuclear",
         "orientation": "v",
         "showlegend": true,
         "textposition": "auto",
         "type": "bar",
         "x": [
          "2022-12-01T00:00:00",
          "2022-12-02T00:00:00",
          "2022-12-03T00:00:00",
          "2022-12-04T00:00:00",
          "2022-12-05T00:00:00",
          "2022-12-06T00:00:00",
          "2022-12-07T00:00:00",
          "2022-12-08T00:00:00",
          "2022-12-09T00:00:00",
          "2022-12-10T00:00:00",
          "2022-12-11T00:00:00",
          "2022-12-12T00:00:00",
          "2022-12-13T00:00:00",
          "2022-12-14T00:00:00",
          "2022-12-15T00:00:00",
          "2022-12-16T00:00:00",
          "2022-12-17T00:00:00",
          "2022-12-18T00:00:00",
          "2022-12-19T00:00:00",
          "2022-12-20T00:00:00",
          "2022-12-21T00:00:00",
          "2022-12-22T00:00:00",
          "2022-12-23T00:00:00",
          "2022-12-24T00:00:00",
          "2022-12-25T00:00:00",
          "2022-12-26T00:00:00",
          "2022-12-27T00:00:00",
          "2022-12-28T00:00:00",
          "2022-12-29T00:00:00",
          "2022-12-30T00:00:00",
          "2022-12-31T00:00:00"
         ],
         "xaxis": "x",
         "y": [
          169400.9,
          169522.6,
          168810.9,
          168845,
          169236.2,
          157636.2,
          146309.25,
          155594.15,
          161637.125,
          160593.4,
          165961.30000000002,
          169641.1,
          169576.1,
          169575,
          169259.5,
          169193.30000000002,
          169194.7,
          169706.5,
          169818,
          169592.8,
          169287.4,
          169502.9,
          169402.2,
          169448.3,
          169385.125,
          169502.7,
          169505.9,
          169567.2,
          169809.625,
          162528.875,
          149035.975
         ],
         "yaxis": "y"
        },
        {
         "alignmentgroup": "True",
         "hovertemplate": "variable=Ciclo combinado<br>datetime=%{x}<br>value=%{y}<extra></extra>",
         "legendgroup": "Ciclo combinado",
         "marker": {
          "color": "#00cc96",
          "pattern": {
           "shape": ""
          }
         },
         "name": "Ciclo combinado",
         "offsetgroup": "Ciclo combinado",
         "orientation": "v",
         "showlegend": true,
         "textposition": "auto",
         "type": "bar",
         "x": [
          "2022-12-01T00:00:00",
          "2022-12-02T00:00:00",
          "2022-12-03T00:00:00",
          "2022-12-04T00:00:00",
          "2022-12-05T00:00:00",
          "2022-12-06T00:00:00",
          "2022-12-07T00:00:00",
          "2022-12-08T00:00:00",
          "2022-12-09T00:00:00",
          "2022-12-10T00:00:00",
          "2022-12-11T00:00:00",
          "2022-12-12T00:00:00",
          "2022-12-13T00:00:00",
          "2022-12-14T00:00:00",
          "2022-12-15T00:00:00",
          "2022-12-16T00:00:00",
          "2022-12-17T00:00:00",
          "2022-12-18T00:00:00",
          "2022-12-19T00:00:00",
          "2022-12-20T00:00:00",
          "2022-12-21T00:00:00",
          "2022-12-22T00:00:00",
          "2022-12-23T00:00:00",
          "2022-12-24T00:00:00",
          "2022-12-25T00:00:00",
          "2022-12-26T00:00:00",
          "2022-12-27T00:00:00",
          "2022-12-28T00:00:00",
          "2022-12-29T00:00:00",
          "2022-12-30T00:00:00",
          "2022-12-31T00:00:00"
         ],
         "xaxis": "x",
         "y": [
          188295.075,
          285396.367,
          246015.975,
          210513.092,
          231782.59,
          322276.183,
          341391.733,
          154792.95,
          194561.325,
          118185.175,
          150085.35,
          52904.3,
          75096.133,
          70417.05,
          149197.75,
          135891.892,
          157527.325,
          50901.975,
          51129.533,
          52555.55,
          47266.042,
          41528.575,
          41976.375,
          51194.092000000004,
          52580.142,
          94148,
          86273.023,
          51487.473,
          41460.75,
          28471.8,
          36128.75
         ],
         "yaxis": "y"
        },
        {
         "alignmentgroup": "True",
         "hovertemplate": "variable=Solar fotovoltaica<br>datetime=%{x}<br>value=%{y}<extra></extra>",
         "legendgroup": "Solar fotovoltaica",
         "marker": {
          "color": "#ab63fa",
          "pattern": {
           "shape": ""
          }
         },
         "name": "Solar fotovoltaica",
         "offsetgroup": "Solar fotovoltaica",
         "orientation": "v",
         "showlegend": true,
         "textposition": "auto",
         "type": "bar",
         "x": [
          "2022-12-01T00:00:00",
          "2022-12-02T00:00:00",
          "2022-12-03T00:00:00",
          "2022-12-04T00:00:00",
          "2022-12-05T00:00:00",
          "2022-12-06T00:00:00",
          "2022-12-07T00:00:00",
          "2022-12-08T00:00:00",
          "2022-12-09T00:00:00",
          "2022-12-10T00:00:00",
          "2022-12-11T00:00:00",
          "2022-12-12T00:00:00",
          "2022-12-13T00:00:00",
          "2022-12-14T00:00:00",
          "2022-12-15T00:00:00",
          "2022-12-16T00:00:00",
          "2022-12-17T00:00:00",
          "2022-12-18T00:00:00",
          "2022-12-19T00:00:00",
          "2022-12-20T00:00:00",
          "2022-12-21T00:00:00",
          "2022-12-22T00:00:00",
          "2022-12-23T00:00:00",
          "2022-12-24T00:00:00",
          "2022-12-25T00:00:00",
          "2022-12-26T00:00:00",
          "2022-12-27T00:00:00",
          "2022-12-28T00:00:00",
          "2022-12-29T00:00:00",
          "2022-12-30T00:00:00",
          "2022-12-31T00:00:00"
         ],
         "xaxis": "x",
         "y": [
          48341.025,
          50708.7,
          50362.75,
          44570.7,
          20158.35,
          28200.75,
          34359.1,
          21719.6,
          20660.125,
          40667.606,
          18862.95,
          17826,
          12369.175,
          27722.675,
          30690.625,
          30831.425,
          39169.425,
          51501,
          49794.525,
          29117.325,
          32762.8,
          35855.825,
          46412.125,
          48427.725,
          43649.75,
          56396.6,
          59797.25,
          59363.575,
          36229.15,
          38280.325000000004,
          52060.875
         ],
         "yaxis": "y"
        },
        {
         "alignmentgroup": "True",
         "hovertemplate": "variable=Solar térmica<br>datetime=%{x}<br>value=%{y}<extra></extra>",
         "legendgroup": "Solar térmica",
         "marker": {
          "color": "#FFA15A",
          "pattern": {
           "shape": ""
          }
         },
         "name": "Solar térmica",
         "offsetgroup": "Solar térmica",
         "orientation": "v",
         "showlegend": true,
         "textposition": "auto",
         "type": "bar",
         "x": [
          "2022-12-01T00:00:00",
          "2022-12-02T00:00:00",
          "2022-12-03T00:00:00",
          "2022-12-04T00:00:00",
          "2022-12-05T00:00:00",
          "2022-12-06T00:00:00",
          "2022-12-07T00:00:00",
          "2022-12-08T00:00:00",
          "2022-12-09T00:00:00",
          "2022-12-10T00:00:00",
          "2022-12-11T00:00:00",
          "2022-12-12T00:00:00",
          "2022-12-13T00:00:00",
          "2022-12-14T00:00:00",
          "2022-12-15T00:00:00",
          "2022-12-16T00:00:00",
          "2022-12-17T00:00:00",
          "2022-12-18T00:00:00",
          "2022-12-19T00:00:00",
          "2022-12-20T00:00:00",
          "2022-12-21T00:00:00",
          "2022-12-22T00:00:00",
          "2022-12-23T00:00:00",
          "2022-12-24T00:00:00",
          "2022-12-25T00:00:00",
          "2022-12-26T00:00:00",
          "2022-12-27T00:00:00",
          "2022-12-28T00:00:00",
          "2022-12-29T00:00:00",
          "2022-12-30T00:00:00",
          "2022-12-31T00:00:00"
         ],
         "xaxis": "x",
         "y": [
          3152.2,
          5637.6,
          4216.6,
          1989.3,
          343.4,
          330,
          782.8000000000001,
          42.9,
          6.9,
          568.2,
          51.4,
          232.9,
          164.5,
          138.1,
          82.8,
          343.2,
          1615.1000000000001,
          3652.575,
          3804.4,
          607.5,
          639.8,
          2165.4,
          3433.3,
          2837.8,
          3997.7000000000003,
          5702.900000000001,
          6443.7,
          6226.6,
          1697.8,
          1502.7,
          5355.400000000001
         ],
         "yaxis": "y"
        },
        {
         "alignmentgroup": "True",
         "hovertemplate": "variable=Consumo bombeo<br>datetime=%{x}<br>value=%{y}<extra></extra>",
         "legendgroup": "Consumo bombeo",
         "marker": {
          "color": "#19d3f3",
          "pattern": {
           "shape": ""
          }
         },
         "name": "Consumo bombeo",
         "offsetgroup": "Consumo bombeo",
         "orientation": "v",
         "showlegend": true,
         "textposition": "auto",
         "type": "bar",
         "x": [
          "2022-12-01T00:00:00",
          "2022-12-02T00:00:00",
          "2022-12-03T00:00:00",
          "2022-12-04T00:00:00",
          "2022-12-05T00:00:00",
          "2022-12-06T00:00:00",
          "2022-12-07T00:00:00",
          "2022-12-08T00:00:00",
          "2022-12-09T00:00:00",
          "2022-12-10T00:00:00",
          "2022-12-11T00:00:00",
          "2022-12-12T00:00:00",
          "2022-12-13T00:00:00",
          "2022-12-14T00:00:00",
          "2022-12-15T00:00:00",
          "2022-12-16T00:00:00",
          "2022-12-17T00:00:00",
          "2022-12-18T00:00:00",
          "2022-12-19T00:00:00",
          "2022-12-20T00:00:00",
          "2022-12-21T00:00:00",
          "2022-12-22T00:00:00",
          "2022-12-23T00:00:00",
          "2022-12-24T00:00:00",
          "2022-12-25T00:00:00",
          "2022-12-26T00:00:00",
          "2022-12-27T00:00:00",
          "2022-12-28T00:00:00",
          "2022-12-29T00:00:00",
          "2022-12-30T00:00:00",
          "2022-12-31T00:00:00"
         ],
         "xaxis": "x",
         "y": [
          -11761.025,
          -9484.4,
          -6350.82,
          -6631.3,
          -7979.75,
          -14555.482,
          -11353.117,
          -19120.625,
          -22253.2,
          -37460.675,
          -28294.392,
          -35893.1,
          -25828.125,
          -28083.600000000002,
          -21664.317,
          -10878.15,
          -13773.475,
          -50411.508,
          -32087.538,
          -27981.475,
          -30002.875,
          -25196.675,
          -24266.725000000002,
          -49923,
          -52764.508,
          -26552.1,
          -18237.492,
          -34991.767,
          -40302.675,
          -67283.325,
          -65530.45
         ],
         "yaxis": "y"
        },
        {
         "alignmentgroup": "True",
         "hovertemplate": "variable=Enlace Baleares<br>datetime=%{x}<br>value=%{y}<extra></extra>",
         "legendgroup": "Enlace Baleares",
         "marker": {
          "color": "#FF6692",
          "pattern": {
           "shape": ""
          }
         },
         "name": "Enlace Baleares",
         "offsetgroup": "Enlace Baleares",
         "orientation": "v",
         "showlegend": true,
         "textposition": "auto",
         "type": "bar",
         "x": [
          "2022-12-01T00:00:00",
          "2022-12-02T00:00:00",
          "2022-12-03T00:00:00",
          "2022-12-04T00:00:00",
          "2022-12-05T00:00:00",
          "2022-12-06T00:00:00",
          "2022-12-07T00:00:00",
          "2022-12-08T00:00:00",
          "2022-12-09T00:00:00",
          "2022-12-10T00:00:00",
          "2022-12-11T00:00:00",
          "2022-12-12T00:00:00",
          "2022-12-13T00:00:00",
          "2022-12-14T00:00:00",
          "2022-12-15T00:00:00",
          "2022-12-16T00:00:00",
          "2022-12-17T00:00:00",
          "2022-12-18T00:00:00",
          "2022-12-19T00:00:00",
          "2022-12-20T00:00:00",
          "2022-12-21T00:00:00",
          "2022-12-22T00:00:00",
          "2022-12-23T00:00:00",
          "2022-12-24T00:00:00",
          "2022-12-25T00:00:00",
          "2022-12-26T00:00:00",
          "2022-12-27T00:00:00",
          "2022-12-28T00:00:00",
          "2022-12-29T00:00:00",
          "2022-12-30T00:00:00",
          "2022-12-31T00:00:00"
         ],
         "xaxis": "x",
         "y": [
          -1325.6,
          -1475.4,
          -2502.3,
          -979.1999999999999,
          -979.1999999999999,
          -979.1999999999999,
          -1326,
          -2572.7,
          -1347,
          -2641.2,
          -1227.2,
          -3740.1,
          -2722.3,
          -2808.4,
          -1548.3999999999999,
          -1899.3,
          -1895.8,
          -3042.8,
          -3579,
          -3848,
          -3848,
          -3641,
          -3431,
          -3230,
          -2665.6,
          -2303.9,
          -2673.8,
          -3794,
          -3981,
          -4141,
          -3334
         ],
         "yaxis": "y"
        },
        {
         "alignmentgroup": "True",
         "hovertemplate": "variable=Carbón<br>datetime=%{x}<br>value=%{y}<extra></extra>",
         "legendgroup": "Carbón",
         "marker": {
          "color": "#B6E880",
          "pattern": {
           "shape": ""
          }
         },
         "name": "Carbón",
         "offsetgroup": "Carbón",
         "orientation": "v",
         "showlegend": true,
         "textposition": "auto",
         "type": "bar",
         "x": [
          "2022-12-01T00:00:00",
          "2022-12-02T00:00:00",
          "2022-12-03T00:00:00",
          "2022-12-04T00:00:00",
          "2022-12-05T00:00:00",
          "2022-12-06T00:00:00",
          "2022-12-07T00:00:00",
          "2022-12-08T00:00:00",
          "2022-12-09T00:00:00",
          "2022-12-10T00:00:00",
          "2022-12-11T00:00:00",
          "2022-12-12T00:00:00",
          "2022-12-13T00:00:00",
          "2022-12-14T00:00:00",
          "2022-12-15T00:00:00",
          "2022-12-16T00:00:00",
          "2022-12-17T00:00:00",
          "2022-12-18T00:00:00",
          "2022-12-19T00:00:00",
          "2022-12-20T00:00:00",
          "2022-12-21T00:00:00",
          "2022-12-22T00:00:00",
          "2022-12-23T00:00:00",
          "2022-12-24T00:00:00",
          "2022-12-25T00:00:00",
          "2022-12-26T00:00:00",
          "2022-12-27T00:00:00",
          "2022-12-28T00:00:00",
          "2022-12-29T00:00:00",
          "2022-12-30T00:00:00",
          "2022-12-31T00:00:00"
         ],
         "xaxis": "x",
         "y": [
          25422.9,
          26381.758,
          24466.6,
          27398.65,
          29320.725,
          25766.596,
          28533.5,
          27207.9,
          23904.283,
          26735.2,
          32680.525,
          36722.15,
          33225.1,
          33157.075,
          37540.825,
          38151,
          37002.6,
          29905.15,
          32393.075,
          25127.975,
          18624.025,
          17101.925,
          16119.75,
          7047.75,
          6419.667,
          11544.85,
          15506.25,
          8236.2,
          8283.4,
          8145.1,
          6771.85
         ],
         "yaxis": "y"
        },
        {
         "alignmentgroup": "True",
         "hovertemplate": "variable=Eólica<br>datetime=%{x}<br>value=%{y}<extra></extra>",
         "legendgroup": "Eólica",
         "marker": {
          "color": "#FF97FF",
          "pattern": {
           "shape": ""
          }
         },
         "name": "Eólica",
         "offsetgroup": "Eólica",
         "orientation": "v",
         "showlegend": true,
         "textposition": "auto",
         "type": "bar",
         "x": [
          "2022-12-01T00:00:00",
          "2022-12-02T00:00:00",
          "2022-12-03T00:00:00",
          "2022-12-04T00:00:00",
          "2022-12-05T00:00:00",
          "2022-12-06T00:00:00",
          "2022-12-07T00:00:00",
          "2022-12-08T00:00:00",
          "2022-12-09T00:00:00",
          "2022-12-10T00:00:00",
          "2022-12-11T00:00:00",
          "2022-12-12T00:00:00",
          "2022-12-13T00:00:00",
          "2022-12-14T00:00:00",
          "2022-12-15T00:00:00",
          "2022-12-16T00:00:00",
          "2022-12-17T00:00:00",
          "2022-12-18T00:00:00",
          "2022-12-19T00:00:00",
          "2022-12-20T00:00:00",
          "2022-12-21T00:00:00",
          "2022-12-22T00:00:00",
          "2022-12-23T00:00:00",
          "2022-12-24T00:00:00",
          "2022-12-25T00:00:00",
          "2022-12-26T00:00:00",
          "2022-12-27T00:00:00",
          "2022-12-28T00:00:00",
          "2022-12-29T00:00:00",
          "2022-12-30T00:00:00",
          "2022-12-31T00:00:00"
         ],
         "xaxis": "x",
         "y": [
          144571.275,
          76543.005,
          76798.2,
          61074.95,
          134602.975,
          40119.125,
          50885.45,
          196346.675,
          200978.258,
          256540.694,
          143732.398,
          344688.925,
          294800.075,
          257419.225,
          187318.758,
          158883.65,
          63560.95,
          185238.875,
          251926.53,
          273608.877,
          317072.911,
          295582.25,
          258296.45,
          181749.317,
          164381.945,
          55458.75,
          58327.625,
          197316.296,
          248642.775,
          314274.925,
          175047.375
         ],
         "yaxis": "y"
        },
        {
         "alignmentgroup": "True",
         "hovertemplate": "variable=Cogeneración<br>datetime=%{x}<br>value=%{y}<extra></extra>",
         "legendgroup": "Cogeneración",
         "marker": {
          "color": "#FECB52",
          "pattern": {
           "shape": ""
          }
         },
         "name": "Cogeneración",
         "offsetgroup": "Cogeneración",
         "orientation": "v",
         "showlegend": true,
         "textposition": "auto",
         "type": "bar",
         "x": [
          "2022-12-01T00:00:00",
          "2022-12-02T00:00:00",
          "2022-12-03T00:00:00",
          "2022-12-04T00:00:00",
          "2022-12-05T00:00:00",
          "2022-12-06T00:00:00",
          "2022-12-07T00:00:00",
          "2022-12-08T00:00:00",
          "2022-12-09T00:00:00",
          "2022-12-10T00:00:00",
          "2022-12-11T00:00:00",
          "2022-12-12T00:00:00",
          "2022-12-13T00:00:00",
          "2022-12-14T00:00:00",
          "2022-12-15T00:00:00",
          "2022-12-16T00:00:00",
          "2022-12-17T00:00:00",
          "2022-12-18T00:00:00",
          "2022-12-19T00:00:00",
          "2022-12-20T00:00:00",
          "2022-12-21T00:00:00",
          "2022-12-22T00:00:00",
          "2022-12-23T00:00:00",
          "2022-12-24T00:00:00",
          "2022-12-25T00:00:00",
          "2022-12-26T00:00:00",
          "2022-12-27T00:00:00",
          "2022-12-28T00:00:00",
          "2022-12-29T00:00:00",
          "2022-12-30T00:00:00",
          "2022-12-31T00:00:00"
         ],
         "xaxis": "x",
         "y": [
          44488.75,
          43460,
          43385.6,
          41312.3,
          45096.008,
          43235.25,
          42557.95,
          41598.9,
          42478.325,
          40416.725,
          41355.55,
          41857.335,
          38477.151,
          37884.2,
          40013.15,
          39923.484,
          39267.753,
          37059.347,
          38811.045,
          38032.4,
          35639.475,
          33943.65,
          26736.7,
          22818.625,
          19407.15,
          27379.260000000002,
          34161.95,
          27375.2,
          25536.35,
          21089.6,
          18808.9
         ],
         "yaxis": "y"
        },
        {
         "alignmentgroup": "True",
         "hovertemplate": "variable=Residuos no renovables<br>datetime=%{x}<br>value=%{y}<extra></extra>",
         "legendgroup": "Residuos no renovables",
         "marker": {
          "color": "#636efa",
          "pattern": {
           "shape": ""
          }
         },
         "name": "Residuos no renovables",
         "offsetgroup": "Residuos no renovables",
         "orientation": "v",
         "showlegend": true,
         "textposition": "auto",
         "type": "bar",
         "x": [
          "2022-12-01T00:00:00",
          "2022-12-02T00:00:00",
          "2022-12-03T00:00:00",
          "2022-12-04T00:00:00",
          "2022-12-05T00:00:00",
          "2022-12-06T00:00:00",
          "2022-12-07T00:00:00",
          "2022-12-08T00:00:00",
          "2022-12-09T00:00:00",
          "2022-12-10T00:00:00",
          "2022-12-11T00:00:00",
          "2022-12-12T00:00:00",
          "2022-12-13T00:00:00",
          "2022-12-14T00:00:00",
          "2022-12-15T00:00:00",
          "2022-12-16T00:00:00",
          "2022-12-17T00:00:00",
          "2022-12-18T00:00:00",
          "2022-12-19T00:00:00",
          "2022-12-20T00:00:00",
          "2022-12-21T00:00:00",
          "2022-12-22T00:00:00",
          "2022-12-23T00:00:00",
          "2022-12-24T00:00:00",
          "2022-12-25T00:00:00",
          "2022-12-26T00:00:00",
          "2022-12-27T00:00:00",
          "2022-12-28T00:00:00",
          "2022-12-29T00:00:00",
          "2022-12-30T00:00:00",
          "2022-12-31T00:00:00"
         ],
         "xaxis": "x",
         "y": [
          6036.4,
          6306,
          6398.8,
          6142.1,
          5879.3,
          5945.1,
          5864.3,
          6220.599999999999,
          6290.8,
          6338.2,
          6325,
          6142.633,
          6062.9,
          5330.75,
          5076.8,
          5448.4,
          5806.9,
          6156.2,
          6056.33,
          5990.4,
          6247.4,
          5875.725,
          6023.2,
          5999.8,
          6023.1,
          6093.319,
          6344.63,
          5867.778,
          6125.2,
          6206.1,
          6096.625
         ],
         "yaxis": "y"
        },
        {
         "alignmentgroup": "True",
         "hovertemplate": "variable=otras renovables<br>datetime=%{x}<br>value=%{y}<extra></extra>",
         "legendgroup": "otras renovables",
         "marker": {
          "color": "#EF553B",
          "pattern": {
           "shape": ""
          }
         },
         "name": "otras renovables",
         "offsetgroup": "otras renovables",
         "orientation": "v",
         "showlegend": true,
         "textposition": "auto",
         "type": "bar",
         "x": [
          "2022-12-01T00:00:00",
          "2022-12-02T00:00:00",
          "2022-12-03T00:00:00",
          "2022-12-04T00:00:00",
          "2022-12-05T00:00:00",
          "2022-12-06T00:00:00",
          "2022-12-07T00:00:00",
          "2022-12-08T00:00:00",
          "2022-12-09T00:00:00",
          "2022-12-10T00:00:00",
          "2022-12-11T00:00:00",
          "2022-12-12T00:00:00",
          "2022-12-13T00:00:00",
          "2022-12-14T00:00:00",
          "2022-12-15T00:00:00",
          "2022-12-16T00:00:00",
          "2022-12-17T00:00:00",
          "2022-12-18T00:00:00",
          "2022-12-19T00:00:00",
          "2022-12-20T00:00:00",
          "2022-12-21T00:00:00",
          "2022-12-22T00:00:00",
          "2022-12-23T00:00:00",
          "2022-12-24T00:00:00",
          "2022-12-25T00:00:00",
          "2022-12-26T00:00:00",
          "2022-12-27T00:00:00",
          "2022-12-28T00:00:00",
          "2022-12-29T00:00:00",
          "2022-12-30T00:00:00",
          "2022-12-31T00:00:00"
         ],
         "xaxis": "x",
         "y": [
          12098.93,
          12386.8,
          12186.2,
          12458.6,
          12178.39,
          12641.175,
          12311.833,
          11886.26,
          11761.525,
          11704.9,
          12465.9,
          12229.6,
          12513.858,
          12059.300000000001,
          13006.307999999999,
          12828.333,
          12924.467,
          12892,
          11620.05,
          11211.842,
          11191.967,
          10668.875,
          8266.8,
          7015.6,
          6713.1,
          7860,
          10769.275,
          7986.6,
          7215.2,
          6586.2,
          6060.7
         ],
         "yaxis": "y"
        },
        {
         "alignmentgroup": "True",
         "hovertemplate": "variable=Saldo Portugal<br>datetime=%{x}<br>value=%{y}<extra></extra>",
         "legendgroup": "Saldo Portugal",
         "marker": {
          "color": "#00cc96",
          "pattern": {
           "shape": ""
          }
         },
         "name": "Saldo Portugal",
         "offsetgroup": "Saldo Portugal",
         "orientation": "v",
         "showlegend": true,
         "textposition": "auto",
         "type": "bar",
         "x": [
          "2022-12-01T00:00:00",
          "2022-12-02T00:00:00",
          "2022-12-03T00:00:00",
          "2022-12-04T00:00:00",
          "2022-12-05T00:00:00",
          "2022-12-06T00:00:00",
          "2022-12-07T00:00:00",
          "2022-12-08T00:00:00",
          "2022-12-09T00:00:00",
          "2022-12-10T00:00:00",
          "2022-12-11T00:00:00",
          "2022-12-12T00:00:00",
          "2022-12-13T00:00:00",
          "2022-12-14T00:00:00",
          "2022-12-15T00:00:00",
          "2022-12-16T00:00:00",
          "2022-12-17T00:00:00",
          "2022-12-18T00:00:00",
          "2022-12-19T00:00:00",
          "2022-12-20T00:00:00",
          "2022-12-21T00:00:00",
          "2022-12-22T00:00:00",
          "2022-12-23T00:00:00",
          "2022-12-24T00:00:00",
          "2022-12-25T00:00:00",
          "2022-12-26T00:00:00",
          "2022-12-27T00:00:00",
          "2022-12-28T00:00:00",
          "2022-12-29T00:00:00",
          "2022-12-30T00:00:00",
          "2022-12-31T00:00:00"
         ],
         "xaxis": "x",
         "y": [
          21038.2,
          -5325,
          -5556.700000000001,
          6200.8,
          11326.199999999999,
          -21626,
          11148.2,
          10464.099999999999,
          -1596.7000000000003,
          -19905.8,
          29825.5,
          21877,
          34339,
          29372.2,
          2574.4,
          39111.8,
          23501.5,
          33695.3,
          42347.7,
          37146,
          21204.6,
          -2419.7000000000003,
          18653.6,
          60934.9,
          31361.5,
          -10631.1,
          10529.3,
          -11994.9,
          28566,
          50542.1,
          59926.708
         ],
         "yaxis": "y"
        },
        {
         "alignmentgroup": "True",
         "hovertemplate": "variable=Saldo Francia<br>datetime=%{x}<br>value=%{y}<extra></extra>",
         "legendgroup": "Saldo Francia",
         "marker": {
          "color": "#ab63fa",
          "pattern": {
           "shape": ""
          }
         },
         "name": "Saldo Francia",
         "offsetgroup": "Saldo Francia",
         "orientation": "v",
         "showlegend": true,
         "textposition": "auto",
         "type": "bar",
         "x": [
          "2022-12-01T00:00:00",
          "2022-12-02T00:00:00",
          "2022-12-03T00:00:00",
          "2022-12-04T00:00:00",
          "2022-12-05T00:00:00",
          "2022-12-06T00:00:00",
          "2022-12-07T00:00:00",
          "2022-12-08T00:00:00",
          "2022-12-09T00:00:00",
          "2022-12-10T00:00:00",
          "2022-12-11T00:00:00",
          "2022-12-12T00:00:00",
          "2022-12-13T00:00:00",
          "2022-12-14T00:00:00",
          "2022-12-15T00:00:00",
          "2022-12-16T00:00:00",
          "2022-12-17T00:00:00",
          "2022-12-18T00:00:00",
          "2022-12-19T00:00:00",
          "2022-12-20T00:00:00",
          "2022-12-21T00:00:00",
          "2022-12-22T00:00:00",
          "2022-12-23T00:00:00",
          "2022-12-24T00:00:00",
          "2022-12-25T00:00:00",
          "2022-12-26T00:00:00",
          "2022-12-27T00:00:00",
          "2022-12-28T00:00:00",
          "2022-12-29T00:00:00",
          "2022-12-30T00:00:00",
          "2022-12-31T00:00:00"
         ],
         "xaxis": "x",
         "y": [
          -40800,
          -48150,
          -66856.133,
          -65554.05,
          -54872.833,
          -61658,
          -58577,
          -55724.833,
          -53790,
          -68130.001,
          -61255,
          -46144.667,
          -42986,
          -38475,
          -42500,
          -49410,
          -54732,
          -50888,
          -50335.25,
          -46631.9,
          -67382,
          -60499.333,
          -60436,
          -63965.5,
          -63742,
          -7984.267,
          -19558.7,
          -1296.6000000000004,
          -19261.8,
          -54318.5,
          -15145
         ],
         "yaxis": "y"
        },
        {
         "alignmentgroup": "True",
         "hovertemplate": "variable=Saldo Marruecos<br>datetime=%{x}<br>value=%{y}<extra></extra>",
         "legendgroup": "Saldo Marruecos",
         "marker": {
          "color": "#FFA15A",
          "pattern": {
           "shape": ""
          }
         },
         "name": "Saldo Marruecos",
         "offsetgroup": "Saldo Marruecos",
         "orientation": "v",
         "showlegend": true,
         "textposition": "auto",
         "type": "bar",
         "x": [
          "2022-12-01T00:00:00",
          "2022-12-02T00:00:00",
          "2022-12-03T00:00:00",
          "2022-12-04T00:00:00",
          "2022-12-05T00:00:00",
          "2022-12-06T00:00:00",
          "2022-12-07T00:00:00",
          "2022-12-08T00:00:00",
          "2022-12-09T00:00:00",
          "2022-12-10T00:00:00",
          "2022-12-11T00:00:00",
          "2022-12-12T00:00:00",
          "2022-12-13T00:00:00",
          "2022-12-14T00:00:00",
          "2022-12-15T00:00:00",
          "2022-12-16T00:00:00",
          "2022-12-17T00:00:00",
          "2022-12-18T00:00:00",
          "2022-12-19T00:00:00",
          "2022-12-20T00:00:00",
          "2022-12-21T00:00:00",
          "2022-12-22T00:00:00",
          "2022-12-23T00:00:00",
          "2022-12-24T00:00:00",
          "2022-12-25T00:00:00",
          "2022-12-26T00:00:00",
          "2022-12-27T00:00:00",
          "2022-12-28T00:00:00",
          "2022-12-29T00:00:00",
          "2022-12-30T00:00:00",
          "2022-12-31T00:00:00"
         ],
         "xaxis": "x",
         "y": [
          -6850,
          -5500,
          -9363,
          -1390,
          -2020,
          -3020,
          -1940,
          -552.5,
          -74.60000000000002,
          -158.39999999999998,
          4262.9,
          -3850.5,
          -2070,
          -1430,
          -1500,
          -2510,
          -1490,
          -1530,
          -5950,
          -7140.5,
          -6940,
          -8860,
          -9210,
          -10217.8,
          -12060,
          -7340,
          -1870,
          -4670,
          -6934,
          -12840,
          -13567.5
         ],
         "yaxis": "y"
        },
        {
         "alignmentgroup": "True",
         "hovertemplate": "variable=Saldo Andorra<br>datetime=%{x}<br>value=%{y}<extra></extra>",
         "legendgroup": "Saldo Andorra",
         "marker": {
          "color": "#19d3f3",
          "pattern": {
           "shape": ""
          }
         },
         "name": "Saldo Andorra",
         "offsetgroup": "Saldo Andorra",
         "orientation": "v",
         "showlegend": true,
         "textposition": "auto",
         "type": "bar",
         "x": [
          "2022-12-01T00:00:00",
          "2022-12-02T00:00:00",
          "2022-12-03T00:00:00",
          "2022-12-04T00:00:00",
          "2022-12-05T00:00:00",
          "2022-12-06T00:00:00",
          "2022-12-07T00:00:00",
          "2022-12-08T00:00:00",
          "2022-12-09T00:00:00",
          "2022-12-10T00:00:00",
          "2022-12-11T00:00:00",
          "2022-12-12T00:00:00",
          "2022-12-13T00:00:00",
          "2022-12-14T00:00:00",
          "2022-12-15T00:00:00",
          "2022-12-16T00:00:00",
          "2022-12-17T00:00:00",
          "2022-12-18T00:00:00",
          "2022-12-19T00:00:00",
          "2022-12-20T00:00:00",
          "2022-12-21T00:00:00",
          "2022-12-22T00:00:00",
          "2022-12-23T00:00:00",
          "2022-12-24T00:00:00",
          "2022-12-25T00:00:00",
          "2022-12-26T00:00:00",
          "2022-12-27T00:00:00",
          "2022-12-28T00:00:00",
          "2022-12-29T00:00:00",
          "2022-12-30T00:00:00",
          "2022-12-31T00:00:00"
         ],
         "xaxis": "x",
         "y": [
          -1241,
          -1385,
          -1268,
          -1166,
          -1193,
          -2089,
          -2383,
          -1179,
          -1308,
          -1504,
          -1401,
          -1084,
          -1369,
          -1518,
          -1533,
          -1351,
          -1498,
          -1420,
          -943,
          -1269,
          -1314,
          -1272,
          -1289,
          -1341,
          -1210,
          -1110,
          -1082,
          -1041,
          -1215,
          -1217,
          -1436.5
         ],
         "yaxis": "y"
        },
        {
         "alignmentgroup": "True",
         "hovertemplate": "variable=Ajuste P48<br>datetime=%{x}<br>value=%{y}<extra></extra>",
         "legendgroup": "Ajuste P48",
         "marker": {
          "color": "#FF6692",
          "pattern": {
           "shape": ""
          }
         },
         "name": "Ajuste P48",
         "offsetgroup": "Ajuste P48",
         "orientation": "v",
         "showlegend": true,
         "textposition": "auto",
         "type": "bar",
         "x": [
          "2022-12-01T00:00:00",
          "2022-12-02T00:00:00",
          "2022-12-03T00:00:00",
          "2022-12-04T00:00:00",
          "2022-12-05T00:00:00",
          "2022-12-06T00:00:00",
          "2022-12-07T00:00:00",
          "2022-12-08T00:00:00",
          "2022-12-09T00:00:00",
          "2022-12-10T00:00:00",
          "2022-12-11T00:00:00",
          "2022-12-12T00:00:00",
          "2022-12-13T00:00:00",
          "2022-12-14T00:00:00",
          "2022-12-15T00:00:00",
          "2022-12-16T00:00:00",
          "2022-12-17T00:00:00",
          "2022-12-18T00:00:00",
          "2022-12-19T00:00:00",
          "2022-12-20T00:00:00",
          "2022-12-21T00:00:00",
          "2022-12-22T00:00:00",
          "2022-12-23T00:00:00",
          "2022-12-24T00:00:00",
          "2022-12-25T00:00:00",
          "2022-12-26T00:00:00",
          "2022-12-27T00:00:00",
          "2022-12-28T00:00:00",
          "2022-12-29T00:00:00",
          "2022-12-30T00:00:00",
          "2022-12-31T00:00:00"
         ],
         "xaxis": "x",
         "y": [
          1535,
          197.5,
          -12112.5,
          -10867.5,
          -9950.55,
          -8100,
          -7852.5,
          -19790,
          -21159.55,
          -11488.5,
          -4664.7,
          302.625,
          -3075,
          -12170.425,
          -7369.6,
          -17130,
          -3482.5,
          3348.55,
          -2425,
          6075,
          2506.7,
          -1653.125,
          -763.9,
          -3122,
          5550,
          -1237.5,
          26,
          -3719,
          -13200,
          252,
          -10106.25
         ],
         "yaxis": "y"
        },
        {
         "alignmentgroup": "True",
         "hovertemplate": "variable=Hidráulica<br>datetime=%{x}<br>value=%{y}<extra></extra>",
         "legendgroup": "Hidráulica",
         "marker": {
          "color": "#B6E880",
          "pattern": {
           "shape": ""
          }
         },
         "name": "Hidráulica",
         "offsetgroup": "Hidráulica",
         "orientation": "v",
         "showlegend": true,
         "textposition": "auto",
         "type": "bar",
         "x": [
          "2022-12-01T00:00:00",
          "2022-12-02T00:00:00",
          "2022-12-03T00:00:00",
          "2022-12-04T00:00:00",
          "2022-12-05T00:00:00",
          "2022-12-06T00:00:00",
          "2022-12-07T00:00:00",
          "2022-12-08T00:00:00",
          "2022-12-09T00:00:00",
          "2022-12-10T00:00:00",
          "2022-12-11T00:00:00",
          "2022-12-12T00:00:00",
          "2022-12-13T00:00:00",
          "2022-12-14T00:00:00",
          "2022-12-15T00:00:00",
          "2022-12-16T00:00:00",
          "2022-12-17T00:00:00",
          "2022-12-18T00:00:00",
          "2022-12-19T00:00:00",
          "2022-12-20T00:00:00",
          "2022-12-21T00:00:00",
          "2022-12-22T00:00:00",
          "2022-12-23T00:00:00",
          "2022-12-24T00:00:00",
          "2022-12-25T00:00:00",
          "2022-12-26T00:00:00",
          "2022-12-27T00:00:00",
          "2022-12-28T00:00:00",
          "2022-12-29T00:00:00",
          "2022-12-30T00:00:00",
          "2022-12-31T00:00:00"
         ],
         "xaxis": "x",
         "y": [
          85416.9,
          87180.3,
          85602.95,
          85471.125,
          77820.9,
          82807.959,
          68763.85,
          66273.175,
          70869.7,
          65128.638,
          65094.6,
          71207.95,
          85869.475,
          110373.975,
          109022.625,
          123345.8,
          123661.725,
          82296.15,
          103753.1,
          116866.385,
          113013.381,
          134507.025,
          112591.575,
          86089.875,
          72493.566,
          109989.8,
          135477.917,
          101033.635,
          87332.95,
          76542.575,
          88236.784
         ],
         "yaxis": "y"
        }
       ],
       "layout": {
        "barmode": "relative",
        "legend": {
         "title": {
          "text": "variable"
         },
         "tracegroupgap": 0
        },
        "margin": {
         "t": 60
        },
        "template": {
         "data": {
          "bar": [
           {
            "error_x": {
             "color": "#2a3f5f"
            },
            "error_y": {
             "color": "#2a3f5f"
            },
            "marker": {
             "line": {
              "color": "#E5ECF6",
              "width": 0.5
             },
             "pattern": {
              "fillmode": "overlay",
              "size": 10,
              "solidity": 0.2
             }
            },
            "type": "bar"
           }
          ],
          "barpolar": [
           {
            "marker": {
             "line": {
              "color": "#E5ECF6",
              "width": 0.5
             },
             "pattern": {
              "fillmode": "overlay",
              "size": 10,
              "solidity": 0.2
             }
            },
            "type": "barpolar"
           }
          ],
          "carpet": [
           {
            "aaxis": {
             "endlinecolor": "#2a3f5f",
             "gridcolor": "white",
             "linecolor": "white",
             "minorgridcolor": "white",
             "startlinecolor": "#2a3f5f"
            },
            "baxis": {
             "endlinecolor": "#2a3f5f",
             "gridcolor": "white",
             "linecolor": "white",
             "minorgridcolor": "white",
             "startlinecolor": "#2a3f5f"
            },
            "type": "carpet"
           }
          ],
          "choropleth": [
           {
            "colorbar": {
             "outlinewidth": 0,
             "ticks": ""
            },
            "type": "choropleth"
           }
          ],
          "contour": [
           {
            "colorbar": {
             "outlinewidth": 0,
             "ticks": ""
            },
            "colorscale": [
             [
              0,
              "#0d0887"
             ],
             [
              0.1111111111111111,
              "#46039f"
             ],
             [
              0.2222222222222222,
              "#7201a8"
             ],
             [
              0.3333333333333333,
              "#9c179e"
             ],
             [
              0.4444444444444444,
              "#bd3786"
             ],
             [
              0.5555555555555556,
              "#d8576b"
             ],
             [
              0.6666666666666666,
              "#ed7953"
             ],
             [
              0.7777777777777778,
              "#fb9f3a"
             ],
             [
              0.8888888888888888,
              "#fdca26"
             ],
             [
              1,
              "#f0f921"
             ]
            ],
            "type": "contour"
           }
          ],
          "contourcarpet": [
           {
            "colorbar": {
             "outlinewidth": 0,
             "ticks": ""
            },
            "type": "contourcarpet"
           }
          ],
          "heatmap": [
           {
            "colorbar": {
             "outlinewidth": 0,
             "ticks": ""
            },
            "colorscale": [
             [
              0,
              "#0d0887"
             ],
             [
              0.1111111111111111,
              "#46039f"
             ],
             [
              0.2222222222222222,
              "#7201a8"
             ],
             [
              0.3333333333333333,
              "#9c179e"
             ],
             [
              0.4444444444444444,
              "#bd3786"
             ],
             [
              0.5555555555555556,
              "#d8576b"
             ],
             [
              0.6666666666666666,
              "#ed7953"
             ],
             [
              0.7777777777777778,
              "#fb9f3a"
             ],
             [
              0.8888888888888888,
              "#fdca26"
             ],
             [
              1,
              "#f0f921"
             ]
            ],
            "type": "heatmap"
           }
          ],
          "heatmapgl": [
           {
            "colorbar": {
             "outlinewidth": 0,
             "ticks": ""
            },
            "colorscale": [
             [
              0,
              "#0d0887"
             ],
             [
              0.1111111111111111,
              "#46039f"
             ],
             [
              0.2222222222222222,
              "#7201a8"
             ],
             [
              0.3333333333333333,
              "#9c179e"
             ],
             [
              0.4444444444444444,
              "#bd3786"
             ],
             [
              0.5555555555555556,
              "#d8576b"
             ],
             [
              0.6666666666666666,
              "#ed7953"
             ],
             [
              0.7777777777777778,
              "#fb9f3a"
             ],
             [
              0.8888888888888888,
              "#fdca26"
             ],
             [
              1,
              "#f0f921"
             ]
            ],
            "type": "heatmapgl"
           }
          ],
          "histogram": [
           {
            "marker": {
             "pattern": {
              "fillmode": "overlay",
              "size": 10,
              "solidity": 0.2
             }
            },
            "type": "histogram"
           }
          ],
          "histogram2d": [
           {
            "colorbar": {
             "outlinewidth": 0,
             "ticks": ""
            },
            "colorscale": [
             [
              0,
              "#0d0887"
             ],
             [
              0.1111111111111111,
              "#46039f"
             ],
             [
              0.2222222222222222,
              "#7201a8"
             ],
             [
              0.3333333333333333,
              "#9c179e"
             ],
             [
              0.4444444444444444,
              "#bd3786"
             ],
             [
              0.5555555555555556,
              "#d8576b"
             ],
             [
              0.6666666666666666,
              "#ed7953"
             ],
             [
              0.7777777777777778,
              "#fb9f3a"
             ],
             [
              0.8888888888888888,
              "#fdca26"
             ],
             [
              1,
              "#f0f921"
             ]
            ],
            "type": "histogram2d"
           }
          ],
          "histogram2dcontour": [
           {
            "colorbar": {
             "outlinewidth": 0,
             "ticks": ""
            },
            "colorscale": [
             [
              0,
              "#0d0887"
             ],
             [
              0.1111111111111111,
              "#46039f"
             ],
             [
              0.2222222222222222,
              "#7201a8"
             ],
             [
              0.3333333333333333,
              "#9c179e"
             ],
             [
              0.4444444444444444,
              "#bd3786"
             ],
             [
              0.5555555555555556,
              "#d8576b"
             ],
             [
              0.6666666666666666,
              "#ed7953"
             ],
             [
              0.7777777777777778,
              "#fb9f3a"
             ],
             [
              0.8888888888888888,
              "#fdca26"
             ],
             [
              1,
              "#f0f921"
             ]
            ],
            "type": "histogram2dcontour"
           }
          ],
          "mesh3d": [
           {
            "colorbar": {
             "outlinewidth": 0,
             "ticks": ""
            },
            "type": "mesh3d"
           }
          ],
          "parcoords": [
           {
            "line": {
             "colorbar": {
              "outlinewidth": 0,
              "ticks": ""
             }
            },
            "type": "parcoords"
           }
          ],
          "pie": [
           {
            "automargin": true,
            "type": "pie"
           }
          ],
          "scatter": [
           {
            "fillpattern": {
             "fillmode": "overlay",
             "size": 10,
             "solidity": 0.2
            },
            "type": "scatter"
           }
          ],
          "scatter3d": [
           {
            "line": {
             "colorbar": {
              "outlinewidth": 0,
              "ticks": ""
             }
            },
            "marker": {
             "colorbar": {
              "outlinewidth": 0,
              "ticks": ""
             }
            },
            "type": "scatter3d"
           }
          ],
          "scattercarpet": [
           {
            "marker": {
             "colorbar": {
              "outlinewidth": 0,
              "ticks": ""
             }
            },
            "type": "scattercarpet"
           }
          ],
          "scattergeo": [
           {
            "marker": {
             "colorbar": {
              "outlinewidth": 0,
              "ticks": ""
             }
            },
            "type": "scattergeo"
           }
          ],
          "scattergl": [
           {
            "marker": {
             "colorbar": {
              "outlinewidth": 0,
              "ticks": ""
             }
            },
            "type": "scattergl"
           }
          ],
          "scattermapbox": [
           {
            "marker": {
             "colorbar": {
              "outlinewidth": 0,
              "ticks": ""
             }
            },
            "type": "scattermapbox"
           }
          ],
          "scatterpolar": [
           {
            "marker": {
             "colorbar": {
              "outlinewidth": 0,
              "ticks": ""
             }
            },
            "type": "scatterpolar"
           }
          ],
          "scatterpolargl": [
           {
            "marker": {
             "colorbar": {
              "outlinewidth": 0,
              "ticks": ""
             }
            },
            "type": "scatterpolargl"
           }
          ],
          "scatterternary": [
           {
            "marker": {
             "colorbar": {
              "outlinewidth": 0,
              "ticks": ""
             }
            },
            "type": "scatterternary"
           }
          ],
          "surface": [
           {
            "colorbar": {
             "outlinewidth": 0,
             "ticks": ""
            },
            "colorscale": [
             [
              0,
              "#0d0887"
             ],
             [
              0.1111111111111111,
              "#46039f"
             ],
             [
              0.2222222222222222,
              "#7201a8"
             ],
             [
              0.3333333333333333,
              "#9c179e"
             ],
             [
              0.4444444444444444,
              "#bd3786"
             ],
             [
              0.5555555555555556,
              "#d8576b"
             ],
             [
              0.6666666666666666,
              "#ed7953"
             ],
             [
              0.7777777777777778,
              "#fb9f3a"
             ],
             [
              0.8888888888888888,
              "#fdca26"
             ],
             [
              1,
              "#f0f921"
             ]
            ],
            "type": "surface"
           }
          ],
          "table": [
           {
            "cells": {
             "fill": {
              "color": "#EBF0F8"
             },
             "line": {
              "color": "white"
             }
            },
            "header": {
             "fill": {
              "color": "#C8D4E3"
             },
             "line": {
              "color": "white"
             }
            },
            "type": "table"
           }
          ]
         },
         "layout": {
          "annotationdefaults": {
           "arrowcolor": "#2a3f5f",
           "arrowhead": 0,
           "arrowwidth": 1
          },
          "autotypenumbers": "strict",
          "coloraxis": {
           "colorbar": {
            "outlinewidth": 0,
            "ticks": ""
           }
          },
          "colorscale": {
           "diverging": [
            [
             0,
             "#8e0152"
            ],
            [
             0.1,
             "#c51b7d"
            ],
            [
             0.2,
             "#de77ae"
            ],
            [
             0.3,
             "#f1b6da"
            ],
            [
             0.4,
             "#fde0ef"
            ],
            [
             0.5,
             "#f7f7f7"
            ],
            [
             0.6,
             "#e6f5d0"
            ],
            [
             0.7,
             "#b8e186"
            ],
            [
             0.8,
             "#7fbc41"
            ],
            [
             0.9,
             "#4d9221"
            ],
            [
             1,
             "#276419"
            ]
           ],
           "sequential": [
            [
             0,
             "#0d0887"
            ],
            [
             0.1111111111111111,
             "#46039f"
            ],
            [
             0.2222222222222222,
             "#7201a8"
            ],
            [
             0.3333333333333333,
             "#9c179e"
            ],
            [
             0.4444444444444444,
             "#bd3786"
            ],
            [
             0.5555555555555556,
             "#d8576b"
            ],
            [
             0.6666666666666666,
             "#ed7953"
            ],
            [
             0.7777777777777778,
             "#fb9f3a"
            ],
            [
             0.8888888888888888,
             "#fdca26"
            ],
            [
             1,
             "#f0f921"
            ]
           ],
           "sequentialminus": [
            [
             0,
             "#0d0887"
            ],
            [
             0.1111111111111111,
             "#46039f"
            ],
            [
             0.2222222222222222,
             "#7201a8"
            ],
            [
             0.3333333333333333,
             "#9c179e"
            ],
            [
             0.4444444444444444,
             "#bd3786"
            ],
            [
             0.5555555555555556,
             "#d8576b"
            ],
            [
             0.6666666666666666,
             "#ed7953"
            ],
            [
             0.7777777777777778,
             "#fb9f3a"
            ],
            [
             0.8888888888888888,
             "#fdca26"
            ],
            [
             1,
             "#f0f921"
            ]
           ]
          },
          "colorway": [
           "#636efa",
           "#EF553B",
           "#00cc96",
           "#ab63fa",
           "#FFA15A",
           "#19d3f3",
           "#FF6692",
           "#B6E880",
           "#FF97FF",
           "#FECB52"
          ],
          "font": {
           "color": "#2a3f5f"
          },
          "geo": {
           "bgcolor": "white",
           "lakecolor": "white",
           "landcolor": "#E5ECF6",
           "showlakes": true,
           "showland": true,
           "subunitcolor": "white"
          },
          "hoverlabel": {
           "align": "left"
          },
          "hovermode": "closest",
          "mapbox": {
           "style": "light"
          },
          "paper_bgcolor": "white",
          "plot_bgcolor": "#E5ECF6",
          "polar": {
           "angularaxis": {
            "gridcolor": "white",
            "linecolor": "white",
            "ticks": ""
           },
           "bgcolor": "#E5ECF6",
           "radialaxis": {
            "gridcolor": "white",
            "linecolor": "white",
            "ticks": ""
           }
          },
          "scene": {
           "xaxis": {
            "backgroundcolor": "#E5ECF6",
            "gridcolor": "white",
            "gridwidth": 2,
            "linecolor": "white",
            "showbackground": true,
            "ticks": "",
            "zerolinecolor": "white"
           },
           "yaxis": {
            "backgroundcolor": "#E5ECF6",
            "gridcolor": "white",
            "gridwidth": 2,
            "linecolor": "white",
            "showbackground": true,
            "ticks": "",
            "zerolinecolor": "white"
           },
           "zaxis": {
            "backgroundcolor": "#E5ECF6",
            "gridcolor": "white",
            "gridwidth": 2,
            "linecolor": "white",
            "showbackground": true,
            "ticks": "",
            "zerolinecolor": "white"
           }
          },
          "shapedefaults": {
           "line": {
            "color": "#2a3f5f"
           }
          },
          "ternary": {
           "aaxis": {
            "gridcolor": "white",
            "linecolor": "white",
            "ticks": ""
           },
           "baxis": {
            "gridcolor": "white",
            "linecolor": "white",
            "ticks": ""
           },
           "bgcolor": "#E5ECF6",
           "caxis": {
            "gridcolor": "white",
            "linecolor": "white",
            "ticks": ""
           }
          },
          "title": {
           "x": 0.05
          },
          "xaxis": {
           "automargin": true,
           "gridcolor": "white",
           "linecolor": "white",
           "ticks": "",
           "title": {
            "standoff": 15
           },
           "zerolinecolor": "white",
           "zerolinewidth": 2
          },
          "yaxis": {
           "automargin": true,
           "gridcolor": "white",
           "linecolor": "white",
           "ticks": "",
           "title": {
            "standoff": 15
           },
           "zerolinecolor": "white",
           "zerolinewidth": 2
          }
         }
        },
        "xaxis": {
         "anchor": "y",
         "domain": [
          0,
          1
         ],
         "title": {
          "text": "datetime"
         }
        },
        "yaxis": {
         "anchor": "x",
         "domain": [
          0,
          1
         ],
         "title": {
          "text": "value"
         }
        }
       }
      }
     },
     "metadata": {},
     "output_type": "display_data"
    }
   ],
   "source": [
    "import plotly.express as px\n",
    "\n",
    "px.bar(data_frame=df)"
   ]
  },
  {
   "cell_type": "markdown",
   "id": "77c3913e-e9d9-4601-91fb-cfddedcec027",
   "metadata": {},
   "source": [
    "## Melt the daily p48 generation `DataFrame`"
   ]
  },
  {
   "cell_type": "code",
   "execution_count": 32,
   "id": "e022a96a-1ef9-4a6d-9ac8-1c4d64573717",
   "metadata": {},
   "outputs": [
    {
     "data": {
      "text/html": [
       "<div>\n",
       "<style scoped>\n",
       "    .dataframe tbody tr th:only-of-type {\n",
       "        vertical-align: middle;\n",
       "    }\n",
       "\n",
       "    .dataframe tbody tr th {\n",
       "        vertical-align: top;\n",
       "    }\n",
       "\n",
       "    .dataframe thead th {\n",
       "        text-align: right;\n",
       "    }\n",
       "</style>\n",
       "<table border=\"1\" class=\"dataframe\">\n",
       "  <thead>\n",
       "    <tr style=\"text-align: right;\">\n",
       "      <th></th>\n",
       "      <th>datetime</th>\n",
       "      <th>variable</th>\n",
       "      <th>value</th>\n",
       "    </tr>\n",
       "  </thead>\n",
       "  <tbody>\n",
       "    <tr>\n",
       "      <th>0</th>\n",
       "      <td>2022-12-01</td>\n",
       "      <td>Turbinación bombeo</td>\n",
       "      <td>9475.800</td>\n",
       "    </tr>\n",
       "    <tr>\n",
       "      <th>1</th>\n",
       "      <td>2022-12-02</td>\n",
       "      <td>Turbinación bombeo</td>\n",
       "      <td>6406.417</td>\n",
       "    </tr>\n",
       "    <tr>\n",
       "      <th>...</th>\n",
       "      <td>...</td>\n",
       "      <td>...</td>\n",
       "      <td>...</td>\n",
       "    </tr>\n",
       "    <tr>\n",
       "      <th>556</th>\n",
       "      <td>2022-12-30</td>\n",
       "      <td>Hidráulica</td>\n",
       "      <td>76542.575</td>\n",
       "    </tr>\n",
       "    <tr>\n",
       "      <th>557</th>\n",
       "      <td>2022-12-31</td>\n",
       "      <td>Hidráulica</td>\n",
       "      <td>88236.784</td>\n",
       "    </tr>\n",
       "  </tbody>\n",
       "</table>\n",
       "<p>558 rows × 3 columns</p>\n",
       "</div>"
      ],
      "text/plain": [
       "      datetime            variable      value\n",
       "0   2022-12-01  Turbinación bombeo   9475.800\n",
       "1   2022-12-02  Turbinación bombeo   6406.417\n",
       "..         ...                 ...        ...\n",
       "556 2022-12-30          Hidráulica  76542.575\n",
       "557 2022-12-31          Hidráulica  88236.784\n",
       "\n",
       "[558 rows x 3 columns]"
      ]
     },
     "execution_count": 32,
     "metadata": {},
     "output_type": "execute_result"
    }
   ],
   "source": [
    "dfm = df.melt(ignore_index=False).reset_index()\n",
    "dfm"
   ]
  },
  {
   "cell_type": "markdown",
   "id": "f52321e9-f518-42ac-be62-5429162b4739",
   "metadata": {},
   "source": [
    "## Visualize the data"
   ]
  },
  {
   "cell_type": "markdown",
   "id": "e959fbe1-3c54-4250-945d-517f4b1ba4d0",
   "metadata": {},
   "source": [
    "### Bar plot"
   ]
  },
  {
   "cell_type": "markdown",
   "id": "7843acad-11c8-4d4c-9294-249ebf324e9a",
   "metadata": {},
   "source": [
    "#### Colors"
   ]
  },
  {
   "cell_type": "code",
   "execution_count": 39,
   "id": "7e1f2202-ed7b-4b62-b198-4f47ea36141b",
   "metadata": {},
   "outputs": [],
   "source": [
    "dfm = dfm.sort_values('value', ascending=False)"
   ]
  },
  {
   "cell_type": "code",
   "execution_count": 34,
   "id": "48e7d441-8749-48eb-86bc-35e6eb0458dd",
   "metadata": {},
   "outputs": [
    {
     "data": {
      "application/vnd.plotly.v1+json": {
       "config": {
        "plotlyServerURL": "https://plot.ly"
       },
       "data": [
        {
         "alignmentgroup": "True",
         "hovertemplate": "variable=Eólica<br>datetime=%{x}<br>value=%{y}<extra></extra>",
         "legendgroup": "Eólica",
         "marker": {
          "color": "#636efa",
          "pattern": {
           "shape": ""
          }
         },
         "name": "Eólica",
         "offsetgroup": "Eólica",
         "orientation": "v",
         "showlegend": true,
         "textposition": "auto",
         "type": "bar",
         "x": [
          "2022-12-12T00:00:00",
          "2022-12-21T00:00:00",
          "2022-12-30T00:00:00",
          "2022-12-22T00:00:00",
          "2022-12-13T00:00:00",
          "2022-12-20T00:00:00",
          "2022-12-23T00:00:00",
          "2022-12-14T00:00:00",
          "2022-12-10T00:00:00",
          "2022-12-19T00:00:00",
          "2022-12-29T00:00:00",
          "2022-12-09T00:00:00",
          "2022-12-28T00:00:00",
          "2022-12-08T00:00:00",
          "2022-12-15T00:00:00",
          "2022-12-18T00:00:00",
          "2022-12-24T00:00:00",
          "2022-12-31T00:00:00",
          "2022-12-25T00:00:00",
          "2022-12-16T00:00:00",
          "2022-12-01T00:00:00",
          "2022-12-11T00:00:00",
          "2022-12-05T00:00:00",
          "2022-12-03T00:00:00",
          "2022-12-02T00:00:00",
          "2022-12-17T00:00:00",
          "2022-12-04T00:00:00",
          "2022-12-27T00:00:00",
          "2022-12-26T00:00:00",
          "2022-12-07T00:00:00",
          "2022-12-06T00:00:00"
         ],
         "xaxis": "x",
         "y": [
          344688.925,
          317072.911,
          314274.925,
          295582.25,
          294800.075,
          273608.877,
          258296.45,
          257419.225,
          256540.694,
          251926.53,
          248642.775,
          200978.258,
          197316.296,
          196346.675,
          187318.758,
          185238.875,
          181749.317,
          175047.375,
          164381.945,
          158883.65,
          144571.275,
          143732.398,
          134602.975,
          76798.2,
          76543.005,
          63560.95,
          61074.95,
          58327.625,
          55458.75,
          50885.45,
          40119.125
         ],
         "yaxis": "y"
        },
        {
         "alignmentgroup": "True",
         "hovertemplate": "variable=Ciclo combinado<br>datetime=%{x}<br>value=%{y}<extra></extra>",
         "legendgroup": "Ciclo combinado",
         "marker": {
          "color": "#EF553B",
          "pattern": {
           "shape": ""
          }
         },
         "name": "Ciclo combinado",
         "offsetgroup": "Ciclo combinado",
         "orientation": "v",
         "showlegend": true,
         "textposition": "auto",
         "type": "bar",
         "x": [
          "2022-12-07T00:00:00",
          "2022-12-06T00:00:00",
          "2022-12-02T00:00:00",
          "2022-12-03T00:00:00",
          "2022-12-05T00:00:00",
          "2022-12-04T00:00:00",
          "2022-12-09T00:00:00",
          "2022-12-01T00:00:00",
          "2022-12-17T00:00:00",
          "2022-12-08T00:00:00",
          "2022-12-11T00:00:00",
          "2022-12-15T00:00:00",
          "2022-12-16T00:00:00",
          "2022-12-10T00:00:00",
          "2022-12-26T00:00:00",
          "2022-12-27T00:00:00",
          "2022-12-13T00:00:00",
          "2022-12-14T00:00:00",
          "2022-12-12T00:00:00",
          "2022-12-25T00:00:00",
          "2022-12-20T00:00:00",
          "2022-12-28T00:00:00",
          "2022-12-24T00:00:00",
          "2022-12-19T00:00:00",
          "2022-12-18T00:00:00",
          "2022-12-21T00:00:00",
          "2022-12-23T00:00:00",
          "2022-12-22T00:00:00",
          "2022-12-29T00:00:00",
          "2022-12-31T00:00:00",
          "2022-12-30T00:00:00"
         ],
         "xaxis": "x",
         "y": [
          341391.733,
          322276.183,
          285396.367,
          246015.975,
          231782.59,
          210513.092,
          194561.325,
          188295.075,
          157527.325,
          154792.95,
          150085.35,
          149197.75,
          135891.892,
          118185.175,
          94148,
          86273.023,
          75096.133,
          70417.05,
          52904.3,
          52580.142,
          52555.55,
          51487.473,
          51194.092000000004,
          51129.533,
          50901.975,
          47266.042,
          41976.375,
          41528.575,
          41460.75,
          36128.75,
          28471.8
         ],
         "yaxis": "y"
        },
        {
         "alignmentgroup": "True",
         "hovertemplate": "variable=Nuclear<br>datetime=%{x}<br>value=%{y}<extra></extra>",
         "legendgroup": "Nuclear",
         "marker": {
          "color": "#00cc96",
          "pattern": {
           "shape": ""
          }
         },
         "name": "Nuclear",
         "offsetgroup": "Nuclear",
         "orientation": "v",
         "showlegend": true,
         "textposition": "auto",
         "type": "bar",
         "x": [
          "2022-12-19T00:00:00",
          "2022-12-29T00:00:00",
          "2022-12-18T00:00:00",
          "2022-12-12T00:00:00",
          "2022-12-20T00:00:00",
          "2022-12-13T00:00:00",
          "2022-12-14T00:00:00",
          "2022-12-28T00:00:00",
          "2022-12-02T00:00:00",
          "2022-12-27T00:00:00",
          "2022-12-22T00:00:00",
          "2022-12-26T00:00:00",
          "2022-12-24T00:00:00",
          "2022-12-23T00:00:00",
          "2022-12-01T00:00:00",
          "2022-12-25T00:00:00",
          "2022-12-21T00:00:00",
          "2022-12-15T00:00:00",
          "2022-12-05T00:00:00",
          "2022-12-17T00:00:00",
          "2022-12-16T00:00:00",
          "2022-12-04T00:00:00",
          "2022-12-03T00:00:00",
          "2022-12-11T00:00:00",
          "2022-12-30T00:00:00",
          "2022-12-09T00:00:00",
          "2022-12-10T00:00:00",
          "2022-12-06T00:00:00",
          "2022-12-08T00:00:00",
          "2022-12-31T00:00:00",
          "2022-12-07T00:00:00"
         ],
         "xaxis": "x",
         "y": [
          169818,
          169809.625,
          169706.5,
          169641.1,
          169592.8,
          169576.1,
          169575,
          169567.2,
          169522.6,
          169505.9,
          169502.9,
          169502.7,
          169448.3,
          169402.2,
          169400.9,
          169385.125,
          169287.4,
          169259.5,
          169236.2,
          169194.7,
          169193.30000000002,
          168845,
          168810.9,
          165961.30000000002,
          162528.875,
          161637.125,
          160593.4,
          157636.2,
          155594.15,
          149035.975,
          146309.25
         ],
         "yaxis": "y"
        },
        {
         "alignmentgroup": "True",
         "hovertemplate": "variable=Hidráulica<br>datetime=%{x}<br>value=%{y}<extra></extra>",
         "legendgroup": "Hidráulica",
         "marker": {
          "color": "#ab63fa",
          "pattern": {
           "shape": ""
          }
         },
         "name": "Hidráulica",
         "offsetgroup": "Hidráulica",
         "orientation": "v",
         "showlegend": true,
         "textposition": "auto",
         "type": "bar",
         "x": [
          "2022-12-27T00:00:00",
          "2022-12-22T00:00:00",
          "2022-12-17T00:00:00",
          "2022-12-16T00:00:00",
          "2022-12-20T00:00:00",
          "2022-12-21T00:00:00",
          "2022-12-23T00:00:00",
          "2022-12-14T00:00:00",
          "2022-12-26T00:00:00",
          "2022-12-15T00:00:00",
          "2022-12-19T00:00:00",
          "2022-12-28T00:00:00",
          "2022-12-31T00:00:00",
          "2022-12-29T00:00:00",
          "2022-12-02T00:00:00",
          "2022-12-24T00:00:00",
          "2022-12-13T00:00:00",
          "2022-12-03T00:00:00",
          "2022-12-04T00:00:00",
          "2022-12-01T00:00:00",
          "2022-12-06T00:00:00",
          "2022-12-18T00:00:00",
          "2022-12-05T00:00:00",
          "2022-12-30T00:00:00",
          "2022-12-25T00:00:00",
          "2022-12-12T00:00:00",
          "2022-12-09T00:00:00",
          "2022-12-07T00:00:00",
          "2022-12-08T00:00:00",
          "2022-12-10T00:00:00",
          "2022-12-11T00:00:00"
         ],
         "xaxis": "x",
         "y": [
          135477.917,
          134507.025,
          123661.725,
          123345.8,
          116866.385,
          113013.381,
          112591.575,
          110373.975,
          109989.8,
          109022.625,
          103753.1,
          101033.635,
          88236.784,
          87332.95,
          87180.3,
          86089.875,
          85869.475,
          85602.95,
          85471.125,
          85416.9,
          82807.959,
          82296.15,
          77820.9,
          76542.575,
          72493.566,
          71207.95,
          70869.7,
          68763.85,
          66273.175,
          65128.638,
          65094.6
         ],
         "yaxis": "y"
        },
        {
         "alignmentgroup": "True",
         "hovertemplate": "variable=Saldo Portugal<br>datetime=%{x}<br>value=%{y}<extra></extra>",
         "legendgroup": "Saldo Portugal",
         "marker": {
          "color": "#FFA15A",
          "pattern": {
           "shape": ""
          }
         },
         "name": "Saldo Portugal",
         "offsetgroup": "Saldo Portugal",
         "orientation": "v",
         "showlegend": true,
         "textposition": "auto",
         "type": "bar",
         "x": [
          "2022-12-24T00:00:00",
          "2022-12-31T00:00:00",
          "2022-12-30T00:00:00",
          "2022-12-19T00:00:00",
          "2022-12-16T00:00:00",
          "2022-12-20T00:00:00",
          "2022-12-13T00:00:00",
          "2022-12-18T00:00:00",
          "2022-12-25T00:00:00",
          "2022-12-11T00:00:00",
          "2022-12-14T00:00:00",
          "2022-12-29T00:00:00",
          "2022-12-17T00:00:00",
          "2022-12-12T00:00:00",
          "2022-12-21T00:00:00",
          "2022-12-01T00:00:00",
          "2022-12-23T00:00:00",
          "2022-12-05T00:00:00",
          "2022-12-07T00:00:00",
          "2022-12-27T00:00:00",
          "2022-12-08T00:00:00",
          "2022-12-04T00:00:00",
          "2022-12-15T00:00:00",
          "2022-12-09T00:00:00",
          "2022-12-22T00:00:00",
          "2022-12-02T00:00:00",
          "2022-12-03T00:00:00",
          "2022-12-26T00:00:00",
          "2022-12-28T00:00:00",
          "2022-12-10T00:00:00",
          "2022-12-06T00:00:00"
         ],
         "xaxis": "x",
         "y": [
          60934.9,
          59926.708,
          50542.1,
          42347.7,
          39111.8,
          37146,
          34339,
          33695.3,
          31361.5,
          29825.5,
          29372.2,
          28566,
          23501.5,
          21877,
          21204.6,
          21038.2,
          18653.6,
          11326.199999999999,
          11148.2,
          10529.3,
          10464.099999999999,
          6200.8,
          2574.4,
          -1596.7000000000003,
          -2419.7000000000003,
          -5325,
          -5556.700000000001,
          -10631.1,
          -11994.9,
          -19905.8,
          -21626
         ],
         "yaxis": "y"
        },
        {
         "alignmentgroup": "True",
         "hovertemplate": "variable=Solar fotovoltaica<br>datetime=%{x}<br>value=%{y}<extra></extra>",
         "legendgroup": "Solar fotovoltaica",
         "marker": {
          "color": "#19d3f3",
          "pattern": {
           "shape": ""
          }
         },
         "name": "Solar fotovoltaica",
         "offsetgroup": "Solar fotovoltaica",
         "orientation": "v",
         "showlegend": true,
         "textposition": "auto",
         "type": "bar",
         "x": [
          "2022-12-27T00:00:00",
          "2022-12-28T00:00:00",
          "2022-12-26T00:00:00",
          "2022-12-31T00:00:00",
          "2022-12-18T00:00:00",
          "2022-12-02T00:00:00",
          "2022-12-03T00:00:00",
          "2022-12-19T00:00:00",
          "2022-12-24T00:00:00",
          "2022-12-01T00:00:00",
          "2022-12-23T00:00:00",
          "2022-12-04T00:00:00",
          "2022-12-25T00:00:00",
          "2022-12-10T00:00:00",
          "2022-12-17T00:00:00",
          "2022-12-30T00:00:00",
          "2022-12-29T00:00:00",
          "2022-12-22T00:00:00",
          "2022-12-07T00:00:00",
          "2022-12-21T00:00:00",
          "2022-12-16T00:00:00",
          "2022-12-15T00:00:00",
          "2022-12-20T00:00:00",
          "2022-12-06T00:00:00",
          "2022-12-14T00:00:00",
          "2022-12-08T00:00:00",
          "2022-12-09T00:00:00",
          "2022-12-05T00:00:00",
          "2022-12-11T00:00:00",
          "2022-12-12T00:00:00",
          "2022-12-13T00:00:00"
         ],
         "xaxis": "x",
         "y": [
          59797.25,
          59363.575,
          56396.6,
          52060.875,
          51501,
          50708.7,
          50362.75,
          49794.525,
          48427.725,
          48341.025,
          46412.125,
          44570.7,
          43649.75,
          40667.606,
          39169.425,
          38280.325000000004,
          36229.15,
          35855.825,
          34359.1,
          32762.8,
          30831.425,
          30690.625,
          29117.325,
          28200.75,
          27722.675,
          21719.6,
          20660.125,
          20158.35,
          18862.95,
          17826,
          12369.175
         ],
         "yaxis": "y"
        },
        {
         "alignmentgroup": "True",
         "hovertemplate": "variable=Cogeneración<br>datetime=%{x}<br>value=%{y}<extra></extra>",
         "legendgroup": "Cogeneración",
         "marker": {
          "color": "#FF6692",
          "pattern": {
           "shape": ""
          }
         },
         "name": "Cogeneración",
         "offsetgroup": "Cogeneración",
         "orientation": "v",
         "showlegend": true,
         "textposition": "auto",
         "type": "bar",
         "x": [
          "2022-12-05T00:00:00",
          "2022-12-01T00:00:00",
          "2022-12-02T00:00:00",
          "2022-12-03T00:00:00",
          "2022-12-06T00:00:00",
          "2022-12-07T00:00:00",
          "2022-12-09T00:00:00",
          "2022-12-12T00:00:00",
          "2022-12-08T00:00:00",
          "2022-12-11T00:00:00",
          "2022-12-04T00:00:00",
          "2022-12-10T00:00:00",
          "2022-12-15T00:00:00",
          "2022-12-16T00:00:00",
          "2022-12-17T00:00:00",
          "2022-12-19T00:00:00",
          "2022-12-13T00:00:00",
          "2022-12-20T00:00:00",
          "2022-12-14T00:00:00",
          "2022-12-18T00:00:00",
          "2022-12-21T00:00:00",
          "2022-12-27T00:00:00",
          "2022-12-22T00:00:00",
          "2022-12-26T00:00:00",
          "2022-12-28T00:00:00",
          "2022-12-23T00:00:00",
          "2022-12-29T00:00:00",
          "2022-12-24T00:00:00",
          "2022-12-30T00:00:00",
          "2022-12-25T00:00:00",
          "2022-12-31T00:00:00"
         ],
         "xaxis": "x",
         "y": [
          45096.008,
          44488.75,
          43460,
          43385.6,
          43235.25,
          42557.95,
          42478.325,
          41857.335,
          41598.9,
          41355.55,
          41312.3,
          40416.725,
          40013.15,
          39923.484,
          39267.753,
          38811.045,
          38477.151,
          38032.4,
          37884.2,
          37059.347,
          35639.475,
          34161.95,
          33943.65,
          27379.260000000002,
          27375.2,
          26736.7,
          25536.35,
          22818.625,
          21089.6,
          19407.15,
          18808.9
         ],
         "yaxis": "y"
        },
        {
         "alignmentgroup": "True",
         "hovertemplate": "variable=Carbón<br>datetime=%{x}<br>value=%{y}<extra></extra>",
         "legendgroup": "Carbón",
         "marker": {
          "color": "#B6E880",
          "pattern": {
           "shape": ""
          }
         },
         "name": "Carbón",
         "offsetgroup": "Carbón",
         "orientation": "v",
         "showlegend": true,
         "textposition": "auto",
         "type": "bar",
         "x": [
          "2022-12-16T00:00:00",
          "2022-12-15T00:00:00",
          "2022-12-17T00:00:00",
          "2022-12-12T00:00:00",
          "2022-12-13T00:00:00",
          "2022-12-14T00:00:00",
          "2022-12-11T00:00:00",
          "2022-12-19T00:00:00",
          "2022-12-18T00:00:00",
          "2022-12-05T00:00:00",
          "2022-12-07T00:00:00",
          "2022-12-04T00:00:00",
          "2022-12-08T00:00:00",
          "2022-12-10T00:00:00",
          "2022-12-02T00:00:00",
          "2022-12-06T00:00:00",
          "2022-12-01T00:00:00",
          "2022-12-20T00:00:00",
          "2022-12-03T00:00:00",
          "2022-12-09T00:00:00",
          "2022-12-21T00:00:00",
          "2022-12-22T00:00:00",
          "2022-12-23T00:00:00",
          "2022-12-27T00:00:00",
          "2022-12-26T00:00:00",
          "2022-12-29T00:00:00",
          "2022-12-28T00:00:00",
          "2022-12-30T00:00:00",
          "2022-12-24T00:00:00",
          "2022-12-31T00:00:00",
          "2022-12-25T00:00:00"
         ],
         "xaxis": "x",
         "y": [
          38151,
          37540.825,
          37002.6,
          36722.15,
          33225.1,
          33157.075,
          32680.525,
          32393.075,
          29905.15,
          29320.725,
          28533.5,
          27398.65,
          27207.9,
          26735.2,
          26381.758,
          25766.596,
          25422.9,
          25127.975,
          24466.6,
          23904.283,
          18624.025,
          17101.925,
          16119.75,
          15506.25,
          11544.85,
          8283.4,
          8236.2,
          8145.1,
          7047.75,
          6771.85,
          6419.667
         ],
         "yaxis": "y"
        },
        {
         "alignmentgroup": "True",
         "hovertemplate": "variable=Turbinación bombeo<br>datetime=%{x}<br>value=%{y}<extra></extra>",
         "legendgroup": "Turbinación bombeo",
         "marker": {
          "color": "#FF97FF",
          "pattern": {
           "shape": ""
          }
         },
         "name": "Turbinación bombeo",
         "offsetgroup": "Turbinación bombeo",
         "orientation": "v",
         "showlegend": true,
         "textposition": "auto",
         "type": "bar",
         "x": [
          "2022-12-29T00:00:00",
          "2022-12-27T00:00:00",
          "2022-12-28T00:00:00",
          "2022-12-26T00:00:00",
          "2022-12-14T00:00:00",
          "2022-12-23T00:00:00",
          "2022-12-03T00:00:00",
          "2022-12-31T00:00:00",
          "2022-12-20T00:00:00",
          "2022-12-22T00:00:00",
          "2022-12-24T00:00:00",
          "2022-12-13T00:00:00",
          "2022-12-19T00:00:00",
          "2022-12-30T00:00:00",
          "2022-12-05T00:00:00",
          "2022-12-08T00:00:00",
          "2022-12-21T00:00:00",
          "2022-12-15T00:00:00",
          "2022-12-16T00:00:00",
          "2022-12-25T00:00:00",
          "2022-12-01T00:00:00",
          "2022-12-06T00:00:00",
          "2022-12-11T00:00:00",
          "2022-12-04T00:00:00",
          "2022-12-12T00:00:00",
          "2022-12-09T00:00:00",
          "2022-12-18T00:00:00",
          "2022-12-02T00:00:00",
          "2022-12-10T00:00:00",
          "2022-12-17T00:00:00",
          "2022-12-07T00:00:00"
         ],
         "xaxis": "x",
         "y": [
          26680.933,
          23846.325,
          19804.125,
          17833.65,
          16857.975,
          16210.5,
          14898.15,
          14834.488000000001,
          14355.25,
          14284.725,
          14110.775,
          13910.550000000001,
          12809.65,
          12695.875,
          12508.775,
          11663,
          11341.1,
          10475.1,
          10222.025,
          9824.525,
          9475.8,
          8886.075,
          7923.65,
          7777.625,
          7572.9,
          6884.525,
          6645.225,
          6406.417,
          5805.15,
          5342.625,
          2728.8940000000002
         ],
         "yaxis": "y"
        },
        {
         "alignmentgroup": "True",
         "hovertemplate": "variable=otras renovables<br>datetime=%{x}<br>value=%{y}<extra></extra>",
         "legendgroup": "otras renovables",
         "marker": {
          "color": "#FECB52",
          "pattern": {
           "shape": ""
          }
         },
         "name": "otras renovables",
         "offsetgroup": "otras renovables",
         "orientation": "v",
         "showlegend": true,
         "textposition": "auto",
         "type": "bar",
         "x": [
          "2022-12-15T00:00:00",
          "2022-12-17T00:00:00",
          "2022-12-18T00:00:00",
          "2022-12-16T00:00:00",
          "2022-12-06T00:00:00",
          "2022-12-13T00:00:00",
          "2022-12-11T00:00:00",
          "2022-12-04T00:00:00",
          "2022-12-02T00:00:00",
          "2022-12-07T00:00:00",
          "2022-12-12T00:00:00",
          "2022-12-03T00:00:00",
          "2022-12-05T00:00:00",
          "2022-12-01T00:00:00",
          "2022-12-14T00:00:00",
          "2022-12-08T00:00:00",
          "2022-12-09T00:00:00",
          "2022-12-10T00:00:00",
          "2022-12-19T00:00:00",
          "2022-12-20T00:00:00",
          "2022-12-21T00:00:00",
          "2022-12-27T00:00:00",
          "2022-12-22T00:00:00",
          "2022-12-23T00:00:00",
          "2022-12-28T00:00:00",
          "2022-12-26T00:00:00",
          "2022-12-29T00:00:00",
          "2022-12-24T00:00:00",
          "2022-12-25T00:00:00",
          "2022-12-30T00:00:00",
          "2022-12-31T00:00:00"
         ],
         "xaxis": "x",
         "y": [
          13006.307999999999,
          12924.467,
          12892,
          12828.333,
          12641.175,
          12513.858,
          12465.9,
          12458.6,
          12386.8,
          12311.833,
          12229.6,
          12186.2,
          12178.39,
          12098.93,
          12059.300000000001,
          11886.26,
          11761.525,
          11704.9,
          11620.05,
          11211.842,
          11191.967,
          10769.275,
          10668.875,
          8266.8,
          7986.6,
          7860,
          7215.2,
          7015.6,
          6713.1,
          6586.2,
          6060.7
         ],
         "yaxis": "y"
        },
        {
         "alignmentgroup": "True",
         "hovertemplate": "variable=Solar térmica<br>datetime=%{x}<br>value=%{y}<extra></extra>",
         "legendgroup": "Solar térmica",
         "marker": {
          "color": "#636efa",
          "pattern": {
           "shape": ""
          }
         },
         "name": "Solar térmica",
         "offsetgroup": "Solar térmica",
         "orientation": "v",
         "showlegend": true,
         "textposition": "auto",
         "type": "bar",
         "x": [
          "2022-12-27T00:00:00",
          "2022-12-28T00:00:00",
          "2022-12-26T00:00:00",
          "2022-12-02T00:00:00",
          "2022-12-31T00:00:00",
          "2022-12-03T00:00:00",
          "2022-12-25T00:00:00",
          "2022-12-19T00:00:00",
          "2022-12-18T00:00:00",
          "2022-12-23T00:00:00",
          "2022-12-01T00:00:00",
          "2022-12-24T00:00:00",
          "2022-12-22T00:00:00",
          "2022-12-04T00:00:00",
          "2022-12-29T00:00:00",
          "2022-12-17T00:00:00",
          "2022-12-30T00:00:00",
          "2022-12-07T00:00:00",
          "2022-12-21T00:00:00",
          "2022-12-20T00:00:00",
          "2022-12-10T00:00:00",
          "2022-12-05T00:00:00",
          "2022-12-16T00:00:00",
          "2022-12-06T00:00:00",
          "2022-12-12T00:00:00",
          "2022-12-13T00:00:00",
          "2022-12-14T00:00:00",
          "2022-12-15T00:00:00",
          "2022-12-11T00:00:00",
          "2022-12-08T00:00:00",
          "2022-12-09T00:00:00"
         ],
         "xaxis": "x",
         "y": [
          6443.7,
          6226.6,
          5702.900000000001,
          5637.6,
          5355.400000000001,
          4216.6,
          3997.7000000000003,
          3804.4,
          3652.575,
          3433.3,
          3152.2,
          2837.8,
          2165.4,
          1989.3,
          1697.8,
          1615.1000000000001,
          1502.7,
          782.8000000000001,
          639.8,
          607.5,
          568.2,
          343.4,
          343.2,
          330,
          232.9,
          164.5,
          138.1,
          82.8,
          51.4,
          42.9,
          6.9
         ],
         "yaxis": "y"
        },
        {
         "alignmentgroup": "True",
         "hovertemplate": "variable=Residuos no renovables<br>datetime=%{x}<br>value=%{y}<extra></extra>",
         "legendgroup": "Residuos no renovables",
         "marker": {
          "color": "#EF553B",
          "pattern": {
           "shape": ""
          }
         },
         "name": "Residuos no renovables",
         "offsetgroup": "Residuos no renovables",
         "orientation": "v",
         "showlegend": true,
         "textposition": "auto",
         "type": "bar",
         "x": [
          "2022-12-03T00:00:00",
          "2022-12-27T00:00:00",
          "2022-12-10T00:00:00",
          "2022-12-11T00:00:00",
          "2022-12-02T00:00:00",
          "2022-12-09T00:00:00",
          "2022-12-21T00:00:00",
          "2022-12-08T00:00:00",
          "2022-12-30T00:00:00",
          "2022-12-18T00:00:00",
          "2022-12-12T00:00:00",
          "2022-12-04T00:00:00",
          "2022-12-29T00:00:00",
          "2022-12-31T00:00:00",
          "2022-12-26T00:00:00",
          "2022-12-13T00:00:00",
          "2022-12-19T00:00:00",
          "2022-12-01T00:00:00",
          "2022-12-23T00:00:00",
          "2022-12-25T00:00:00",
          "2022-12-24T00:00:00",
          "2022-12-20T00:00:00",
          "2022-12-06T00:00:00",
          "2022-12-05T00:00:00",
          "2022-12-22T00:00:00",
          "2022-12-28T00:00:00",
          "2022-12-07T00:00:00",
          "2022-12-17T00:00:00",
          "2022-12-16T00:00:00",
          "2022-12-14T00:00:00",
          "2022-12-15T00:00:00"
         ],
         "xaxis": "x",
         "y": [
          6398.8,
          6344.63,
          6338.2,
          6325,
          6306,
          6290.8,
          6247.4,
          6220.599999999999,
          6206.1,
          6156.2,
          6142.633,
          6142.1,
          6125.2,
          6096.625,
          6093.319,
          6062.9,
          6056.33,
          6036.4,
          6023.2,
          6023.1,
          5999.8,
          5990.4,
          5945.1,
          5879.3,
          5875.725,
          5867.778,
          5864.3,
          5806.9,
          5448.4,
          5330.75,
          5076.8
         ],
         "yaxis": "y"
        },
        {
         "alignmentgroup": "True",
         "hovertemplate": "variable=Ajuste P48<br>datetime=%{x}<br>value=%{y}<extra></extra>",
         "legendgroup": "Ajuste P48",
         "marker": {
          "color": "#00cc96",
          "pattern": {
           "shape": ""
          }
         },
         "name": "Ajuste P48",
         "offsetgroup": "Ajuste P48",
         "orientation": "v",
         "showlegend": true,
         "textposition": "auto",
         "type": "bar",
         "x": [
          "2022-12-20T00:00:00",
          "2022-12-25T00:00:00",
          "2022-12-18T00:00:00",
          "2022-12-21T00:00:00",
          "2022-12-01T00:00:00",
          "2022-12-12T00:00:00",
          "2022-12-30T00:00:00",
          "2022-12-02T00:00:00",
          "2022-12-27T00:00:00",
          "2022-12-23T00:00:00",
          "2022-12-26T00:00:00",
          "2022-12-22T00:00:00",
          "2022-12-19T00:00:00",
          "2022-12-13T00:00:00",
          "2022-12-24T00:00:00",
          "2022-12-17T00:00:00",
          "2022-12-28T00:00:00",
          "2022-12-11T00:00:00",
          "2022-12-15T00:00:00",
          "2022-12-07T00:00:00",
          "2022-12-06T00:00:00",
          "2022-12-05T00:00:00",
          "2022-12-31T00:00:00",
          "2022-12-04T00:00:00",
          "2022-12-10T00:00:00",
          "2022-12-03T00:00:00",
          "2022-12-14T00:00:00",
          "2022-12-29T00:00:00",
          "2022-12-16T00:00:00",
          "2022-12-08T00:00:00",
          "2022-12-09T00:00:00"
         ],
         "xaxis": "x",
         "y": [
          6075,
          5550,
          3348.55,
          2506.7,
          1535,
          302.625,
          252,
          197.5,
          26,
          -763.9,
          -1237.5,
          -1653.125,
          -2425,
          -3075,
          -3122,
          -3482.5,
          -3719,
          -4664.7,
          -7369.6,
          -7852.5,
          -8100,
          -9950.55,
          -10106.25,
          -10867.5,
          -11488.5,
          -12112.5,
          -12170.425,
          -13200,
          -17130,
          -19790,
          -21159.55
         ],
         "yaxis": "y"
        },
        {
         "alignmentgroup": "True",
         "hovertemplate": "variable=Saldo Marruecos<br>datetime=%{x}<br>value=%{y}<extra></extra>",
         "legendgroup": "Saldo Marruecos",
         "marker": {
          "color": "#ab63fa",
          "pattern": {
           "shape": ""
          }
         },
         "name": "Saldo Marruecos",
         "offsetgroup": "Saldo Marruecos",
         "orientation": "v",
         "showlegend": true,
         "textposition": "auto",
         "type": "bar",
         "x": [
          "2022-12-11T00:00:00",
          "2022-12-09T00:00:00",
          "2022-12-10T00:00:00",
          "2022-12-08T00:00:00",
          "2022-12-04T00:00:00",
          "2022-12-14T00:00:00",
          "2022-12-17T00:00:00",
          "2022-12-15T00:00:00",
          "2022-12-18T00:00:00",
          "2022-12-27T00:00:00",
          "2022-12-07T00:00:00",
          "2022-12-05T00:00:00",
          "2022-12-13T00:00:00",
          "2022-12-16T00:00:00",
          "2022-12-06T00:00:00",
          "2022-12-12T00:00:00",
          "2022-12-28T00:00:00",
          "2022-12-02T00:00:00",
          "2022-12-19T00:00:00",
          "2022-12-01T00:00:00",
          "2022-12-29T00:00:00",
          "2022-12-21T00:00:00",
          "2022-12-20T00:00:00",
          "2022-12-26T00:00:00",
          "2022-12-22T00:00:00",
          "2022-12-23T00:00:00",
          "2022-12-03T00:00:00",
          "2022-12-24T00:00:00",
          "2022-12-25T00:00:00",
          "2022-12-30T00:00:00",
          "2022-12-31T00:00:00"
         ],
         "xaxis": "x",
         "y": [
          4262.9,
          -74.60000000000002,
          -158.39999999999998,
          -552.5,
          -1390,
          -1430,
          -1490,
          -1500,
          -1530,
          -1870,
          -1940,
          -2020,
          -2070,
          -2510,
          -3020,
          -3850.5,
          -4670,
          -5500,
          -5950,
          -6850,
          -6934,
          -6940,
          -7140.5,
          -7340,
          -8860,
          -9210,
          -9363,
          -10217.8,
          -12060,
          -12840,
          -13567.5
         ],
         "yaxis": "y"
        },
        {
         "alignmentgroup": "True",
         "hovertemplate": "variable=Saldo Andorra<br>datetime=%{x}<br>value=%{y}<extra></extra>",
         "legendgroup": "Saldo Andorra",
         "marker": {
          "color": "#FFA15A",
          "pattern": {
           "shape": ""
          }
         },
         "name": "Saldo Andorra",
         "offsetgroup": "Saldo Andorra",
         "orientation": "v",
         "showlegend": true,
         "textposition": "auto",
         "type": "bar",
         "x": [
          "2022-12-19T00:00:00",
          "2022-12-28T00:00:00",
          "2022-12-27T00:00:00",
          "2022-12-12T00:00:00",
          "2022-12-26T00:00:00",
          "2022-12-04T00:00:00",
          "2022-12-08T00:00:00",
          "2022-12-05T00:00:00",
          "2022-12-25T00:00:00",
          "2022-12-29T00:00:00",
          "2022-12-30T00:00:00",
          "2022-12-01T00:00:00",
          "2022-12-03T00:00:00",
          "2022-12-20T00:00:00",
          "2022-12-22T00:00:00",
          "2022-12-23T00:00:00",
          "2022-12-09T00:00:00",
          "2022-12-21T00:00:00",
          "2022-12-24T00:00:00",
          "2022-12-16T00:00:00",
          "2022-12-13T00:00:00",
          "2022-12-02T00:00:00",
          "2022-12-11T00:00:00",
          "2022-12-18T00:00:00",
          "2022-12-31T00:00:00",
          "2022-12-17T00:00:00",
          "2022-12-10T00:00:00",
          "2022-12-14T00:00:00",
          "2022-12-15T00:00:00",
          "2022-12-06T00:00:00",
          "2022-12-07T00:00:00"
         ],
         "xaxis": "x",
         "y": [
          -943,
          -1041,
          -1082,
          -1084,
          -1110,
          -1166,
          -1179,
          -1193,
          -1210,
          -1215,
          -1217,
          -1241,
          -1268,
          -1269,
          -1272,
          -1289,
          -1308,
          -1314,
          -1341,
          -1351,
          -1369,
          -1385,
          -1401,
          -1420,
          -1436.5,
          -1498,
          -1504,
          -1518,
          -1533,
          -2089,
          -2383
         ],
         "yaxis": "y"
        },
        {
         "alignmentgroup": "True",
         "hovertemplate": "variable=Enlace Baleares<br>datetime=%{x}<br>value=%{y}<extra></extra>",
         "legendgroup": "Enlace Baleares",
         "marker": {
          "color": "#19d3f3",
          "pattern": {
           "shape": ""
          }
         },
         "name": "Enlace Baleares",
         "offsetgroup": "Enlace Baleares",
         "orientation": "v",
         "showlegend": true,
         "textposition": "auto",
         "type": "bar",
         "x": [
          "2022-12-05T00:00:00",
          "2022-12-04T00:00:00",
          "2022-12-06T00:00:00",
          "2022-12-11T00:00:00",
          "2022-12-01T00:00:00",
          "2022-12-07T00:00:00",
          "2022-12-09T00:00:00",
          "2022-12-02T00:00:00",
          "2022-12-15T00:00:00",
          "2022-12-17T00:00:00",
          "2022-12-16T00:00:00",
          "2022-12-26T00:00:00",
          "2022-12-03T00:00:00",
          "2022-12-08T00:00:00",
          "2022-12-10T00:00:00",
          "2022-12-25T00:00:00",
          "2022-12-27T00:00:00",
          "2022-12-13T00:00:00",
          "2022-12-14T00:00:00",
          "2022-12-18T00:00:00",
          "2022-12-24T00:00:00",
          "2022-12-31T00:00:00",
          "2022-12-23T00:00:00",
          "2022-12-19T00:00:00",
          "2022-12-22T00:00:00",
          "2022-12-12T00:00:00",
          "2022-12-28T00:00:00",
          "2022-12-20T00:00:00",
          "2022-12-21T00:00:00",
          "2022-12-29T00:00:00",
          "2022-12-30T00:00:00"
         ],
         "xaxis": "x",
         "y": [
          -979.1999999999999,
          -979.1999999999999,
          -979.1999999999999,
          -1227.2,
          -1325.6,
          -1326,
          -1347,
          -1475.4,
          -1548.3999999999999,
          -1895.8,
          -1899.3,
          -2303.9,
          -2502.3,
          -2572.7,
          -2641.2,
          -2665.6,
          -2673.8,
          -2722.3,
          -2808.4,
          -3042.8,
          -3230,
          -3334,
          -3431,
          -3579,
          -3641,
          -3740.1,
          -3794,
          -3848,
          -3848,
          -3981,
          -4141
         ],
         "yaxis": "y"
        },
        {
         "alignmentgroup": "True",
         "hovertemplate": "variable=Saldo Francia<br>datetime=%{x}<br>value=%{y}<extra></extra>",
         "legendgroup": "Saldo Francia",
         "marker": {
          "color": "#FF6692",
          "pattern": {
           "shape": ""
          }
         },
         "name": "Saldo Francia",
         "offsetgroup": "Saldo Francia",
         "orientation": "v",
         "showlegend": true,
         "textposition": "auto",
         "type": "bar",
         "x": [
          "2022-12-28T00:00:00",
          "2022-12-26T00:00:00",
          "2022-12-31T00:00:00",
          "2022-12-29T00:00:00",
          "2022-12-27T00:00:00",
          "2022-12-14T00:00:00",
          "2022-12-01T00:00:00",
          "2022-12-15T00:00:00",
          "2022-12-13T00:00:00",
          "2022-12-12T00:00:00",
          "2022-12-20T00:00:00",
          "2022-12-02T00:00:00",
          "2022-12-16T00:00:00",
          "2022-12-19T00:00:00",
          "2022-12-18T00:00:00",
          "2022-12-09T00:00:00",
          "2022-12-30T00:00:00",
          "2022-12-17T00:00:00",
          "2022-12-05T00:00:00",
          "2022-12-08T00:00:00",
          "2022-12-07T00:00:00",
          "2022-12-23T00:00:00",
          "2022-12-22T00:00:00",
          "2022-12-11T00:00:00",
          "2022-12-06T00:00:00",
          "2022-12-25T00:00:00",
          "2022-12-24T00:00:00",
          "2022-12-04T00:00:00",
          "2022-12-03T00:00:00",
          "2022-12-21T00:00:00",
          "2022-12-10T00:00:00"
         ],
         "xaxis": "x",
         "y": [
          -1296.6000000000004,
          -7984.267,
          -15145,
          -19261.8,
          -19558.7,
          -38475,
          -40800,
          -42500,
          -42986,
          -46144.667,
          -46631.9,
          -48150,
          -49410,
          -50335.25,
          -50888,
          -53790,
          -54318.5,
          -54732,
          -54872.833,
          -55724.833,
          -58577,
          -60436,
          -60499.333,
          -61255,
          -61658,
          -63742,
          -63965.5,
          -65554.05,
          -66856.133,
          -67382,
          -68130.001
         ],
         "yaxis": "y"
        },
        {
         "alignmentgroup": "True",
         "hovertemplate": "variable=Consumo bombeo<br>datetime=%{x}<br>value=%{y}<extra></extra>",
         "legendgroup": "Consumo bombeo",
         "marker": {
          "color": "#B6E880",
          "pattern": {
           "shape": ""
          }
         },
         "name": "Consumo bombeo",
         "offsetgroup": "Consumo bombeo",
         "orientation": "v",
         "showlegend": true,
         "textposition": "auto",
         "type": "bar",
         "x": [
          "2022-12-03T00:00:00",
          "2022-12-04T00:00:00",
          "2022-12-05T00:00:00",
          "2022-12-02T00:00:00",
          "2022-12-16T00:00:00",
          "2022-12-07T00:00:00",
          "2022-12-01T00:00:00",
          "2022-12-17T00:00:00",
          "2022-12-06T00:00:00",
          "2022-12-27T00:00:00",
          "2022-12-08T00:00:00",
          "2022-12-15T00:00:00",
          "2022-12-09T00:00:00",
          "2022-12-23T00:00:00",
          "2022-12-22T00:00:00",
          "2022-12-13T00:00:00",
          "2022-12-26T00:00:00",
          "2022-12-20T00:00:00",
          "2022-12-14T00:00:00",
          "2022-12-11T00:00:00",
          "2022-12-21T00:00:00",
          "2022-12-19T00:00:00",
          "2022-12-28T00:00:00",
          "2022-12-12T00:00:00",
          "2022-12-10T00:00:00",
          "2022-12-29T00:00:00",
          "2022-12-24T00:00:00",
          "2022-12-18T00:00:00",
          "2022-12-25T00:00:00",
          "2022-12-31T00:00:00",
          "2022-12-30T00:00:00"
         ],
         "xaxis": "x",
         "y": [
          -6350.82,
          -6631.3,
          -7979.75,
          -9484.4,
          -10878.15,
          -11353.117,
          -11761.025,
          -13773.475,
          -14555.482,
          -18237.492,
          -19120.625,
          -21664.317,
          -22253.2,
          -24266.725000000002,
          -25196.675,
          -25828.125,
          -26552.1,
          -27981.475,
          -28083.600000000002,
          -28294.392,
          -30002.875,
          -32087.538,
          -34991.767,
          -35893.1,
          -37460.675,
          -40302.675,
          -49923,
          -50411.508,
          -52764.508,
          -65530.45,
          -67283.325
         ],
         "yaxis": "y"
        }
       ],
       "layout": {
        "barmode": "relative",
        "legend": {
         "title": {
          "text": "variable"
         },
         "tracegroupgap": 0
        },
        "margin": {
         "t": 60
        },
        "template": {
         "data": {
          "bar": [
           {
            "error_x": {
             "color": "#2a3f5f"
            },
            "error_y": {
             "color": "#2a3f5f"
            },
            "marker": {
             "line": {
              "color": "#E5ECF6",
              "width": 0.5
             },
             "pattern": {
              "fillmode": "overlay",
              "size": 10,
              "solidity": 0.2
             }
            },
            "type": "bar"
           }
          ],
          "barpolar": [
           {
            "marker": {
             "line": {
              "color": "#E5ECF6",
              "width": 0.5
             },
             "pattern": {
              "fillmode": "overlay",
              "size": 10,
              "solidity": 0.2
             }
            },
            "type": "barpolar"
           }
          ],
          "carpet": [
           {
            "aaxis": {
             "endlinecolor": "#2a3f5f",
             "gridcolor": "white",
             "linecolor": "white",
             "minorgridcolor": "white",
             "startlinecolor": "#2a3f5f"
            },
            "baxis": {
             "endlinecolor": "#2a3f5f",
             "gridcolor": "white",
             "linecolor": "white",
             "minorgridcolor": "white",
             "startlinecolor": "#2a3f5f"
            },
            "type": "carpet"
           }
          ],
          "choropleth": [
           {
            "colorbar": {
             "outlinewidth": 0,
             "ticks": ""
            },
            "type": "choropleth"
           }
          ],
          "contour": [
           {
            "colorbar": {
             "outlinewidth": 0,
             "ticks": ""
            },
            "colorscale": [
             [
              0,
              "#0d0887"
             ],
             [
              0.1111111111111111,
              "#46039f"
             ],
             [
              0.2222222222222222,
              "#7201a8"
             ],
             [
              0.3333333333333333,
              "#9c179e"
             ],
             [
              0.4444444444444444,
              "#bd3786"
             ],
             [
              0.5555555555555556,
              "#d8576b"
             ],
             [
              0.6666666666666666,
              "#ed7953"
             ],
             [
              0.7777777777777778,
              "#fb9f3a"
             ],
             [
              0.8888888888888888,
              "#fdca26"
             ],
             [
              1,
              "#f0f921"
             ]
            ],
            "type": "contour"
           }
          ],
          "contourcarpet": [
           {
            "colorbar": {
             "outlinewidth": 0,
             "ticks": ""
            },
            "type": "contourcarpet"
           }
          ],
          "heatmap": [
           {
            "colorbar": {
             "outlinewidth": 0,
             "ticks": ""
            },
            "colorscale": [
             [
              0,
              "#0d0887"
             ],
             [
              0.1111111111111111,
              "#46039f"
             ],
             [
              0.2222222222222222,
              "#7201a8"
             ],
             [
              0.3333333333333333,
              "#9c179e"
             ],
             [
              0.4444444444444444,
              "#bd3786"
             ],
             [
              0.5555555555555556,
              "#d8576b"
             ],
             [
              0.6666666666666666,
              "#ed7953"
             ],
             [
              0.7777777777777778,
              "#fb9f3a"
             ],
             [
              0.8888888888888888,
              "#fdca26"
             ],
             [
              1,
              "#f0f921"
             ]
            ],
            "type": "heatmap"
           }
          ],
          "heatmapgl": [
           {
            "colorbar": {
             "outlinewidth": 0,
             "ticks": ""
            },
            "colorscale": [
             [
              0,
              "#0d0887"
             ],
             [
              0.1111111111111111,
              "#46039f"
             ],
             [
              0.2222222222222222,
              "#7201a8"
             ],
             [
              0.3333333333333333,
              "#9c179e"
             ],
             [
              0.4444444444444444,
              "#bd3786"
             ],
             [
              0.5555555555555556,
              "#d8576b"
             ],
             [
              0.6666666666666666,
              "#ed7953"
             ],
             [
              0.7777777777777778,
              "#fb9f3a"
             ],
             [
              0.8888888888888888,
              "#fdca26"
             ],
             [
              1,
              "#f0f921"
             ]
            ],
            "type": "heatmapgl"
           }
          ],
          "histogram": [
           {
            "marker": {
             "pattern": {
              "fillmode": "overlay",
              "size": 10,
              "solidity": 0.2
             }
            },
            "type": "histogram"
           }
          ],
          "histogram2d": [
           {
            "colorbar": {
             "outlinewidth": 0,
             "ticks": ""
            },
            "colorscale": [
             [
              0,
              "#0d0887"
             ],
             [
              0.1111111111111111,
              "#46039f"
             ],
             [
              0.2222222222222222,
              "#7201a8"
             ],
             [
              0.3333333333333333,
              "#9c179e"
             ],
             [
              0.4444444444444444,
              "#bd3786"
             ],
             [
              0.5555555555555556,
              "#d8576b"
             ],
             [
              0.6666666666666666,
              "#ed7953"
             ],
             [
              0.7777777777777778,
              "#fb9f3a"
             ],
             [
              0.8888888888888888,
              "#fdca26"
             ],
             [
              1,
              "#f0f921"
             ]
            ],
            "type": "histogram2d"
           }
          ],
          "histogram2dcontour": [
           {
            "colorbar": {
             "outlinewidth": 0,
             "ticks": ""
            },
            "colorscale": [
             [
              0,
              "#0d0887"
             ],
             [
              0.1111111111111111,
              "#46039f"
             ],
             [
              0.2222222222222222,
              "#7201a8"
             ],
             [
              0.3333333333333333,
              "#9c179e"
             ],
             [
              0.4444444444444444,
              "#bd3786"
             ],
             [
              0.5555555555555556,
              "#d8576b"
             ],
             [
              0.6666666666666666,
              "#ed7953"
             ],
             [
              0.7777777777777778,
              "#fb9f3a"
             ],
             [
              0.8888888888888888,
              "#fdca26"
             ],
             [
              1,
              "#f0f921"
             ]
            ],
            "type": "histogram2dcontour"
           }
          ],
          "mesh3d": [
           {
            "colorbar": {
             "outlinewidth": 0,
             "ticks": ""
            },
            "type": "mesh3d"
           }
          ],
          "parcoords": [
           {
            "line": {
             "colorbar": {
              "outlinewidth": 0,
              "ticks": ""
             }
            },
            "type": "parcoords"
           }
          ],
          "pie": [
           {
            "automargin": true,
            "type": "pie"
           }
          ],
          "scatter": [
           {
            "fillpattern": {
             "fillmode": "overlay",
             "size": 10,
             "solidity": 0.2
            },
            "type": "scatter"
           }
          ],
          "scatter3d": [
           {
            "line": {
             "colorbar": {
              "outlinewidth": 0,
              "ticks": ""
             }
            },
            "marker": {
             "colorbar": {
              "outlinewidth": 0,
              "ticks": ""
             }
            },
            "type": "scatter3d"
           }
          ],
          "scattercarpet": [
           {
            "marker": {
             "colorbar": {
              "outlinewidth": 0,
              "ticks": ""
             }
            },
            "type": "scattercarpet"
           }
          ],
          "scattergeo": [
           {
            "marker": {
             "colorbar": {
              "outlinewidth": 0,
              "ticks": ""
             }
            },
            "type": "scattergeo"
           }
          ],
          "scattergl": [
           {
            "marker": {
             "colorbar": {
              "outlinewidth": 0,
              "ticks": ""
             }
            },
            "type": "scattergl"
           }
          ],
          "scattermapbox": [
           {
            "marker": {
             "colorbar": {
              "outlinewidth": 0,
              "ticks": ""
             }
            },
            "type": "scattermapbox"
           }
          ],
          "scatterpolar": [
           {
            "marker": {
             "colorbar": {
              "outlinewidth": 0,
              "ticks": ""
             }
            },
            "type": "scatterpolar"
           }
          ],
          "scatterpolargl": [
           {
            "marker": {
             "colorbar": {
              "outlinewidth": 0,
              "ticks": ""
             }
            },
            "type": "scatterpolargl"
           }
          ],
          "scatterternary": [
           {
            "marker": {
             "colorbar": {
              "outlinewidth": 0,
              "ticks": ""
             }
            },
            "type": "scatterternary"
           }
          ],
          "surface": [
           {
            "colorbar": {
             "outlinewidth": 0,
             "ticks": ""
            },
            "colorscale": [
             [
              0,
              "#0d0887"
             ],
             [
              0.1111111111111111,
              "#46039f"
             ],
             [
              0.2222222222222222,
              "#7201a8"
             ],
             [
              0.3333333333333333,
              "#9c179e"
             ],
             [
              0.4444444444444444,
              "#bd3786"
             ],
             [
              0.5555555555555556,
              "#d8576b"
             ],
             [
              0.6666666666666666,
              "#ed7953"
             ],
             [
              0.7777777777777778,
              "#fb9f3a"
             ],
             [
              0.8888888888888888,
              "#fdca26"
             ],
             [
              1,
              "#f0f921"
             ]
            ],
            "type": "surface"
           }
          ],
          "table": [
           {
            "cells": {
             "fill": {
              "color": "#EBF0F8"
             },
             "line": {
              "color": "white"
             }
            },
            "header": {
             "fill": {
              "color": "#C8D4E3"
             },
             "line": {
              "color": "white"
             }
            },
            "type": "table"
           }
          ]
         },
         "layout": {
          "annotationdefaults": {
           "arrowcolor": "#2a3f5f",
           "arrowhead": 0,
           "arrowwidth": 1
          },
          "autotypenumbers": "strict",
          "coloraxis": {
           "colorbar": {
            "outlinewidth": 0,
            "ticks": ""
           }
          },
          "colorscale": {
           "diverging": [
            [
             0,
             "#8e0152"
            ],
            [
             0.1,
             "#c51b7d"
            ],
            [
             0.2,
             "#de77ae"
            ],
            [
             0.3,
             "#f1b6da"
            ],
            [
             0.4,
             "#fde0ef"
            ],
            [
             0.5,
             "#f7f7f7"
            ],
            [
             0.6,
             "#e6f5d0"
            ],
            [
             0.7,
             "#b8e186"
            ],
            [
             0.8,
             "#7fbc41"
            ],
            [
             0.9,
             "#4d9221"
            ],
            [
             1,
             "#276419"
            ]
           ],
           "sequential": [
            [
             0,
             "#0d0887"
            ],
            [
             0.1111111111111111,
             "#46039f"
            ],
            [
             0.2222222222222222,
             "#7201a8"
            ],
            [
             0.3333333333333333,
             "#9c179e"
            ],
            [
             0.4444444444444444,
             "#bd3786"
            ],
            [
             0.5555555555555556,
             "#d8576b"
            ],
            [
             0.6666666666666666,
             "#ed7953"
            ],
            [
             0.7777777777777778,
             "#fb9f3a"
            ],
            [
             0.8888888888888888,
             "#fdca26"
            ],
            [
             1,
             "#f0f921"
            ]
           ],
           "sequentialminus": [
            [
             0,
             "#0d0887"
            ],
            [
             0.1111111111111111,
             "#46039f"
            ],
            [
             0.2222222222222222,
             "#7201a8"
            ],
            [
             0.3333333333333333,
             "#9c179e"
            ],
            [
             0.4444444444444444,
             "#bd3786"
            ],
            [
             0.5555555555555556,
             "#d8576b"
            ],
            [
             0.6666666666666666,
             "#ed7953"
            ],
            [
             0.7777777777777778,
             "#fb9f3a"
            ],
            [
             0.8888888888888888,
             "#fdca26"
            ],
            [
             1,
             "#f0f921"
            ]
           ]
          },
          "colorway": [
           "#636efa",
           "#EF553B",
           "#00cc96",
           "#ab63fa",
           "#FFA15A",
           "#19d3f3",
           "#FF6692",
           "#B6E880",
           "#FF97FF",
           "#FECB52"
          ],
          "font": {
           "color": "#2a3f5f"
          },
          "geo": {
           "bgcolor": "white",
           "lakecolor": "white",
           "landcolor": "#E5ECF6",
           "showlakes": true,
           "showland": true,
           "subunitcolor": "white"
          },
          "hoverlabel": {
           "align": "left"
          },
          "hovermode": "closest",
          "mapbox": {
           "style": "light"
          },
          "paper_bgcolor": "white",
          "plot_bgcolor": "#E5ECF6",
          "polar": {
           "angularaxis": {
            "gridcolor": "white",
            "linecolor": "white",
            "ticks": ""
           },
           "bgcolor": "#E5ECF6",
           "radialaxis": {
            "gridcolor": "white",
            "linecolor": "white",
            "ticks": ""
           }
          },
          "scene": {
           "xaxis": {
            "backgroundcolor": "#E5ECF6",
            "gridcolor": "white",
            "gridwidth": 2,
            "linecolor": "white",
            "showbackground": true,
            "ticks": "",
            "zerolinecolor": "white"
           },
           "yaxis": {
            "backgroundcolor": "#E5ECF6",
            "gridcolor": "white",
            "gridwidth": 2,
            "linecolor": "white",
            "showbackground": true,
            "ticks": "",
            "zerolinecolor": "white"
           },
           "zaxis": {
            "backgroundcolor": "#E5ECF6",
            "gridcolor": "white",
            "gridwidth": 2,
            "linecolor": "white",
            "showbackground": true,
            "ticks": "",
            "zerolinecolor": "white"
           }
          },
          "shapedefaults": {
           "line": {
            "color": "#2a3f5f"
           }
          },
          "ternary": {
           "aaxis": {
            "gridcolor": "white",
            "linecolor": "white",
            "ticks": ""
           },
           "baxis": {
            "gridcolor": "white",
            "linecolor": "white",
            "ticks": ""
           },
           "bgcolor": "#E5ECF6",
           "caxis": {
            "gridcolor": "white",
            "linecolor": "white",
            "ticks": ""
           }
          },
          "title": {
           "x": 0.05
          },
          "xaxis": {
           "automargin": true,
           "gridcolor": "white",
           "linecolor": "white",
           "ticks": "",
           "title": {
            "standoff": 15
           },
           "zerolinecolor": "white",
           "zerolinewidth": 2
          },
          "yaxis": {
           "automargin": true,
           "gridcolor": "white",
           "linecolor": "white",
           "ticks": "",
           "title": {
            "standoff": 15
           },
           "zerolinecolor": "white",
           "zerolinewidth": 2
          }
         }
        },
        "xaxis": {
         "anchor": "y",
         "domain": [
          0,
          1
         ],
         "title": {
          "text": "datetime"
         }
        },
        "yaxis": {
         "anchor": "x",
         "domain": [
          0,
          1
         ],
         "title": {
          "text": "value"
         }
        }
       }
      }
     },
     "metadata": {},
     "output_type": "display_data"
    }
   ],
   "source": [
    "px.bar(data_frame=dfm, x='datetime', y='value', color='variable')"
   ]
  },
  {
   "cell_type": "markdown",
   "id": "081f4337-9a8c-4c7a-8cbb-dae718f3ee7c",
   "metadata": {},
   "source": [
    "#### Facets"
   ]
  },
  {
   "cell_type": "code",
   "execution_count": 35,
   "id": "2be5feb3-c570-486e-a57e-2fa1f4e2bbae",
   "metadata": {},
   "outputs": [
    {
     "data": {
      "application/vnd.plotly.v1+json": {
       "config": {
        "plotlyServerURL": "https://plot.ly"
       },
       "data": [
        {
         "alignmentgroup": "True",
         "hovertemplate": "variable=Eólica<br>datetime=%{x}<br>value=%{y}<extra></extra>",
         "legendgroup": "Eólica",
         "marker": {
          "color": "#636efa",
          "pattern": {
           "shape": ""
          }
         },
         "name": "Eólica",
         "offsetgroup": "Eólica",
         "orientation": "v",
         "showlegend": true,
         "textposition": "auto",
         "type": "bar",
         "x": [
          "2022-12-12T00:00:00",
          "2022-12-21T00:00:00",
          "2022-12-30T00:00:00",
          "2022-12-22T00:00:00",
          "2022-12-13T00:00:00",
          "2022-12-20T00:00:00",
          "2022-12-23T00:00:00",
          "2022-12-14T00:00:00",
          "2022-12-10T00:00:00",
          "2022-12-19T00:00:00",
          "2022-12-29T00:00:00",
          "2022-12-09T00:00:00",
          "2022-12-28T00:00:00",
          "2022-12-08T00:00:00",
          "2022-12-15T00:00:00",
          "2022-12-18T00:00:00",
          "2022-12-24T00:00:00",
          "2022-12-31T00:00:00",
          "2022-12-25T00:00:00",
          "2022-12-16T00:00:00",
          "2022-12-01T00:00:00",
          "2022-12-11T00:00:00",
          "2022-12-05T00:00:00",
          "2022-12-03T00:00:00",
          "2022-12-02T00:00:00",
          "2022-12-17T00:00:00",
          "2022-12-04T00:00:00",
          "2022-12-27T00:00:00",
          "2022-12-26T00:00:00",
          "2022-12-07T00:00:00",
          "2022-12-06T00:00:00"
         ],
         "xaxis": "x17",
         "y": [
          344688.925,
          317072.911,
          314274.925,
          295582.25,
          294800.075,
          273608.877,
          258296.45,
          257419.225,
          256540.694,
          251926.53,
          248642.775,
          200978.258,
          197316.296,
          196346.675,
          187318.758,
          185238.875,
          181749.317,
          175047.375,
          164381.945,
          158883.65,
          144571.275,
          143732.398,
          134602.975,
          76798.2,
          76543.005,
          63560.95,
          61074.95,
          58327.625,
          55458.75,
          50885.45,
          40119.125
         ],
         "yaxis": "y17"
        },
        {
         "alignmentgroup": "True",
         "hovertemplate": "variable=Ciclo combinado<br>datetime=%{x}<br>value=%{y}<extra></extra>",
         "legendgroup": "Ciclo combinado",
         "marker": {
          "color": "#EF553B",
          "pattern": {
           "shape": ""
          }
         },
         "name": "Ciclo combinado",
         "offsetgroup": "Ciclo combinado",
         "orientation": "v",
         "showlegend": true,
         "textposition": "auto",
         "type": "bar",
         "x": [
          "2022-12-07T00:00:00",
          "2022-12-06T00:00:00",
          "2022-12-02T00:00:00",
          "2022-12-03T00:00:00",
          "2022-12-05T00:00:00",
          "2022-12-04T00:00:00",
          "2022-12-09T00:00:00",
          "2022-12-01T00:00:00",
          "2022-12-17T00:00:00",
          "2022-12-08T00:00:00",
          "2022-12-11T00:00:00",
          "2022-12-15T00:00:00",
          "2022-12-16T00:00:00",
          "2022-12-10T00:00:00",
          "2022-12-26T00:00:00",
          "2022-12-27T00:00:00",
          "2022-12-13T00:00:00",
          "2022-12-14T00:00:00",
          "2022-12-12T00:00:00",
          "2022-12-25T00:00:00",
          "2022-12-20T00:00:00",
          "2022-12-28T00:00:00",
          "2022-12-24T00:00:00",
          "2022-12-19T00:00:00",
          "2022-12-18T00:00:00",
          "2022-12-21T00:00:00",
          "2022-12-23T00:00:00",
          "2022-12-22T00:00:00",
          "2022-12-29T00:00:00",
          "2022-12-31T00:00:00",
          "2022-12-30T00:00:00"
         ],
         "xaxis": "x18",
         "y": [
          341391.733,
          322276.183,
          285396.367,
          246015.975,
          231782.59,
          210513.092,
          194561.325,
          188295.075,
          157527.325,
          154792.95,
          150085.35,
          149197.75,
          135891.892,
          118185.175,
          94148,
          86273.023,
          75096.133,
          70417.05,
          52904.3,
          52580.142,
          52555.55,
          51487.473,
          51194.092000000004,
          51129.533,
          50901.975,
          47266.042,
          41976.375,
          41528.575,
          41460.75,
          36128.75,
          28471.8
         ],
         "yaxis": "y18"
        },
        {
         "alignmentgroup": "True",
         "hovertemplate": "variable=Nuclear<br>datetime=%{x}<br>value=%{y}<extra></extra>",
         "legendgroup": "Nuclear",
         "marker": {
          "color": "#00cc96",
          "pattern": {
           "shape": ""
          }
         },
         "name": "Nuclear",
         "offsetgroup": "Nuclear",
         "orientation": "v",
         "showlegend": true,
         "textposition": "auto",
         "type": "bar",
         "x": [
          "2022-12-19T00:00:00",
          "2022-12-29T00:00:00",
          "2022-12-18T00:00:00",
          "2022-12-12T00:00:00",
          "2022-12-20T00:00:00",
          "2022-12-13T00:00:00",
          "2022-12-14T00:00:00",
          "2022-12-28T00:00:00",
          "2022-12-02T00:00:00",
          "2022-12-27T00:00:00",
          "2022-12-22T00:00:00",
          "2022-12-26T00:00:00",
          "2022-12-24T00:00:00",
          "2022-12-23T00:00:00",
          "2022-12-01T00:00:00",
          "2022-12-25T00:00:00",
          "2022-12-21T00:00:00",
          "2022-12-15T00:00:00",
          "2022-12-05T00:00:00",
          "2022-12-17T00:00:00",
          "2022-12-16T00:00:00",
          "2022-12-04T00:00:00",
          "2022-12-03T00:00:00",
          "2022-12-11T00:00:00",
          "2022-12-30T00:00:00",
          "2022-12-09T00:00:00",
          "2022-12-10T00:00:00",
          "2022-12-06T00:00:00",
          "2022-12-08T00:00:00",
          "2022-12-31T00:00:00",
          "2022-12-07T00:00:00"
         ],
         "xaxis": "x19",
         "y": [
          169818,
          169809.625,
          169706.5,
          169641.1,
          169592.8,
          169576.1,
          169575,
          169567.2,
          169522.6,
          169505.9,
          169502.9,
          169502.7,
          169448.3,
          169402.2,
          169400.9,
          169385.125,
          169287.4,
          169259.5,
          169236.2,
          169194.7,
          169193.30000000002,
          168845,
          168810.9,
          165961.30000000002,
          162528.875,
          161637.125,
          160593.4,
          157636.2,
          155594.15,
          149035.975,
          146309.25
         ],
         "yaxis": "y19"
        },
        {
         "alignmentgroup": "True",
         "hovertemplate": "variable=Hidráulica<br>datetime=%{x}<br>value=%{y}<extra></extra>",
         "legendgroup": "Hidráulica",
         "marker": {
          "color": "#ab63fa",
          "pattern": {
           "shape": ""
          }
         },
         "name": "Hidráulica",
         "offsetgroup": "Hidráulica",
         "orientation": "v",
         "showlegend": true,
         "textposition": "auto",
         "type": "bar",
         "x": [
          "2022-12-27T00:00:00",
          "2022-12-22T00:00:00",
          "2022-12-17T00:00:00",
          "2022-12-16T00:00:00",
          "2022-12-20T00:00:00",
          "2022-12-21T00:00:00",
          "2022-12-23T00:00:00",
          "2022-12-14T00:00:00",
          "2022-12-26T00:00:00",
          "2022-12-15T00:00:00",
          "2022-12-19T00:00:00",
          "2022-12-28T00:00:00",
          "2022-12-31T00:00:00",
          "2022-12-29T00:00:00",
          "2022-12-02T00:00:00",
          "2022-12-24T00:00:00",
          "2022-12-13T00:00:00",
          "2022-12-03T00:00:00",
          "2022-12-04T00:00:00",
          "2022-12-01T00:00:00",
          "2022-12-06T00:00:00",
          "2022-12-18T00:00:00",
          "2022-12-05T00:00:00",
          "2022-12-30T00:00:00",
          "2022-12-25T00:00:00",
          "2022-12-12T00:00:00",
          "2022-12-09T00:00:00",
          "2022-12-07T00:00:00",
          "2022-12-08T00:00:00",
          "2022-12-10T00:00:00",
          "2022-12-11T00:00:00"
         ],
         "xaxis": "x20",
         "y": [
          135477.917,
          134507.025,
          123661.725,
          123345.8,
          116866.385,
          113013.381,
          112591.575,
          110373.975,
          109989.8,
          109022.625,
          103753.1,
          101033.635,
          88236.784,
          87332.95,
          87180.3,
          86089.875,
          85869.475,
          85602.95,
          85471.125,
          85416.9,
          82807.959,
          82296.15,
          77820.9,
          76542.575,
          72493.566,
          71207.95,
          70869.7,
          68763.85,
          66273.175,
          65128.638,
          65094.6
         ],
         "yaxis": "y20"
        },
        {
         "alignmentgroup": "True",
         "hovertemplate": "variable=Saldo Portugal<br>datetime=%{x}<br>value=%{y}<extra></extra>",
         "legendgroup": "Saldo Portugal",
         "marker": {
          "color": "#FFA15A",
          "pattern": {
           "shape": ""
          }
         },
         "name": "Saldo Portugal",
         "offsetgroup": "Saldo Portugal",
         "orientation": "v",
         "showlegend": true,
         "textposition": "auto",
         "type": "bar",
         "x": [
          "2022-12-24T00:00:00",
          "2022-12-31T00:00:00",
          "2022-12-30T00:00:00",
          "2022-12-19T00:00:00",
          "2022-12-16T00:00:00",
          "2022-12-20T00:00:00",
          "2022-12-13T00:00:00",
          "2022-12-18T00:00:00",
          "2022-12-25T00:00:00",
          "2022-12-11T00:00:00",
          "2022-12-14T00:00:00",
          "2022-12-29T00:00:00",
          "2022-12-17T00:00:00",
          "2022-12-12T00:00:00",
          "2022-12-21T00:00:00",
          "2022-12-01T00:00:00",
          "2022-12-23T00:00:00",
          "2022-12-05T00:00:00",
          "2022-12-07T00:00:00",
          "2022-12-27T00:00:00",
          "2022-12-08T00:00:00",
          "2022-12-04T00:00:00",
          "2022-12-15T00:00:00",
          "2022-12-09T00:00:00",
          "2022-12-22T00:00:00",
          "2022-12-02T00:00:00",
          "2022-12-03T00:00:00",
          "2022-12-26T00:00:00",
          "2022-12-28T00:00:00",
          "2022-12-10T00:00:00",
          "2022-12-06T00:00:00"
         ],
         "xaxis": "x13",
         "y": [
          60934.9,
          59926.708,
          50542.1,
          42347.7,
          39111.8,
          37146,
          34339,
          33695.3,
          31361.5,
          29825.5,
          29372.2,
          28566,
          23501.5,
          21877,
          21204.6,
          21038.2,
          18653.6,
          11326.199999999999,
          11148.2,
          10529.3,
          10464.099999999999,
          6200.8,
          2574.4,
          -1596.7000000000003,
          -2419.7000000000003,
          -5325,
          -5556.700000000001,
          -10631.1,
          -11994.9,
          -19905.8,
          -21626
         ],
         "yaxis": "y13"
        },
        {
         "alignmentgroup": "True",
         "hovertemplate": "variable=Solar fotovoltaica<br>datetime=%{x}<br>value=%{y}<extra></extra>",
         "legendgroup": "Solar fotovoltaica",
         "marker": {
          "color": "#19d3f3",
          "pattern": {
           "shape": ""
          }
         },
         "name": "Solar fotovoltaica",
         "offsetgroup": "Solar fotovoltaica",
         "orientation": "v",
         "showlegend": true,
         "textposition": "auto",
         "type": "bar",
         "x": [
          "2022-12-27T00:00:00",
          "2022-12-28T00:00:00",
          "2022-12-26T00:00:00",
          "2022-12-31T00:00:00",
          "2022-12-18T00:00:00",
          "2022-12-02T00:00:00",
          "2022-12-03T00:00:00",
          "2022-12-19T00:00:00",
          "2022-12-24T00:00:00",
          "2022-12-01T00:00:00",
          "2022-12-23T00:00:00",
          "2022-12-04T00:00:00",
          "2022-12-25T00:00:00",
          "2022-12-10T00:00:00",
          "2022-12-17T00:00:00",
          "2022-12-30T00:00:00",
          "2022-12-29T00:00:00",
          "2022-12-22T00:00:00",
          "2022-12-07T00:00:00",
          "2022-12-21T00:00:00",
          "2022-12-16T00:00:00",
          "2022-12-15T00:00:00",
          "2022-12-20T00:00:00",
          "2022-12-06T00:00:00",
          "2022-12-14T00:00:00",
          "2022-12-08T00:00:00",
          "2022-12-09T00:00:00",
          "2022-12-05T00:00:00",
          "2022-12-11T00:00:00",
          "2022-12-12T00:00:00",
          "2022-12-13T00:00:00"
         ],
         "xaxis": "x14",
         "y": [
          59797.25,
          59363.575,
          56396.6,
          52060.875,
          51501,
          50708.7,
          50362.75,
          49794.525,
          48427.725,
          48341.025,
          46412.125,
          44570.7,
          43649.75,
          40667.606,
          39169.425,
          38280.325000000004,
          36229.15,
          35855.825,
          34359.1,
          32762.8,
          30831.425,
          30690.625,
          29117.325,
          28200.75,
          27722.675,
          21719.6,
          20660.125,
          20158.35,
          18862.95,
          17826,
          12369.175
         ],
         "yaxis": "y14"
        },
        {
         "alignmentgroup": "True",
         "hovertemplate": "variable=Cogeneración<br>datetime=%{x}<br>value=%{y}<extra></extra>",
         "legendgroup": "Cogeneración",
         "marker": {
          "color": "#FF6692",
          "pattern": {
           "shape": ""
          }
         },
         "name": "Cogeneración",
         "offsetgroup": "Cogeneración",
         "orientation": "v",
         "showlegend": true,
         "textposition": "auto",
         "type": "bar",
         "x": [
          "2022-12-05T00:00:00",
          "2022-12-01T00:00:00",
          "2022-12-02T00:00:00",
          "2022-12-03T00:00:00",
          "2022-12-06T00:00:00",
          "2022-12-07T00:00:00",
          "2022-12-09T00:00:00",
          "2022-12-12T00:00:00",
          "2022-12-08T00:00:00",
          "2022-12-11T00:00:00",
          "2022-12-04T00:00:00",
          "2022-12-10T00:00:00",
          "2022-12-15T00:00:00",
          "2022-12-16T00:00:00",
          "2022-12-17T00:00:00",
          "2022-12-19T00:00:00",
          "2022-12-13T00:00:00",
          "2022-12-20T00:00:00",
          "2022-12-14T00:00:00",
          "2022-12-18T00:00:00",
          "2022-12-21T00:00:00",
          "2022-12-27T00:00:00",
          "2022-12-22T00:00:00",
          "2022-12-26T00:00:00",
          "2022-12-28T00:00:00",
          "2022-12-23T00:00:00",
          "2022-12-29T00:00:00",
          "2022-12-24T00:00:00",
          "2022-12-30T00:00:00",
          "2022-12-25T00:00:00",
          "2022-12-31T00:00:00"
         ],
         "xaxis": "x15",
         "y": [
          45096.008,
          44488.75,
          43460,
          43385.6,
          43235.25,
          42557.95,
          42478.325,
          41857.335,
          41598.9,
          41355.55,
          41312.3,
          40416.725,
          40013.15,
          39923.484,
          39267.753,
          38811.045,
          38477.151,
          38032.4,
          37884.2,
          37059.347,
          35639.475,
          34161.95,
          33943.65,
          27379.260000000002,
          27375.2,
          26736.7,
          25536.35,
          22818.625,
          21089.6,
          19407.15,
          18808.9
         ],
         "yaxis": "y15"
        },
        {
         "alignmentgroup": "True",
         "hovertemplate": "variable=Carbón<br>datetime=%{x}<br>value=%{y}<extra></extra>",
         "legendgroup": "Carbón",
         "marker": {
          "color": "#B6E880",
          "pattern": {
           "shape": ""
          }
         },
         "name": "Carbón",
         "offsetgroup": "Carbón",
         "orientation": "v",
         "showlegend": true,
         "textposition": "auto",
         "type": "bar",
         "x": [
          "2022-12-16T00:00:00",
          "2022-12-15T00:00:00",
          "2022-12-17T00:00:00",
          "2022-12-12T00:00:00",
          "2022-12-13T00:00:00",
          "2022-12-14T00:00:00",
          "2022-12-11T00:00:00",
          "2022-12-19T00:00:00",
          "2022-12-18T00:00:00",
          "2022-12-05T00:00:00",
          "2022-12-07T00:00:00",
          "2022-12-04T00:00:00",
          "2022-12-08T00:00:00",
          "2022-12-10T00:00:00",
          "2022-12-02T00:00:00",
          "2022-12-06T00:00:00",
          "2022-12-01T00:00:00",
          "2022-12-20T00:00:00",
          "2022-12-03T00:00:00",
          "2022-12-09T00:00:00",
          "2022-12-21T00:00:00",
          "2022-12-22T00:00:00",
          "2022-12-23T00:00:00",
          "2022-12-27T00:00:00",
          "2022-12-26T00:00:00",
          "2022-12-29T00:00:00",
          "2022-12-28T00:00:00",
          "2022-12-30T00:00:00",
          "2022-12-24T00:00:00",
          "2022-12-31T00:00:00",
          "2022-12-25T00:00:00"
         ],
         "xaxis": "x16",
         "y": [
          38151,
          37540.825,
          37002.6,
          36722.15,
          33225.1,
          33157.075,
          32680.525,
          32393.075,
          29905.15,
          29320.725,
          28533.5,
          27398.65,
          27207.9,
          26735.2,
          26381.758,
          25766.596,
          25422.9,
          25127.975,
          24466.6,
          23904.283,
          18624.025,
          17101.925,
          16119.75,
          15506.25,
          11544.85,
          8283.4,
          8236.2,
          8145.1,
          7047.75,
          6771.85,
          6419.667
         ],
         "yaxis": "y16"
        },
        {
         "alignmentgroup": "True",
         "hovertemplate": "variable=Turbinación bombeo<br>datetime=%{x}<br>value=%{y}<extra></extra>",
         "legendgroup": "Turbinación bombeo",
         "marker": {
          "color": "#FF97FF",
          "pattern": {
           "shape": ""
          }
         },
         "name": "Turbinación bombeo",
         "offsetgroup": "Turbinación bombeo",
         "orientation": "v",
         "showlegend": true,
         "textposition": "auto",
         "type": "bar",
         "x": [
          "2022-12-29T00:00:00",
          "2022-12-27T00:00:00",
          "2022-12-28T00:00:00",
          "2022-12-26T00:00:00",
          "2022-12-14T00:00:00",
          "2022-12-23T00:00:00",
          "2022-12-03T00:00:00",
          "2022-12-31T00:00:00",
          "2022-12-20T00:00:00",
          "2022-12-22T00:00:00",
          "2022-12-24T00:00:00",
          "2022-12-13T00:00:00",
          "2022-12-19T00:00:00",
          "2022-12-30T00:00:00",
          "2022-12-05T00:00:00",
          "2022-12-08T00:00:00",
          "2022-12-21T00:00:00",
          "2022-12-15T00:00:00",
          "2022-12-16T00:00:00",
          "2022-12-25T00:00:00",
          "2022-12-01T00:00:00",
          "2022-12-06T00:00:00",
          "2022-12-11T00:00:00",
          "2022-12-04T00:00:00",
          "2022-12-12T00:00:00",
          "2022-12-09T00:00:00",
          "2022-12-18T00:00:00",
          "2022-12-02T00:00:00",
          "2022-12-10T00:00:00",
          "2022-12-17T00:00:00",
          "2022-12-07T00:00:00"
         ],
         "xaxis": "x9",
         "y": [
          26680.933,
          23846.325,
          19804.125,
          17833.65,
          16857.975,
          16210.5,
          14898.15,
          14834.488000000001,
          14355.25,
          14284.725,
          14110.775,
          13910.550000000001,
          12809.65,
          12695.875,
          12508.775,
          11663,
          11341.1,
          10475.1,
          10222.025,
          9824.525,
          9475.8,
          8886.075,
          7923.65,
          7777.625,
          7572.9,
          6884.525,
          6645.225,
          6406.417,
          5805.15,
          5342.625,
          2728.8940000000002
         ],
         "yaxis": "y9"
        },
        {
         "alignmentgroup": "True",
         "hovertemplate": "variable=otras renovables<br>datetime=%{x}<br>value=%{y}<extra></extra>",
         "legendgroup": "otras renovables",
         "marker": {
          "color": "#FECB52",
          "pattern": {
           "shape": ""
          }
         },
         "name": "otras renovables",
         "offsetgroup": "otras renovables",
         "orientation": "v",
         "showlegend": true,
         "textposition": "auto",
         "type": "bar",
         "x": [
          "2022-12-15T00:00:00",
          "2022-12-17T00:00:00",
          "2022-12-18T00:00:00",
          "2022-12-16T00:00:00",
          "2022-12-06T00:00:00",
          "2022-12-13T00:00:00",
          "2022-12-11T00:00:00",
          "2022-12-04T00:00:00",
          "2022-12-02T00:00:00",
          "2022-12-07T00:00:00",
          "2022-12-12T00:00:00",
          "2022-12-03T00:00:00",
          "2022-12-05T00:00:00",
          "2022-12-01T00:00:00",
          "2022-12-14T00:00:00",
          "2022-12-08T00:00:00",
          "2022-12-09T00:00:00",
          "2022-12-10T00:00:00",
          "2022-12-19T00:00:00",
          "2022-12-20T00:00:00",
          "2022-12-21T00:00:00",
          "2022-12-27T00:00:00",
          "2022-12-22T00:00:00",
          "2022-12-23T00:00:00",
          "2022-12-28T00:00:00",
          "2022-12-26T00:00:00",
          "2022-12-29T00:00:00",
          "2022-12-24T00:00:00",
          "2022-12-25T00:00:00",
          "2022-12-30T00:00:00",
          "2022-12-31T00:00:00"
         ],
         "xaxis": "x10",
         "y": [
          13006.307999999999,
          12924.467,
          12892,
          12828.333,
          12641.175,
          12513.858,
          12465.9,
          12458.6,
          12386.8,
          12311.833,
          12229.6,
          12186.2,
          12178.39,
          12098.93,
          12059.300000000001,
          11886.26,
          11761.525,
          11704.9,
          11620.05,
          11211.842,
          11191.967,
          10769.275,
          10668.875,
          8266.8,
          7986.6,
          7860,
          7215.2,
          7015.6,
          6713.1,
          6586.2,
          6060.7
         ],
         "yaxis": "y10"
        },
        {
         "alignmentgroup": "True",
         "hovertemplate": "variable=Solar térmica<br>datetime=%{x}<br>value=%{y}<extra></extra>",
         "legendgroup": "Solar térmica",
         "marker": {
          "color": "#636efa",
          "pattern": {
           "shape": ""
          }
         },
         "name": "Solar térmica",
         "offsetgroup": "Solar térmica",
         "orientation": "v",
         "showlegend": true,
         "textposition": "auto",
         "type": "bar",
         "x": [
          "2022-12-27T00:00:00",
          "2022-12-28T00:00:00",
          "2022-12-26T00:00:00",
          "2022-12-02T00:00:00",
          "2022-12-31T00:00:00",
          "2022-12-03T00:00:00",
          "2022-12-25T00:00:00",
          "2022-12-19T00:00:00",
          "2022-12-18T00:00:00",
          "2022-12-23T00:00:00",
          "2022-12-01T00:00:00",
          "2022-12-24T00:00:00",
          "2022-12-22T00:00:00",
          "2022-12-04T00:00:00",
          "2022-12-29T00:00:00",
          "2022-12-17T00:00:00",
          "2022-12-30T00:00:00",
          "2022-12-07T00:00:00",
          "2022-12-21T00:00:00",
          "2022-12-20T00:00:00",
          "2022-12-10T00:00:00",
          "2022-12-05T00:00:00",
          "2022-12-16T00:00:00",
          "2022-12-06T00:00:00",
          "2022-12-12T00:00:00",
          "2022-12-13T00:00:00",
          "2022-12-14T00:00:00",
          "2022-12-15T00:00:00",
          "2022-12-11T00:00:00",
          "2022-12-08T00:00:00",
          "2022-12-09T00:00:00"
         ],
         "xaxis": "x11",
         "y": [
          6443.7,
          6226.6,
          5702.900000000001,
          5637.6,
          5355.400000000001,
          4216.6,
          3997.7000000000003,
          3804.4,
          3652.575,
          3433.3,
          3152.2,
          2837.8,
          2165.4,
          1989.3,
          1697.8,
          1615.1000000000001,
          1502.7,
          782.8000000000001,
          639.8,
          607.5,
          568.2,
          343.4,
          343.2,
          330,
          232.9,
          164.5,
          138.1,
          82.8,
          51.4,
          42.9,
          6.9
         ],
         "yaxis": "y11"
        },
        {
         "alignmentgroup": "True",
         "hovertemplate": "variable=Residuos no renovables<br>datetime=%{x}<br>value=%{y}<extra></extra>",
         "legendgroup": "Residuos no renovables",
         "marker": {
          "color": "#EF553B",
          "pattern": {
           "shape": ""
          }
         },
         "name": "Residuos no renovables",
         "offsetgroup": "Residuos no renovables",
         "orientation": "v",
         "showlegend": true,
         "textposition": "auto",
         "type": "bar",
         "x": [
          "2022-12-03T00:00:00",
          "2022-12-27T00:00:00",
          "2022-12-10T00:00:00",
          "2022-12-11T00:00:00",
          "2022-12-02T00:00:00",
          "2022-12-09T00:00:00",
          "2022-12-21T00:00:00",
          "2022-12-08T00:00:00",
          "2022-12-30T00:00:00",
          "2022-12-18T00:00:00",
          "2022-12-12T00:00:00",
          "2022-12-04T00:00:00",
          "2022-12-29T00:00:00",
          "2022-12-31T00:00:00",
          "2022-12-26T00:00:00",
          "2022-12-13T00:00:00",
          "2022-12-19T00:00:00",
          "2022-12-01T00:00:00",
          "2022-12-23T00:00:00",
          "2022-12-25T00:00:00",
          "2022-12-24T00:00:00",
          "2022-12-20T00:00:00",
          "2022-12-06T00:00:00",
          "2022-12-05T00:00:00",
          "2022-12-22T00:00:00",
          "2022-12-28T00:00:00",
          "2022-12-07T00:00:00",
          "2022-12-17T00:00:00",
          "2022-12-16T00:00:00",
          "2022-12-14T00:00:00",
          "2022-12-15T00:00:00"
         ],
         "xaxis": "x12",
         "y": [
          6398.8,
          6344.63,
          6338.2,
          6325,
          6306,
          6290.8,
          6247.4,
          6220.599999999999,
          6206.1,
          6156.2,
          6142.633,
          6142.1,
          6125.2,
          6096.625,
          6093.319,
          6062.9,
          6056.33,
          6036.4,
          6023.2,
          6023.1,
          5999.8,
          5990.4,
          5945.1,
          5879.3,
          5875.725,
          5867.778,
          5864.3,
          5806.9,
          5448.4,
          5330.75,
          5076.8
         ],
         "yaxis": "y12"
        },
        {
         "alignmentgroup": "True",
         "hovertemplate": "variable=Ajuste P48<br>datetime=%{x}<br>value=%{y}<extra></extra>",
         "legendgroup": "Ajuste P48",
         "marker": {
          "color": "#00cc96",
          "pattern": {
           "shape": ""
          }
         },
         "name": "Ajuste P48",
         "offsetgroup": "Ajuste P48",
         "orientation": "v",
         "showlegend": true,
         "textposition": "auto",
         "type": "bar",
         "x": [
          "2022-12-20T00:00:00",
          "2022-12-25T00:00:00",
          "2022-12-18T00:00:00",
          "2022-12-21T00:00:00",
          "2022-12-01T00:00:00",
          "2022-12-12T00:00:00",
          "2022-12-30T00:00:00",
          "2022-12-02T00:00:00",
          "2022-12-27T00:00:00",
          "2022-12-23T00:00:00",
          "2022-12-26T00:00:00",
          "2022-12-22T00:00:00",
          "2022-12-19T00:00:00",
          "2022-12-13T00:00:00",
          "2022-12-24T00:00:00",
          "2022-12-17T00:00:00",
          "2022-12-28T00:00:00",
          "2022-12-11T00:00:00",
          "2022-12-15T00:00:00",
          "2022-12-07T00:00:00",
          "2022-12-06T00:00:00",
          "2022-12-05T00:00:00",
          "2022-12-31T00:00:00",
          "2022-12-04T00:00:00",
          "2022-12-10T00:00:00",
          "2022-12-03T00:00:00",
          "2022-12-14T00:00:00",
          "2022-12-29T00:00:00",
          "2022-12-16T00:00:00",
          "2022-12-08T00:00:00",
          "2022-12-09T00:00:00"
         ],
         "xaxis": "x5",
         "y": [
          6075,
          5550,
          3348.55,
          2506.7,
          1535,
          302.625,
          252,
          197.5,
          26,
          -763.9,
          -1237.5,
          -1653.125,
          -2425,
          -3075,
          -3122,
          -3482.5,
          -3719,
          -4664.7,
          -7369.6,
          -7852.5,
          -8100,
          -9950.55,
          -10106.25,
          -10867.5,
          -11488.5,
          -12112.5,
          -12170.425,
          -13200,
          -17130,
          -19790,
          -21159.55
         ],
         "yaxis": "y5"
        },
        {
         "alignmentgroup": "True",
         "hovertemplate": "variable=Saldo Marruecos<br>datetime=%{x}<br>value=%{y}<extra></extra>",
         "legendgroup": "Saldo Marruecos",
         "marker": {
          "color": "#ab63fa",
          "pattern": {
           "shape": ""
          }
         },
         "name": "Saldo Marruecos",
         "offsetgroup": "Saldo Marruecos",
         "orientation": "v",
         "showlegend": true,
         "textposition": "auto",
         "type": "bar",
         "x": [
          "2022-12-11T00:00:00",
          "2022-12-09T00:00:00",
          "2022-12-10T00:00:00",
          "2022-12-08T00:00:00",
          "2022-12-04T00:00:00",
          "2022-12-14T00:00:00",
          "2022-12-17T00:00:00",
          "2022-12-15T00:00:00",
          "2022-12-18T00:00:00",
          "2022-12-27T00:00:00",
          "2022-12-07T00:00:00",
          "2022-12-05T00:00:00",
          "2022-12-13T00:00:00",
          "2022-12-16T00:00:00",
          "2022-12-06T00:00:00",
          "2022-12-12T00:00:00",
          "2022-12-28T00:00:00",
          "2022-12-02T00:00:00",
          "2022-12-19T00:00:00",
          "2022-12-01T00:00:00",
          "2022-12-29T00:00:00",
          "2022-12-21T00:00:00",
          "2022-12-20T00:00:00",
          "2022-12-26T00:00:00",
          "2022-12-22T00:00:00",
          "2022-12-23T00:00:00",
          "2022-12-03T00:00:00",
          "2022-12-24T00:00:00",
          "2022-12-25T00:00:00",
          "2022-12-30T00:00:00",
          "2022-12-31T00:00:00"
         ],
         "xaxis": "x6",
         "y": [
          4262.9,
          -74.60000000000002,
          -158.39999999999998,
          -552.5,
          -1390,
          -1430,
          -1490,
          -1500,
          -1530,
          -1870,
          -1940,
          -2020,
          -2070,
          -2510,
          -3020,
          -3850.5,
          -4670,
          -5500,
          -5950,
          -6850,
          -6934,
          -6940,
          -7140.5,
          -7340,
          -8860,
          -9210,
          -9363,
          -10217.8,
          -12060,
          -12840,
          -13567.5
         ],
         "yaxis": "y6"
        },
        {
         "alignmentgroup": "True",
         "hovertemplate": "variable=Saldo Andorra<br>datetime=%{x}<br>value=%{y}<extra></extra>",
         "legendgroup": "Saldo Andorra",
         "marker": {
          "color": "#FFA15A",
          "pattern": {
           "shape": ""
          }
         },
         "name": "Saldo Andorra",
         "offsetgroup": "Saldo Andorra",
         "orientation": "v",
         "showlegend": true,
         "textposition": "auto",
         "type": "bar",
         "x": [
          "2022-12-19T00:00:00",
          "2022-12-28T00:00:00",
          "2022-12-27T00:00:00",
          "2022-12-12T00:00:00",
          "2022-12-26T00:00:00",
          "2022-12-04T00:00:00",
          "2022-12-08T00:00:00",
          "2022-12-05T00:00:00",
          "2022-12-25T00:00:00",
          "2022-12-29T00:00:00",
          "2022-12-30T00:00:00",
          "2022-12-01T00:00:00",
          "2022-12-03T00:00:00",
          "2022-12-20T00:00:00",
          "2022-12-22T00:00:00",
          "2022-12-23T00:00:00",
          "2022-12-09T00:00:00",
          "2022-12-21T00:00:00",
          "2022-12-24T00:00:00",
          "2022-12-16T00:00:00",
          "2022-12-13T00:00:00",
          "2022-12-02T00:00:00",
          "2022-12-11T00:00:00",
          "2022-12-18T00:00:00",
          "2022-12-31T00:00:00",
          "2022-12-17T00:00:00",
          "2022-12-10T00:00:00",
          "2022-12-14T00:00:00",
          "2022-12-15T00:00:00",
          "2022-12-06T00:00:00",
          "2022-12-07T00:00:00"
         ],
         "xaxis": "x7",
         "y": [
          -943,
          -1041,
          -1082,
          -1084,
          -1110,
          -1166,
          -1179,
          -1193,
          -1210,
          -1215,
          -1217,
          -1241,
          -1268,
          -1269,
          -1272,
          -1289,
          -1308,
          -1314,
          -1341,
          -1351,
          -1369,
          -1385,
          -1401,
          -1420,
          -1436.5,
          -1498,
          -1504,
          -1518,
          -1533,
          -2089,
          -2383
         ],
         "yaxis": "y7"
        },
        {
         "alignmentgroup": "True",
         "hovertemplate": "variable=Enlace Baleares<br>datetime=%{x}<br>value=%{y}<extra></extra>",
         "legendgroup": "Enlace Baleares",
         "marker": {
          "color": "#19d3f3",
          "pattern": {
           "shape": ""
          }
         },
         "name": "Enlace Baleares",
         "offsetgroup": "Enlace Baleares",
         "orientation": "v",
         "showlegend": true,
         "textposition": "auto",
         "type": "bar",
         "x": [
          "2022-12-05T00:00:00",
          "2022-12-04T00:00:00",
          "2022-12-06T00:00:00",
          "2022-12-11T00:00:00",
          "2022-12-01T00:00:00",
          "2022-12-07T00:00:00",
          "2022-12-09T00:00:00",
          "2022-12-02T00:00:00",
          "2022-12-15T00:00:00",
          "2022-12-17T00:00:00",
          "2022-12-16T00:00:00",
          "2022-12-26T00:00:00",
          "2022-12-03T00:00:00",
          "2022-12-08T00:00:00",
          "2022-12-10T00:00:00",
          "2022-12-25T00:00:00",
          "2022-12-27T00:00:00",
          "2022-12-13T00:00:00",
          "2022-12-14T00:00:00",
          "2022-12-18T00:00:00",
          "2022-12-24T00:00:00",
          "2022-12-31T00:00:00",
          "2022-12-23T00:00:00",
          "2022-12-19T00:00:00",
          "2022-12-22T00:00:00",
          "2022-12-12T00:00:00",
          "2022-12-28T00:00:00",
          "2022-12-20T00:00:00",
          "2022-12-21T00:00:00",
          "2022-12-29T00:00:00",
          "2022-12-30T00:00:00"
         ],
         "xaxis": "x8",
         "y": [
          -979.1999999999999,
          -979.1999999999999,
          -979.1999999999999,
          -1227.2,
          -1325.6,
          -1326,
          -1347,
          -1475.4,
          -1548.3999999999999,
          -1895.8,
          -1899.3,
          -2303.9,
          -2502.3,
          -2572.7,
          -2641.2,
          -2665.6,
          -2673.8,
          -2722.3,
          -2808.4,
          -3042.8,
          -3230,
          -3334,
          -3431,
          -3579,
          -3641,
          -3740.1,
          -3794,
          -3848,
          -3848,
          -3981,
          -4141
         ],
         "yaxis": "y8"
        },
        {
         "alignmentgroup": "True",
         "hovertemplate": "variable=Saldo Francia<br>datetime=%{x}<br>value=%{y}<extra></extra>",
         "legendgroup": "Saldo Francia",
         "marker": {
          "color": "#FF6692",
          "pattern": {
           "shape": ""
          }
         },
         "name": "Saldo Francia",
         "offsetgroup": "Saldo Francia",
         "orientation": "v",
         "showlegend": true,
         "textposition": "auto",
         "type": "bar",
         "x": [
          "2022-12-28T00:00:00",
          "2022-12-26T00:00:00",
          "2022-12-31T00:00:00",
          "2022-12-29T00:00:00",
          "2022-12-27T00:00:00",
          "2022-12-14T00:00:00",
          "2022-12-01T00:00:00",
          "2022-12-15T00:00:00",
          "2022-12-13T00:00:00",
          "2022-12-12T00:00:00",
          "2022-12-20T00:00:00",
          "2022-12-02T00:00:00",
          "2022-12-16T00:00:00",
          "2022-12-19T00:00:00",
          "2022-12-18T00:00:00",
          "2022-12-09T00:00:00",
          "2022-12-30T00:00:00",
          "2022-12-17T00:00:00",
          "2022-12-05T00:00:00",
          "2022-12-08T00:00:00",
          "2022-12-07T00:00:00",
          "2022-12-23T00:00:00",
          "2022-12-22T00:00:00",
          "2022-12-11T00:00:00",
          "2022-12-06T00:00:00",
          "2022-12-25T00:00:00",
          "2022-12-24T00:00:00",
          "2022-12-04T00:00:00",
          "2022-12-03T00:00:00",
          "2022-12-21T00:00:00",
          "2022-12-10T00:00:00"
         ],
         "xaxis": "x",
         "y": [
          -1296.6000000000004,
          -7984.267,
          -15145,
          -19261.8,
          -19558.7,
          -38475,
          -40800,
          -42500,
          -42986,
          -46144.667,
          -46631.9,
          -48150,
          -49410,
          -50335.25,
          -50888,
          -53790,
          -54318.5,
          -54732,
          -54872.833,
          -55724.833,
          -58577,
          -60436,
          -60499.333,
          -61255,
          -61658,
          -63742,
          -63965.5,
          -65554.05,
          -66856.133,
          -67382,
          -68130.001
         ],
         "yaxis": "y"
        },
        {
         "alignmentgroup": "True",
         "hovertemplate": "variable=Consumo bombeo<br>datetime=%{x}<br>value=%{y}<extra></extra>",
         "legendgroup": "Consumo bombeo",
         "marker": {
          "color": "#B6E880",
          "pattern": {
           "shape": ""
          }
         },
         "name": "Consumo bombeo",
         "offsetgroup": "Consumo bombeo",
         "orientation": "v",
         "showlegend": true,
         "textposition": "auto",
         "type": "bar",
         "x": [
          "2022-12-03T00:00:00",
          "2022-12-04T00:00:00",
          "2022-12-05T00:00:00",
          "2022-12-02T00:00:00",
          "2022-12-16T00:00:00",
          "2022-12-07T00:00:00",
          "2022-12-01T00:00:00",
          "2022-12-17T00:00:00",
          "2022-12-06T00:00:00",
          "2022-12-27T00:00:00",
          "2022-12-08T00:00:00",
          "2022-12-15T00:00:00",
          "2022-12-09T00:00:00",
          "2022-12-23T00:00:00",
          "2022-12-22T00:00:00",
          "2022-12-13T00:00:00",
          "2022-12-26T00:00:00",
          "2022-12-20T00:00:00",
          "2022-12-14T00:00:00",
          "2022-12-11T00:00:00",
          "2022-12-21T00:00:00",
          "2022-12-19T00:00:00",
          "2022-12-28T00:00:00",
          "2022-12-12T00:00:00",
          "2022-12-10T00:00:00",
          "2022-12-29T00:00:00",
          "2022-12-24T00:00:00",
          "2022-12-18T00:00:00",
          "2022-12-25T00:00:00",
          "2022-12-31T00:00:00",
          "2022-12-30T00:00:00"
         ],
         "xaxis": "x2",
         "y": [
          -6350.82,
          -6631.3,
          -7979.75,
          -9484.4,
          -10878.15,
          -11353.117,
          -11761.025,
          -13773.475,
          -14555.482,
          -18237.492,
          -19120.625,
          -21664.317,
          -22253.2,
          -24266.725000000002,
          -25196.675,
          -25828.125,
          -26552.1,
          -27981.475,
          -28083.600000000002,
          -28294.392,
          -30002.875,
          -32087.538,
          -34991.767,
          -35893.1,
          -37460.675,
          -40302.675,
          -49923,
          -50411.508,
          -52764.508,
          -65530.45,
          -67283.325
         ],
         "yaxis": "y2"
        }
       ],
       "layout": {
        "annotations": [
         {
          "font": {},
          "showarrow": false,
          "text": "variable=Saldo Francia",
          "x": 0.1175,
          "xanchor": "center",
          "xref": "paper",
          "y": 0.144,
          "yanchor": "bottom",
          "yref": "paper"
         },
         {
          "font": {},
          "showarrow": false,
          "text": "variable=Consumo bombeo",
          "x": 0.3725,
          "xanchor": "center",
          "xref": "paper",
          "y": 0.144,
          "yanchor": "bottom",
          "yref": "paper"
         },
         {
          "font": {},
          "showarrow": false,
          "text": "variable=Ajuste P48",
          "x": 0.1175,
          "xanchor": "center",
          "xref": "paper",
          "y": 0.358,
          "yanchor": "bottom",
          "yref": "paper"
         },
         {
          "font": {},
          "showarrow": false,
          "text": "variable=Saldo Marruecos",
          "x": 0.3725,
          "xanchor": "center",
          "xref": "paper",
          "y": 0.358,
          "yanchor": "bottom",
          "yref": "paper"
         },
         {
          "font": {},
          "showarrow": false,
          "text": "variable=Saldo Andorra",
          "x": 0.6275,
          "xanchor": "center",
          "xref": "paper",
          "y": 0.358,
          "yanchor": "bottom",
          "yref": "paper"
         },
         {
          "font": {},
          "showarrow": false,
          "text": "variable=Enlace Baleares",
          "x": 0.8824999999999998,
          "xanchor": "center",
          "xref": "paper",
          "y": 0.358,
          "yanchor": "bottom",
          "yref": "paper"
         },
         {
          "font": {},
          "showarrow": false,
          "text": "variable=Turbinación bombeo",
          "x": 0.1175,
          "xanchor": "center",
          "xref": "paper",
          "y": 0.572,
          "yanchor": "bottom",
          "yref": "paper"
         },
         {
          "font": {},
          "showarrow": false,
          "text": "variable=otras renovables",
          "x": 0.3725,
          "xanchor": "center",
          "xref": "paper",
          "y": 0.572,
          "yanchor": "bottom",
          "yref": "paper"
         },
         {
          "font": {},
          "showarrow": false,
          "text": "variable=Solar térmica",
          "x": 0.6275,
          "xanchor": "center",
          "xref": "paper",
          "y": 0.572,
          "yanchor": "bottom",
          "yref": "paper"
         },
         {
          "font": {},
          "showarrow": false,
          "text": "variable=Residuos no renovables",
          "x": 0.8824999999999998,
          "xanchor": "center",
          "xref": "paper",
          "y": 0.572,
          "yanchor": "bottom",
          "yref": "paper"
         },
         {
          "font": {},
          "showarrow": false,
          "text": "variable=Saldo Portugal",
          "x": 0.1175,
          "xanchor": "center",
          "xref": "paper",
          "y": 0.7859999999999999,
          "yanchor": "bottom",
          "yref": "paper"
         },
         {
          "font": {},
          "showarrow": false,
          "text": "variable=Solar fotovoltaica",
          "x": 0.3725,
          "xanchor": "center",
          "xref": "paper",
          "y": 0.7859999999999999,
          "yanchor": "bottom",
          "yref": "paper"
         },
         {
          "font": {},
          "showarrow": false,
          "text": "variable=Cogeneración",
          "x": 0.6275,
          "xanchor": "center",
          "xref": "paper",
          "y": 0.7859999999999999,
          "yanchor": "bottom",
          "yref": "paper"
         },
         {
          "font": {},
          "showarrow": false,
          "text": "variable=Carbón",
          "x": 0.8824999999999998,
          "xanchor": "center",
          "xref": "paper",
          "y": 0.7859999999999999,
          "yanchor": "bottom",
          "yref": "paper"
         },
         {
          "font": {},
          "showarrow": false,
          "text": "variable=Eólica",
          "x": 0.1175,
          "xanchor": "center",
          "xref": "paper",
          "y": 1,
          "yanchor": "bottom",
          "yref": "paper"
         },
         {
          "font": {},
          "showarrow": false,
          "text": "variable=Ciclo combinado",
          "x": 0.3725,
          "xanchor": "center",
          "xref": "paper",
          "y": 1,
          "yanchor": "bottom",
          "yref": "paper"
         },
         {
          "font": {},
          "showarrow": false,
          "text": "variable=Nuclear",
          "x": 0.6275,
          "xanchor": "center",
          "xref": "paper",
          "y": 1,
          "yanchor": "bottom",
          "yref": "paper"
         },
         {
          "font": {},
          "showarrow": false,
          "text": "variable=Hidráulica",
          "x": 0.8824999999999998,
          "xanchor": "center",
          "xref": "paper",
          "y": 1,
          "yanchor": "bottom",
          "yref": "paper"
         }
        ],
        "barmode": "relative",
        "height": 700,
        "legend": {
         "title": {
          "text": "variable"
         },
         "tracegroupgap": 0
        },
        "margin": {
         "t": 60
        },
        "template": {
         "data": {
          "bar": [
           {
            "error_x": {
             "color": "#2a3f5f"
            },
            "error_y": {
             "color": "#2a3f5f"
            },
            "marker": {
             "line": {
              "color": "#E5ECF6",
              "width": 0.5
             },
             "pattern": {
              "fillmode": "overlay",
              "size": 10,
              "solidity": 0.2
             }
            },
            "type": "bar"
           }
          ],
          "barpolar": [
           {
            "marker": {
             "line": {
              "color": "#E5ECF6",
              "width": 0.5
             },
             "pattern": {
              "fillmode": "overlay",
              "size": 10,
              "solidity": 0.2
             }
            },
            "type": "barpolar"
           }
          ],
          "carpet": [
           {
            "aaxis": {
             "endlinecolor": "#2a3f5f",
             "gridcolor": "white",
             "linecolor": "white",
             "minorgridcolor": "white",
             "startlinecolor": "#2a3f5f"
            },
            "baxis": {
             "endlinecolor": "#2a3f5f",
             "gridcolor": "white",
             "linecolor": "white",
             "minorgridcolor": "white",
             "startlinecolor": "#2a3f5f"
            },
            "type": "carpet"
           }
          ],
          "choropleth": [
           {
            "colorbar": {
             "outlinewidth": 0,
             "ticks": ""
            },
            "type": "choropleth"
           }
          ],
          "contour": [
           {
            "colorbar": {
             "outlinewidth": 0,
             "ticks": ""
            },
            "colorscale": [
             [
              0,
              "#0d0887"
             ],
             [
              0.1111111111111111,
              "#46039f"
             ],
             [
              0.2222222222222222,
              "#7201a8"
             ],
             [
              0.3333333333333333,
              "#9c179e"
             ],
             [
              0.4444444444444444,
              "#bd3786"
             ],
             [
              0.5555555555555556,
              "#d8576b"
             ],
             [
              0.6666666666666666,
              "#ed7953"
             ],
             [
              0.7777777777777778,
              "#fb9f3a"
             ],
             [
              0.8888888888888888,
              "#fdca26"
             ],
             [
              1,
              "#f0f921"
             ]
            ],
            "type": "contour"
           }
          ],
          "contourcarpet": [
           {
            "colorbar": {
             "outlinewidth": 0,
             "ticks": ""
            },
            "type": "contourcarpet"
           }
          ],
          "heatmap": [
           {
            "colorbar": {
             "outlinewidth": 0,
             "ticks": ""
            },
            "colorscale": [
             [
              0,
              "#0d0887"
             ],
             [
              0.1111111111111111,
              "#46039f"
             ],
             [
              0.2222222222222222,
              "#7201a8"
             ],
             [
              0.3333333333333333,
              "#9c179e"
             ],
             [
              0.4444444444444444,
              "#bd3786"
             ],
             [
              0.5555555555555556,
              "#d8576b"
             ],
             [
              0.6666666666666666,
              "#ed7953"
             ],
             [
              0.7777777777777778,
              "#fb9f3a"
             ],
             [
              0.8888888888888888,
              "#fdca26"
             ],
             [
              1,
              "#f0f921"
             ]
            ],
            "type": "heatmap"
           }
          ],
          "heatmapgl": [
           {
            "colorbar": {
             "outlinewidth": 0,
             "ticks": ""
            },
            "colorscale": [
             [
              0,
              "#0d0887"
             ],
             [
              0.1111111111111111,
              "#46039f"
             ],
             [
              0.2222222222222222,
              "#7201a8"
             ],
             [
              0.3333333333333333,
              "#9c179e"
             ],
             [
              0.4444444444444444,
              "#bd3786"
             ],
             [
              0.5555555555555556,
              "#d8576b"
             ],
             [
              0.6666666666666666,
              "#ed7953"
             ],
             [
              0.7777777777777778,
              "#fb9f3a"
             ],
             [
              0.8888888888888888,
              "#fdca26"
             ],
             [
              1,
              "#f0f921"
             ]
            ],
            "type": "heatmapgl"
           }
          ],
          "histogram": [
           {
            "marker": {
             "pattern": {
              "fillmode": "overlay",
              "size": 10,
              "solidity": 0.2
             }
            },
            "type": "histogram"
           }
          ],
          "histogram2d": [
           {
            "colorbar": {
             "outlinewidth": 0,
             "ticks": ""
            },
            "colorscale": [
             [
              0,
              "#0d0887"
             ],
             [
              0.1111111111111111,
              "#46039f"
             ],
             [
              0.2222222222222222,
              "#7201a8"
             ],
             [
              0.3333333333333333,
              "#9c179e"
             ],
             [
              0.4444444444444444,
              "#bd3786"
             ],
             [
              0.5555555555555556,
              "#d8576b"
             ],
             [
              0.6666666666666666,
              "#ed7953"
             ],
             [
              0.7777777777777778,
              "#fb9f3a"
             ],
             [
              0.8888888888888888,
              "#fdca26"
             ],
             [
              1,
              "#f0f921"
             ]
            ],
            "type": "histogram2d"
           }
          ],
          "histogram2dcontour": [
           {
            "colorbar": {
             "outlinewidth": 0,
             "ticks": ""
            },
            "colorscale": [
             [
              0,
              "#0d0887"
             ],
             [
              0.1111111111111111,
              "#46039f"
             ],
             [
              0.2222222222222222,
              "#7201a8"
             ],
             [
              0.3333333333333333,
              "#9c179e"
             ],
             [
              0.4444444444444444,
              "#bd3786"
             ],
             [
              0.5555555555555556,
              "#d8576b"
             ],
             [
              0.6666666666666666,
              "#ed7953"
             ],
             [
              0.7777777777777778,
              "#fb9f3a"
             ],
             [
              0.8888888888888888,
              "#fdca26"
             ],
             [
              1,
              "#f0f921"
             ]
            ],
            "type": "histogram2dcontour"
           }
          ],
          "mesh3d": [
           {
            "colorbar": {
             "outlinewidth": 0,
             "ticks": ""
            },
            "type": "mesh3d"
           }
          ],
          "parcoords": [
           {
            "line": {
             "colorbar": {
              "outlinewidth": 0,
              "ticks": ""
             }
            },
            "type": "parcoords"
           }
          ],
          "pie": [
           {
            "automargin": true,
            "type": "pie"
           }
          ],
          "scatter": [
           {
            "fillpattern": {
             "fillmode": "overlay",
             "size": 10,
             "solidity": 0.2
            },
            "type": "scatter"
           }
          ],
          "scatter3d": [
           {
            "line": {
             "colorbar": {
              "outlinewidth": 0,
              "ticks": ""
             }
            },
            "marker": {
             "colorbar": {
              "outlinewidth": 0,
              "ticks": ""
             }
            },
            "type": "scatter3d"
           }
          ],
          "scattercarpet": [
           {
            "marker": {
             "colorbar": {
              "outlinewidth": 0,
              "ticks": ""
             }
            },
            "type": "scattercarpet"
           }
          ],
          "scattergeo": [
           {
            "marker": {
             "colorbar": {
              "outlinewidth": 0,
              "ticks": ""
             }
            },
            "type": "scattergeo"
           }
          ],
          "scattergl": [
           {
            "marker": {
             "colorbar": {
              "outlinewidth": 0,
              "ticks": ""
             }
            },
            "type": "scattergl"
           }
          ],
          "scattermapbox": [
           {
            "marker": {
             "colorbar": {
              "outlinewidth": 0,
              "ticks": ""
             }
            },
            "type": "scattermapbox"
           }
          ],
          "scatterpolar": [
           {
            "marker": {
             "colorbar": {
              "outlinewidth": 0,
              "ticks": ""
             }
            },
            "type": "scatterpolar"
           }
          ],
          "scatterpolargl": [
           {
            "marker": {
             "colorbar": {
              "outlinewidth": 0,
              "ticks": ""
             }
            },
            "type": "scatterpolargl"
           }
          ],
          "scatterternary": [
           {
            "marker": {
             "colorbar": {
              "outlinewidth": 0,
              "ticks": ""
             }
            },
            "type": "scatterternary"
           }
          ],
          "surface": [
           {
            "colorbar": {
             "outlinewidth": 0,
             "ticks": ""
            },
            "colorscale": [
             [
              0,
              "#0d0887"
             ],
             [
              0.1111111111111111,
              "#46039f"
             ],
             [
              0.2222222222222222,
              "#7201a8"
             ],
             [
              0.3333333333333333,
              "#9c179e"
             ],
             [
              0.4444444444444444,
              "#bd3786"
             ],
             [
              0.5555555555555556,
              "#d8576b"
             ],
             [
              0.6666666666666666,
              "#ed7953"
             ],
             [
              0.7777777777777778,
              "#fb9f3a"
             ],
             [
              0.8888888888888888,
              "#fdca26"
             ],
             [
              1,
              "#f0f921"
             ]
            ],
            "type": "surface"
           }
          ],
          "table": [
           {
            "cells": {
             "fill": {
              "color": "#EBF0F8"
             },
             "line": {
              "color": "white"
             }
            },
            "header": {
             "fill": {
              "color": "#C8D4E3"
             },
             "line": {
              "color": "white"
             }
            },
            "type": "table"
           }
          ]
         },
         "layout": {
          "annotationdefaults": {
           "arrowcolor": "#2a3f5f",
           "arrowhead": 0,
           "arrowwidth": 1
          },
          "autotypenumbers": "strict",
          "coloraxis": {
           "colorbar": {
            "outlinewidth": 0,
            "ticks": ""
           }
          },
          "colorscale": {
           "diverging": [
            [
             0,
             "#8e0152"
            ],
            [
             0.1,
             "#c51b7d"
            ],
            [
             0.2,
             "#de77ae"
            ],
            [
             0.3,
             "#f1b6da"
            ],
            [
             0.4,
             "#fde0ef"
            ],
            [
             0.5,
             "#f7f7f7"
            ],
            [
             0.6,
             "#e6f5d0"
            ],
            [
             0.7,
             "#b8e186"
            ],
            [
             0.8,
             "#7fbc41"
            ],
            [
             0.9,
             "#4d9221"
            ],
            [
             1,
             "#276419"
            ]
           ],
           "sequential": [
            [
             0,
             "#0d0887"
            ],
            [
             0.1111111111111111,
             "#46039f"
            ],
            [
             0.2222222222222222,
             "#7201a8"
            ],
            [
             0.3333333333333333,
             "#9c179e"
            ],
            [
             0.4444444444444444,
             "#bd3786"
            ],
            [
             0.5555555555555556,
             "#d8576b"
            ],
            [
             0.6666666666666666,
             "#ed7953"
            ],
            [
             0.7777777777777778,
             "#fb9f3a"
            ],
            [
             0.8888888888888888,
             "#fdca26"
            ],
            [
             1,
             "#f0f921"
            ]
           ],
           "sequentialminus": [
            [
             0,
             "#0d0887"
            ],
            [
             0.1111111111111111,
             "#46039f"
            ],
            [
             0.2222222222222222,
             "#7201a8"
            ],
            [
             0.3333333333333333,
             "#9c179e"
            ],
            [
             0.4444444444444444,
             "#bd3786"
            ],
            [
             0.5555555555555556,
             "#d8576b"
            ],
            [
             0.6666666666666666,
             "#ed7953"
            ],
            [
             0.7777777777777778,
             "#fb9f3a"
            ],
            [
             0.8888888888888888,
             "#fdca26"
            ],
            [
             1,
             "#f0f921"
            ]
           ]
          },
          "colorway": [
           "#636efa",
           "#EF553B",
           "#00cc96",
           "#ab63fa",
           "#FFA15A",
           "#19d3f3",
           "#FF6692",
           "#B6E880",
           "#FF97FF",
           "#FECB52"
          ],
          "font": {
           "color": "#2a3f5f"
          },
          "geo": {
           "bgcolor": "white",
           "lakecolor": "white",
           "landcolor": "#E5ECF6",
           "showlakes": true,
           "showland": true,
           "subunitcolor": "white"
          },
          "hoverlabel": {
           "align": "left"
          },
          "hovermode": "closest",
          "mapbox": {
           "style": "light"
          },
          "paper_bgcolor": "white",
          "plot_bgcolor": "#E5ECF6",
          "polar": {
           "angularaxis": {
            "gridcolor": "white",
            "linecolor": "white",
            "ticks": ""
           },
           "bgcolor": "#E5ECF6",
           "radialaxis": {
            "gridcolor": "white",
            "linecolor": "white",
            "ticks": ""
           }
          },
          "scene": {
           "xaxis": {
            "backgroundcolor": "#E5ECF6",
            "gridcolor": "white",
            "gridwidth": 2,
            "linecolor": "white",
            "showbackground": true,
            "ticks": "",
            "zerolinecolor": "white"
           },
           "yaxis": {
            "backgroundcolor": "#E5ECF6",
            "gridcolor": "white",
            "gridwidth": 2,
            "linecolor": "white",
            "showbackground": true,
            "ticks": "",
            "zerolinecolor": "white"
           },
           "zaxis": {
            "backgroundcolor": "#E5ECF6",
            "gridcolor": "white",
            "gridwidth": 2,
            "linecolor": "white",
            "showbackground": true,
            "ticks": "",
            "zerolinecolor": "white"
           }
          },
          "shapedefaults": {
           "line": {
            "color": "#2a3f5f"
           }
          },
          "ternary": {
           "aaxis": {
            "gridcolor": "white",
            "linecolor": "white",
            "ticks": ""
           },
           "baxis": {
            "gridcolor": "white",
            "linecolor": "white",
            "ticks": ""
           },
           "bgcolor": "#E5ECF6",
           "caxis": {
            "gridcolor": "white",
            "linecolor": "white",
            "ticks": ""
           }
          },
          "title": {
           "x": 0.05
          },
          "xaxis": {
           "automargin": true,
           "gridcolor": "white",
           "linecolor": "white",
           "ticks": "",
           "title": {
            "standoff": 15
           },
           "zerolinecolor": "white",
           "zerolinewidth": 2
          },
          "yaxis": {
           "automargin": true,
           "gridcolor": "white",
           "linecolor": "white",
           "ticks": "",
           "title": {
            "standoff": 15
           },
           "zerolinecolor": "white",
           "zerolinewidth": 2
          }
         }
        },
        "xaxis": {
         "anchor": "y",
         "domain": [
          0,
          0.235
         ],
         "title": {
          "text": "datetime"
         }
        },
        "xaxis10": {
         "anchor": "y10",
         "domain": [
          0.255,
          0.49
         ],
         "matches": "x",
         "showticklabels": false
        },
        "xaxis11": {
         "anchor": "y11",
         "domain": [
          0.51,
          0.745
         ],
         "matches": "x",
         "showticklabels": false
        },
        "xaxis12": {
         "anchor": "y12",
         "domain": [
          0.7649999999999999,
          0.9999999999999999
         ],
         "matches": "x",
         "showticklabels": false
        },
        "xaxis13": {
         "anchor": "y13",
         "domain": [
          0,
          0.235
         ],
         "matches": "x",
         "showticklabels": false
        },
        "xaxis14": {
         "anchor": "y14",
         "domain": [
          0.255,
          0.49
         ],
         "matches": "x",
         "showticklabels": false
        },
        "xaxis15": {
         "anchor": "y15",
         "domain": [
          0.51,
          0.745
         ],
         "matches": "x",
         "showticklabels": false
        },
        "xaxis16": {
         "anchor": "y16",
         "domain": [
          0.7649999999999999,
          0.9999999999999999
         ],
         "matches": "x",
         "showticklabels": false
        },
        "xaxis17": {
         "anchor": "y17",
         "domain": [
          0,
          0.235
         ],
         "matches": "x",
         "showticklabels": false
        },
        "xaxis18": {
         "anchor": "y18",
         "domain": [
          0.255,
          0.49
         ],
         "matches": "x",
         "showticklabels": false
        },
        "xaxis19": {
         "anchor": "y19",
         "domain": [
          0.51,
          0.745
         ],
         "matches": "x",
         "showticklabels": false
        },
        "xaxis2": {
         "anchor": "y2",
         "domain": [
          0.255,
          0.49
         ],
         "matches": "x",
         "title": {
          "text": "datetime"
         }
        },
        "xaxis20": {
         "anchor": "y20",
         "domain": [
          0.7649999999999999,
          0.9999999999999999
         ],
         "matches": "x",
         "showticklabels": false
        },
        "xaxis3": {
         "anchor": "y3",
         "domain": [
          0.51,
          0.745
         ],
         "matches": "x",
         "title": {
          "text": "datetime"
         }
        },
        "xaxis4": {
         "anchor": "y4",
         "domain": [
          0.7649999999999999,
          0.9999999999999999
         ],
         "matches": "x",
         "title": {
          "text": "datetime"
         }
        },
        "xaxis5": {
         "anchor": "y5",
         "domain": [
          0,
          0.235
         ],
         "matches": "x",
         "showticklabels": false
        },
        "xaxis6": {
         "anchor": "y6",
         "domain": [
          0.255,
          0.49
         ],
         "matches": "x",
         "showticklabels": false
        },
        "xaxis7": {
         "anchor": "y7",
         "domain": [
          0.51,
          0.745
         ],
         "matches": "x",
         "showticklabels": false
        },
        "xaxis8": {
         "anchor": "y8",
         "domain": [
          0.7649999999999999,
          0.9999999999999999
         ],
         "matches": "x",
         "showticklabels": false
        },
        "xaxis9": {
         "anchor": "y9",
         "domain": [
          0,
          0.235
         ],
         "matches": "x",
         "showticklabels": false
        },
        "yaxis": {
         "anchor": "x",
         "domain": [
          0,
          0.144
         ],
         "title": {
          "text": "value"
         }
        },
        "yaxis10": {
         "anchor": "x10",
         "domain": [
          0.428,
          0.572
         ],
         "matches": "y",
         "showticklabels": false
        },
        "yaxis11": {
         "anchor": "x11",
         "domain": [
          0.428,
          0.572
         ],
         "matches": "y",
         "showticklabels": false
        },
        "yaxis12": {
         "anchor": "x12",
         "domain": [
          0.428,
          0.572
         ],
         "matches": "y",
         "showticklabels": false
        },
        "yaxis13": {
         "anchor": "x13",
         "domain": [
          0.6419999999999999,
          0.7859999999999999
         ],
         "matches": "y",
         "title": {
          "text": "value"
         }
        },
        "yaxis14": {
         "anchor": "x14",
         "domain": [
          0.6419999999999999,
          0.7859999999999999
         ],
         "matches": "y",
         "showticklabels": false
        },
        "yaxis15": {
         "anchor": "x15",
         "domain": [
          0.6419999999999999,
          0.7859999999999999
         ],
         "matches": "y",
         "showticklabels": false
        },
        "yaxis16": {
         "anchor": "x16",
         "domain": [
          0.6419999999999999,
          0.7859999999999999
         ],
         "matches": "y",
         "showticklabels": false
        },
        "yaxis17": {
         "anchor": "x17",
         "domain": [
          0.856,
          1
         ],
         "matches": "y",
         "title": {
          "text": "value"
         }
        },
        "yaxis18": {
         "anchor": "x18",
         "domain": [
          0.856,
          1
         ],
         "matches": "y",
         "showticklabels": false
        },
        "yaxis19": {
         "anchor": "x19",
         "domain": [
          0.856,
          1
         ],
         "matches": "y",
         "showticklabels": false
        },
        "yaxis2": {
         "anchor": "x2",
         "domain": [
          0,
          0.144
         ],
         "matches": "y",
         "showticklabels": false
        },
        "yaxis20": {
         "anchor": "x20",
         "domain": [
          0.856,
          1
         ],
         "matches": "y",
         "showticklabels": false
        },
        "yaxis3": {
         "anchor": "x3",
         "domain": [
          0,
          0.144
         ],
         "matches": "y",
         "showticklabels": false
        },
        "yaxis4": {
         "anchor": "x4",
         "domain": [
          0,
          0.144
         ],
         "matches": "y",
         "showticklabels": false
        },
        "yaxis5": {
         "anchor": "x5",
         "domain": [
          0.214,
          0.358
         ],
         "matches": "y",
         "title": {
          "text": "value"
         }
        },
        "yaxis6": {
         "anchor": "x6",
         "domain": [
          0.214,
          0.358
         ],
         "matches": "y",
         "showticklabels": false
        },
        "yaxis7": {
         "anchor": "x7",
         "domain": [
          0.214,
          0.358
         ],
         "matches": "y",
         "showticklabels": false
        },
        "yaxis8": {
         "anchor": "x8",
         "domain": [
          0.214,
          0.358
         ],
         "matches": "y",
         "showticklabels": false
        },
        "yaxis9": {
         "anchor": "x9",
         "domain": [
          0.428,
          0.572
         ],
         "matches": "y",
         "title": {
          "text": "value"
         }
        }
       }
      }
     },
     "metadata": {},
     "output_type": "display_data"
    }
   ],
   "source": [
    "px.bar(data_frame=dfm, x='datetime', y='value', color='variable',\n",
    "      facet_col='variable', facet_col_wrap=4, height=700)"
   ]
  },
  {
   "cell_type": "markdown",
   "id": "97702d5d-5cf7-467e-840f-aa60eb20e39c",
   "metadata": {},
   "source": [
    "### Area plot"
   ]
  },
  {
   "cell_type": "markdown",
   "id": "9d0cfcdd-95f5-43ff-b093-5f5ff75b912d",
   "metadata": {},
   "source": [
    "#### Colors"
   ]
  },
  {
   "cell_type": "code",
   "execution_count": 36,
   "id": "684240db-140d-4dab-a5a3-b360d6e14b5f",
   "metadata": {},
   "outputs": [
    {
     "data": {
      "application/vnd.plotly.v1+json": {
       "config": {
        "plotlyServerURL": "https://plot.ly"
       },
       "data": [
        {
         "fillpattern": {
          "shape": ""
         },
         "hovertemplate": "variable=Eólica<br>datetime=%{x}<br>value=%{y}<extra></extra>",
         "legendgroup": "Eólica",
         "line": {
          "color": "#636efa"
         },
         "marker": {
          "symbol": "circle"
         },
         "mode": "lines",
         "name": "Eólica",
         "orientation": "v",
         "showlegend": true,
         "stackgroup": "1",
         "type": "scatter",
         "x": [
          "2022-12-12T00:00:00",
          "2022-12-21T00:00:00",
          "2022-12-30T00:00:00",
          "2022-12-22T00:00:00",
          "2022-12-13T00:00:00",
          "2022-12-20T00:00:00",
          "2022-12-23T00:00:00",
          "2022-12-14T00:00:00",
          "2022-12-10T00:00:00",
          "2022-12-19T00:00:00",
          "2022-12-29T00:00:00",
          "2022-12-09T00:00:00",
          "2022-12-28T00:00:00",
          "2022-12-08T00:00:00",
          "2022-12-15T00:00:00",
          "2022-12-18T00:00:00",
          "2022-12-24T00:00:00",
          "2022-12-31T00:00:00",
          "2022-12-25T00:00:00",
          "2022-12-16T00:00:00",
          "2022-12-01T00:00:00",
          "2022-12-11T00:00:00",
          "2022-12-05T00:00:00",
          "2022-12-03T00:00:00",
          "2022-12-02T00:00:00",
          "2022-12-17T00:00:00",
          "2022-12-04T00:00:00",
          "2022-12-27T00:00:00",
          "2022-12-26T00:00:00",
          "2022-12-07T00:00:00",
          "2022-12-06T00:00:00"
         ],
         "xaxis": "x",
         "y": [
          344688.925,
          317072.911,
          314274.925,
          295582.25,
          294800.075,
          273608.877,
          258296.45,
          257419.225,
          256540.694,
          251926.53,
          248642.775,
          200978.258,
          197316.296,
          196346.675,
          187318.758,
          185238.875,
          181749.317,
          175047.375,
          164381.945,
          158883.65,
          144571.275,
          143732.398,
          134602.975,
          76798.2,
          76543.005,
          63560.95,
          61074.95,
          58327.625,
          55458.75,
          50885.45,
          40119.125
         ],
         "yaxis": "y"
        },
        {
         "fillpattern": {
          "shape": ""
         },
         "hovertemplate": "variable=Ciclo combinado<br>datetime=%{x}<br>value=%{y}<extra></extra>",
         "legendgroup": "Ciclo combinado",
         "line": {
          "color": "#EF553B"
         },
         "marker": {
          "symbol": "circle"
         },
         "mode": "lines",
         "name": "Ciclo combinado",
         "orientation": "v",
         "showlegend": true,
         "stackgroup": "1",
         "type": "scatter",
         "x": [
          "2022-12-07T00:00:00",
          "2022-12-06T00:00:00",
          "2022-12-02T00:00:00",
          "2022-12-03T00:00:00",
          "2022-12-05T00:00:00",
          "2022-12-04T00:00:00",
          "2022-12-09T00:00:00",
          "2022-12-01T00:00:00",
          "2022-12-17T00:00:00",
          "2022-12-08T00:00:00",
          "2022-12-11T00:00:00",
          "2022-12-15T00:00:00",
          "2022-12-16T00:00:00",
          "2022-12-10T00:00:00",
          "2022-12-26T00:00:00",
          "2022-12-27T00:00:00",
          "2022-12-13T00:00:00",
          "2022-12-14T00:00:00",
          "2022-12-12T00:00:00",
          "2022-12-25T00:00:00",
          "2022-12-20T00:00:00",
          "2022-12-28T00:00:00",
          "2022-12-24T00:00:00",
          "2022-12-19T00:00:00",
          "2022-12-18T00:00:00",
          "2022-12-21T00:00:00",
          "2022-12-23T00:00:00",
          "2022-12-22T00:00:00",
          "2022-12-29T00:00:00",
          "2022-12-31T00:00:00",
          "2022-12-30T00:00:00"
         ],
         "xaxis": "x",
         "y": [
          341391.733,
          322276.183,
          285396.367,
          246015.975,
          231782.59,
          210513.092,
          194561.325,
          188295.075,
          157527.325,
          154792.95,
          150085.35,
          149197.75,
          135891.892,
          118185.175,
          94148,
          86273.023,
          75096.133,
          70417.05,
          52904.3,
          52580.142,
          52555.55,
          51487.473,
          51194.092000000004,
          51129.533,
          50901.975,
          47266.042,
          41976.375,
          41528.575,
          41460.75,
          36128.75,
          28471.8
         ],
         "yaxis": "y"
        },
        {
         "fillpattern": {
          "shape": ""
         },
         "hovertemplate": "variable=Nuclear<br>datetime=%{x}<br>value=%{y}<extra></extra>",
         "legendgroup": "Nuclear",
         "line": {
          "color": "#00cc96"
         },
         "marker": {
          "symbol": "circle"
         },
         "mode": "lines",
         "name": "Nuclear",
         "orientation": "v",
         "showlegend": true,
         "stackgroup": "1",
         "type": "scatter",
         "x": [
          "2022-12-19T00:00:00",
          "2022-12-29T00:00:00",
          "2022-12-18T00:00:00",
          "2022-12-12T00:00:00",
          "2022-12-20T00:00:00",
          "2022-12-13T00:00:00",
          "2022-12-14T00:00:00",
          "2022-12-28T00:00:00",
          "2022-12-02T00:00:00",
          "2022-12-27T00:00:00",
          "2022-12-22T00:00:00",
          "2022-12-26T00:00:00",
          "2022-12-24T00:00:00",
          "2022-12-23T00:00:00",
          "2022-12-01T00:00:00",
          "2022-12-25T00:00:00",
          "2022-12-21T00:00:00",
          "2022-12-15T00:00:00",
          "2022-12-05T00:00:00",
          "2022-12-17T00:00:00",
          "2022-12-16T00:00:00",
          "2022-12-04T00:00:00",
          "2022-12-03T00:00:00",
          "2022-12-11T00:00:00",
          "2022-12-30T00:00:00",
          "2022-12-09T00:00:00",
          "2022-12-10T00:00:00",
          "2022-12-06T00:00:00",
          "2022-12-08T00:00:00",
          "2022-12-31T00:00:00",
          "2022-12-07T00:00:00"
         ],
         "xaxis": "x",
         "y": [
          169818,
          169809.625,
          169706.5,
          169641.1,
          169592.8,
          169576.1,
          169575,
          169567.2,
          169522.6,
          169505.9,
          169502.9,
          169502.7,
          169448.3,
          169402.2,
          169400.9,
          169385.125,
          169287.4,
          169259.5,
          169236.2,
          169194.7,
          169193.30000000002,
          168845,
          168810.9,
          165961.30000000002,
          162528.875,
          161637.125,
          160593.4,
          157636.2,
          155594.15,
          149035.975,
          146309.25
         ],
         "yaxis": "y"
        },
        {
         "fillpattern": {
          "shape": ""
         },
         "hovertemplate": "variable=Hidráulica<br>datetime=%{x}<br>value=%{y}<extra></extra>",
         "legendgroup": "Hidráulica",
         "line": {
          "color": "#ab63fa"
         },
         "marker": {
          "symbol": "circle"
         },
         "mode": "lines",
         "name": "Hidráulica",
         "orientation": "v",
         "showlegend": true,
         "stackgroup": "1",
         "type": "scatter",
         "x": [
          "2022-12-27T00:00:00",
          "2022-12-22T00:00:00",
          "2022-12-17T00:00:00",
          "2022-12-16T00:00:00",
          "2022-12-20T00:00:00",
          "2022-12-21T00:00:00",
          "2022-12-23T00:00:00",
          "2022-12-14T00:00:00",
          "2022-12-26T00:00:00",
          "2022-12-15T00:00:00",
          "2022-12-19T00:00:00",
          "2022-12-28T00:00:00",
          "2022-12-31T00:00:00",
          "2022-12-29T00:00:00",
          "2022-12-02T00:00:00",
          "2022-12-24T00:00:00",
          "2022-12-13T00:00:00",
          "2022-12-03T00:00:00",
          "2022-12-04T00:00:00",
          "2022-12-01T00:00:00",
          "2022-12-06T00:00:00",
          "2022-12-18T00:00:00",
          "2022-12-05T00:00:00",
          "2022-12-30T00:00:00",
          "2022-12-25T00:00:00",
          "2022-12-12T00:00:00",
          "2022-12-09T00:00:00",
          "2022-12-07T00:00:00",
          "2022-12-08T00:00:00",
          "2022-12-10T00:00:00",
          "2022-12-11T00:00:00"
         ],
         "xaxis": "x",
         "y": [
          135477.917,
          134507.025,
          123661.725,
          123345.8,
          116866.385,
          113013.381,
          112591.575,
          110373.975,
          109989.8,
          109022.625,
          103753.1,
          101033.635,
          88236.784,
          87332.95,
          87180.3,
          86089.875,
          85869.475,
          85602.95,
          85471.125,
          85416.9,
          82807.959,
          82296.15,
          77820.9,
          76542.575,
          72493.566,
          71207.95,
          70869.7,
          68763.85,
          66273.175,
          65128.638,
          65094.6
         ],
         "yaxis": "y"
        },
        {
         "fillpattern": {
          "shape": ""
         },
         "hovertemplate": "variable=Saldo Portugal<br>datetime=%{x}<br>value=%{y}<extra></extra>",
         "legendgroup": "Saldo Portugal",
         "line": {
          "color": "#FFA15A"
         },
         "marker": {
          "symbol": "circle"
         },
         "mode": "lines",
         "name": "Saldo Portugal",
         "orientation": "v",
         "showlegend": true,
         "stackgroup": "1",
         "type": "scatter",
         "x": [
          "2022-12-24T00:00:00",
          "2022-12-31T00:00:00",
          "2022-12-30T00:00:00",
          "2022-12-19T00:00:00",
          "2022-12-16T00:00:00",
          "2022-12-20T00:00:00",
          "2022-12-13T00:00:00",
          "2022-12-18T00:00:00",
          "2022-12-25T00:00:00",
          "2022-12-11T00:00:00",
          "2022-12-14T00:00:00",
          "2022-12-29T00:00:00",
          "2022-12-17T00:00:00",
          "2022-12-12T00:00:00",
          "2022-12-21T00:00:00",
          "2022-12-01T00:00:00",
          "2022-12-23T00:00:00",
          "2022-12-05T00:00:00",
          "2022-12-07T00:00:00",
          "2022-12-27T00:00:00",
          "2022-12-08T00:00:00",
          "2022-12-04T00:00:00",
          "2022-12-15T00:00:00",
          "2022-12-09T00:00:00",
          "2022-12-22T00:00:00",
          "2022-12-02T00:00:00",
          "2022-12-03T00:00:00",
          "2022-12-26T00:00:00",
          "2022-12-28T00:00:00",
          "2022-12-10T00:00:00",
          "2022-12-06T00:00:00"
         ],
         "xaxis": "x",
         "y": [
          60934.9,
          59926.708,
          50542.1,
          42347.7,
          39111.8,
          37146,
          34339,
          33695.3,
          31361.5,
          29825.5,
          29372.2,
          28566,
          23501.5,
          21877,
          21204.6,
          21038.2,
          18653.6,
          11326.199999999999,
          11148.2,
          10529.3,
          10464.099999999999,
          6200.8,
          2574.4,
          -1596.7000000000003,
          -2419.7000000000003,
          -5325,
          -5556.700000000001,
          -10631.1,
          -11994.9,
          -19905.8,
          -21626
         ],
         "yaxis": "y"
        },
        {
         "fillpattern": {
          "shape": ""
         },
         "hovertemplate": "variable=Solar fotovoltaica<br>datetime=%{x}<br>value=%{y}<extra></extra>",
         "legendgroup": "Solar fotovoltaica",
         "line": {
          "color": "#19d3f3"
         },
         "marker": {
          "symbol": "circle"
         },
         "mode": "lines",
         "name": "Solar fotovoltaica",
         "orientation": "v",
         "showlegend": true,
         "stackgroup": "1",
         "type": "scatter",
         "x": [
          "2022-12-27T00:00:00",
          "2022-12-28T00:00:00",
          "2022-12-26T00:00:00",
          "2022-12-31T00:00:00",
          "2022-12-18T00:00:00",
          "2022-12-02T00:00:00",
          "2022-12-03T00:00:00",
          "2022-12-19T00:00:00",
          "2022-12-24T00:00:00",
          "2022-12-01T00:00:00",
          "2022-12-23T00:00:00",
          "2022-12-04T00:00:00",
          "2022-12-25T00:00:00",
          "2022-12-10T00:00:00",
          "2022-12-17T00:00:00",
          "2022-12-30T00:00:00",
          "2022-12-29T00:00:00",
          "2022-12-22T00:00:00",
          "2022-12-07T00:00:00",
          "2022-12-21T00:00:00",
          "2022-12-16T00:00:00",
          "2022-12-15T00:00:00",
          "2022-12-20T00:00:00",
          "2022-12-06T00:00:00",
          "2022-12-14T00:00:00",
          "2022-12-08T00:00:00",
          "2022-12-09T00:00:00",
          "2022-12-05T00:00:00",
          "2022-12-11T00:00:00",
          "2022-12-12T00:00:00",
          "2022-12-13T00:00:00"
         ],
         "xaxis": "x",
         "y": [
          59797.25,
          59363.575,
          56396.6,
          52060.875,
          51501,
          50708.7,
          50362.75,
          49794.525,
          48427.725,
          48341.025,
          46412.125,
          44570.7,
          43649.75,
          40667.606,
          39169.425,
          38280.325000000004,
          36229.15,
          35855.825,
          34359.1,
          32762.8,
          30831.425,
          30690.625,
          29117.325,
          28200.75,
          27722.675,
          21719.6,
          20660.125,
          20158.35,
          18862.95,
          17826,
          12369.175
         ],
         "yaxis": "y"
        },
        {
         "fillpattern": {
          "shape": ""
         },
         "hovertemplate": "variable=Cogeneración<br>datetime=%{x}<br>value=%{y}<extra></extra>",
         "legendgroup": "Cogeneración",
         "line": {
          "color": "#FF6692"
         },
         "marker": {
          "symbol": "circle"
         },
         "mode": "lines",
         "name": "Cogeneración",
         "orientation": "v",
         "showlegend": true,
         "stackgroup": "1",
         "type": "scatter",
         "x": [
          "2022-12-05T00:00:00",
          "2022-12-01T00:00:00",
          "2022-12-02T00:00:00",
          "2022-12-03T00:00:00",
          "2022-12-06T00:00:00",
          "2022-12-07T00:00:00",
          "2022-12-09T00:00:00",
          "2022-12-12T00:00:00",
          "2022-12-08T00:00:00",
          "2022-12-11T00:00:00",
          "2022-12-04T00:00:00",
          "2022-12-10T00:00:00",
          "2022-12-15T00:00:00",
          "2022-12-16T00:00:00",
          "2022-12-17T00:00:00",
          "2022-12-19T00:00:00",
          "2022-12-13T00:00:00",
          "2022-12-20T00:00:00",
          "2022-12-14T00:00:00",
          "2022-12-18T00:00:00",
          "2022-12-21T00:00:00",
          "2022-12-27T00:00:00",
          "2022-12-22T00:00:00",
          "2022-12-26T00:00:00",
          "2022-12-28T00:00:00",
          "2022-12-23T00:00:00",
          "2022-12-29T00:00:00",
          "2022-12-24T00:00:00",
          "2022-12-30T00:00:00",
          "2022-12-25T00:00:00",
          "2022-12-31T00:00:00"
         ],
         "xaxis": "x",
         "y": [
          45096.008,
          44488.75,
          43460,
          43385.6,
          43235.25,
          42557.95,
          42478.325,
          41857.335,
          41598.9,
          41355.55,
          41312.3,
          40416.725,
          40013.15,
          39923.484,
          39267.753,
          38811.045,
          38477.151,
          38032.4,
          37884.2,
          37059.347,
          35639.475,
          34161.95,
          33943.65,
          27379.260000000002,
          27375.2,
          26736.7,
          25536.35,
          22818.625,
          21089.6,
          19407.15,
          18808.9
         ],
         "yaxis": "y"
        },
        {
         "fillpattern": {
          "shape": ""
         },
         "hovertemplate": "variable=Carbón<br>datetime=%{x}<br>value=%{y}<extra></extra>",
         "legendgroup": "Carbón",
         "line": {
          "color": "#B6E880"
         },
         "marker": {
          "symbol": "circle"
         },
         "mode": "lines",
         "name": "Carbón",
         "orientation": "v",
         "showlegend": true,
         "stackgroup": "1",
         "type": "scatter",
         "x": [
          "2022-12-16T00:00:00",
          "2022-12-15T00:00:00",
          "2022-12-17T00:00:00",
          "2022-12-12T00:00:00",
          "2022-12-13T00:00:00",
          "2022-12-14T00:00:00",
          "2022-12-11T00:00:00",
          "2022-12-19T00:00:00",
          "2022-12-18T00:00:00",
          "2022-12-05T00:00:00",
          "2022-12-07T00:00:00",
          "2022-12-04T00:00:00",
          "2022-12-08T00:00:00",
          "2022-12-10T00:00:00",
          "2022-12-02T00:00:00",
          "2022-12-06T00:00:00",
          "2022-12-01T00:00:00",
          "2022-12-20T00:00:00",
          "2022-12-03T00:00:00",
          "2022-12-09T00:00:00",
          "2022-12-21T00:00:00",
          "2022-12-22T00:00:00",
          "2022-12-23T00:00:00",
          "2022-12-27T00:00:00",
          "2022-12-26T00:00:00",
          "2022-12-29T00:00:00",
          "2022-12-28T00:00:00",
          "2022-12-30T00:00:00",
          "2022-12-24T00:00:00",
          "2022-12-31T00:00:00",
          "2022-12-25T00:00:00"
         ],
         "xaxis": "x",
         "y": [
          38151,
          37540.825,
          37002.6,
          36722.15,
          33225.1,
          33157.075,
          32680.525,
          32393.075,
          29905.15,
          29320.725,
          28533.5,
          27398.65,
          27207.9,
          26735.2,
          26381.758,
          25766.596,
          25422.9,
          25127.975,
          24466.6,
          23904.283,
          18624.025,
          17101.925,
          16119.75,
          15506.25,
          11544.85,
          8283.4,
          8236.2,
          8145.1,
          7047.75,
          6771.85,
          6419.667
         ],
         "yaxis": "y"
        },
        {
         "fillpattern": {
          "shape": ""
         },
         "hovertemplate": "variable=Turbinación bombeo<br>datetime=%{x}<br>value=%{y}<extra></extra>",
         "legendgroup": "Turbinación bombeo",
         "line": {
          "color": "#FF97FF"
         },
         "marker": {
          "symbol": "circle"
         },
         "mode": "lines",
         "name": "Turbinación bombeo",
         "orientation": "v",
         "showlegend": true,
         "stackgroup": "1",
         "type": "scatter",
         "x": [
          "2022-12-29T00:00:00",
          "2022-12-27T00:00:00",
          "2022-12-28T00:00:00",
          "2022-12-26T00:00:00",
          "2022-12-14T00:00:00",
          "2022-12-23T00:00:00",
          "2022-12-03T00:00:00",
          "2022-12-31T00:00:00",
          "2022-12-20T00:00:00",
          "2022-12-22T00:00:00",
          "2022-12-24T00:00:00",
          "2022-12-13T00:00:00",
          "2022-12-19T00:00:00",
          "2022-12-30T00:00:00",
          "2022-12-05T00:00:00",
          "2022-12-08T00:00:00",
          "2022-12-21T00:00:00",
          "2022-12-15T00:00:00",
          "2022-12-16T00:00:00",
          "2022-12-25T00:00:00",
          "2022-12-01T00:00:00",
          "2022-12-06T00:00:00",
          "2022-12-11T00:00:00",
          "2022-12-04T00:00:00",
          "2022-12-12T00:00:00",
          "2022-12-09T00:00:00",
          "2022-12-18T00:00:00",
          "2022-12-02T00:00:00",
          "2022-12-10T00:00:00",
          "2022-12-17T00:00:00",
          "2022-12-07T00:00:00"
         ],
         "xaxis": "x",
         "y": [
          26680.933,
          23846.325,
          19804.125,
          17833.65,
          16857.975,
          16210.5,
          14898.15,
          14834.488000000001,
          14355.25,
          14284.725,
          14110.775,
          13910.550000000001,
          12809.65,
          12695.875,
          12508.775,
          11663,
          11341.1,
          10475.1,
          10222.025,
          9824.525,
          9475.8,
          8886.075,
          7923.65,
          7777.625,
          7572.9,
          6884.525,
          6645.225,
          6406.417,
          5805.15,
          5342.625,
          2728.8940000000002
         ],
         "yaxis": "y"
        },
        {
         "fillpattern": {
          "shape": ""
         },
         "hovertemplate": "variable=otras renovables<br>datetime=%{x}<br>value=%{y}<extra></extra>",
         "legendgroup": "otras renovables",
         "line": {
          "color": "#FECB52"
         },
         "marker": {
          "symbol": "circle"
         },
         "mode": "lines",
         "name": "otras renovables",
         "orientation": "v",
         "showlegend": true,
         "stackgroup": "1",
         "type": "scatter",
         "x": [
          "2022-12-15T00:00:00",
          "2022-12-17T00:00:00",
          "2022-12-18T00:00:00",
          "2022-12-16T00:00:00",
          "2022-12-06T00:00:00",
          "2022-12-13T00:00:00",
          "2022-12-11T00:00:00",
          "2022-12-04T00:00:00",
          "2022-12-02T00:00:00",
          "2022-12-07T00:00:00",
          "2022-12-12T00:00:00",
          "2022-12-03T00:00:00",
          "2022-12-05T00:00:00",
          "2022-12-01T00:00:00",
          "2022-12-14T00:00:00",
          "2022-12-08T00:00:00",
          "2022-12-09T00:00:00",
          "2022-12-10T00:00:00",
          "2022-12-19T00:00:00",
          "2022-12-20T00:00:00",
          "2022-12-21T00:00:00",
          "2022-12-27T00:00:00",
          "2022-12-22T00:00:00",
          "2022-12-23T00:00:00",
          "2022-12-28T00:00:00",
          "2022-12-26T00:00:00",
          "2022-12-29T00:00:00",
          "2022-12-24T00:00:00",
          "2022-12-25T00:00:00",
          "2022-12-30T00:00:00",
          "2022-12-31T00:00:00"
         ],
         "xaxis": "x",
         "y": [
          13006.307999999999,
          12924.467,
          12892,
          12828.333,
          12641.175,
          12513.858,
          12465.9,
          12458.6,
          12386.8,
          12311.833,
          12229.6,
          12186.2,
          12178.39,
          12098.93,
          12059.300000000001,
          11886.26,
          11761.525,
          11704.9,
          11620.05,
          11211.842,
          11191.967,
          10769.275,
          10668.875,
          8266.8,
          7986.6,
          7860,
          7215.2,
          7015.6,
          6713.1,
          6586.2,
          6060.7
         ],
         "yaxis": "y"
        },
        {
         "fillpattern": {
          "shape": ""
         },
         "hovertemplate": "variable=Solar térmica<br>datetime=%{x}<br>value=%{y}<extra></extra>",
         "legendgroup": "Solar térmica",
         "line": {
          "color": "#636efa"
         },
         "marker": {
          "symbol": "circle"
         },
         "mode": "lines",
         "name": "Solar térmica",
         "orientation": "v",
         "showlegend": true,
         "stackgroup": "1",
         "type": "scatter",
         "x": [
          "2022-12-27T00:00:00",
          "2022-12-28T00:00:00",
          "2022-12-26T00:00:00",
          "2022-12-02T00:00:00",
          "2022-12-31T00:00:00",
          "2022-12-03T00:00:00",
          "2022-12-25T00:00:00",
          "2022-12-19T00:00:00",
          "2022-12-18T00:00:00",
          "2022-12-23T00:00:00",
          "2022-12-01T00:00:00",
          "2022-12-24T00:00:00",
          "2022-12-22T00:00:00",
          "2022-12-04T00:00:00",
          "2022-12-29T00:00:00",
          "2022-12-17T00:00:00",
          "2022-12-30T00:00:00",
          "2022-12-07T00:00:00",
          "2022-12-21T00:00:00",
          "2022-12-20T00:00:00",
          "2022-12-10T00:00:00",
          "2022-12-05T00:00:00",
          "2022-12-16T00:00:00",
          "2022-12-06T00:00:00",
          "2022-12-12T00:00:00",
          "2022-12-13T00:00:00",
          "2022-12-14T00:00:00",
          "2022-12-15T00:00:00",
          "2022-12-11T00:00:00",
          "2022-12-08T00:00:00",
          "2022-12-09T00:00:00"
         ],
         "xaxis": "x",
         "y": [
          6443.7,
          6226.6,
          5702.900000000001,
          5637.6,
          5355.400000000001,
          4216.6,
          3997.7000000000003,
          3804.4,
          3652.575,
          3433.3,
          3152.2,
          2837.8,
          2165.4,
          1989.3,
          1697.8,
          1615.1000000000001,
          1502.7,
          782.8000000000001,
          639.8,
          607.5,
          568.2,
          343.4,
          343.2,
          330,
          232.9,
          164.5,
          138.1,
          82.8,
          51.4,
          42.9,
          6.9
         ],
         "yaxis": "y"
        },
        {
         "fillpattern": {
          "shape": ""
         },
         "hovertemplate": "variable=Residuos no renovables<br>datetime=%{x}<br>value=%{y}<extra></extra>",
         "legendgroup": "Residuos no renovables",
         "line": {
          "color": "#EF553B"
         },
         "marker": {
          "symbol": "circle"
         },
         "mode": "lines",
         "name": "Residuos no renovables",
         "orientation": "v",
         "showlegend": true,
         "stackgroup": "1",
         "type": "scatter",
         "x": [
          "2022-12-03T00:00:00",
          "2022-12-27T00:00:00",
          "2022-12-10T00:00:00",
          "2022-12-11T00:00:00",
          "2022-12-02T00:00:00",
          "2022-12-09T00:00:00",
          "2022-12-21T00:00:00",
          "2022-12-08T00:00:00",
          "2022-12-30T00:00:00",
          "2022-12-18T00:00:00",
          "2022-12-12T00:00:00",
          "2022-12-04T00:00:00",
          "2022-12-29T00:00:00",
          "2022-12-31T00:00:00",
          "2022-12-26T00:00:00",
          "2022-12-13T00:00:00",
          "2022-12-19T00:00:00",
          "2022-12-01T00:00:00",
          "2022-12-23T00:00:00",
          "2022-12-25T00:00:00",
          "2022-12-24T00:00:00",
          "2022-12-20T00:00:00",
          "2022-12-06T00:00:00",
          "2022-12-05T00:00:00",
          "2022-12-22T00:00:00",
          "2022-12-28T00:00:00",
          "2022-12-07T00:00:00",
          "2022-12-17T00:00:00",
          "2022-12-16T00:00:00",
          "2022-12-14T00:00:00",
          "2022-12-15T00:00:00"
         ],
         "xaxis": "x",
         "y": [
          6398.8,
          6344.63,
          6338.2,
          6325,
          6306,
          6290.8,
          6247.4,
          6220.599999999999,
          6206.1,
          6156.2,
          6142.633,
          6142.1,
          6125.2,
          6096.625,
          6093.319,
          6062.9,
          6056.33,
          6036.4,
          6023.2,
          6023.1,
          5999.8,
          5990.4,
          5945.1,
          5879.3,
          5875.725,
          5867.778,
          5864.3,
          5806.9,
          5448.4,
          5330.75,
          5076.8
         ],
         "yaxis": "y"
        },
        {
         "fillpattern": {
          "shape": ""
         },
         "hovertemplate": "variable=Ajuste P48<br>datetime=%{x}<br>value=%{y}<extra></extra>",
         "legendgroup": "Ajuste P48",
         "line": {
          "color": "#00cc96"
         },
         "marker": {
          "symbol": "circle"
         },
         "mode": "lines",
         "name": "Ajuste P48",
         "orientation": "v",
         "showlegend": true,
         "stackgroup": "1",
         "type": "scatter",
         "x": [
          "2022-12-20T00:00:00",
          "2022-12-25T00:00:00",
          "2022-12-18T00:00:00",
          "2022-12-21T00:00:00",
          "2022-12-01T00:00:00",
          "2022-12-12T00:00:00",
          "2022-12-30T00:00:00",
          "2022-12-02T00:00:00",
          "2022-12-27T00:00:00",
          "2022-12-23T00:00:00",
          "2022-12-26T00:00:00",
          "2022-12-22T00:00:00",
          "2022-12-19T00:00:00",
          "2022-12-13T00:00:00",
          "2022-12-24T00:00:00",
          "2022-12-17T00:00:00",
          "2022-12-28T00:00:00",
          "2022-12-11T00:00:00",
          "2022-12-15T00:00:00",
          "2022-12-07T00:00:00",
          "2022-12-06T00:00:00",
          "2022-12-05T00:00:00",
          "2022-12-31T00:00:00",
          "2022-12-04T00:00:00",
          "2022-12-10T00:00:00",
          "2022-12-03T00:00:00",
          "2022-12-14T00:00:00",
          "2022-12-29T00:00:00",
          "2022-12-16T00:00:00",
          "2022-12-08T00:00:00",
          "2022-12-09T00:00:00"
         ],
         "xaxis": "x",
         "y": [
          6075,
          5550,
          3348.55,
          2506.7,
          1535,
          302.625,
          252,
          197.5,
          26,
          -763.9,
          -1237.5,
          -1653.125,
          -2425,
          -3075,
          -3122,
          -3482.5,
          -3719,
          -4664.7,
          -7369.6,
          -7852.5,
          -8100,
          -9950.55,
          -10106.25,
          -10867.5,
          -11488.5,
          -12112.5,
          -12170.425,
          -13200,
          -17130,
          -19790,
          -21159.55
         ],
         "yaxis": "y"
        },
        {
         "fillpattern": {
          "shape": ""
         },
         "hovertemplate": "variable=Saldo Marruecos<br>datetime=%{x}<br>value=%{y}<extra></extra>",
         "legendgroup": "Saldo Marruecos",
         "line": {
          "color": "#ab63fa"
         },
         "marker": {
          "symbol": "circle"
         },
         "mode": "lines",
         "name": "Saldo Marruecos",
         "orientation": "v",
         "showlegend": true,
         "stackgroup": "1",
         "type": "scatter",
         "x": [
          "2022-12-11T00:00:00",
          "2022-12-09T00:00:00",
          "2022-12-10T00:00:00",
          "2022-12-08T00:00:00",
          "2022-12-04T00:00:00",
          "2022-12-14T00:00:00",
          "2022-12-17T00:00:00",
          "2022-12-15T00:00:00",
          "2022-12-18T00:00:00",
          "2022-12-27T00:00:00",
          "2022-12-07T00:00:00",
          "2022-12-05T00:00:00",
          "2022-12-13T00:00:00",
          "2022-12-16T00:00:00",
          "2022-12-06T00:00:00",
          "2022-12-12T00:00:00",
          "2022-12-28T00:00:00",
          "2022-12-02T00:00:00",
          "2022-12-19T00:00:00",
          "2022-12-01T00:00:00",
          "2022-12-29T00:00:00",
          "2022-12-21T00:00:00",
          "2022-12-20T00:00:00",
          "2022-12-26T00:00:00",
          "2022-12-22T00:00:00",
          "2022-12-23T00:00:00",
          "2022-12-03T00:00:00",
          "2022-12-24T00:00:00",
          "2022-12-25T00:00:00",
          "2022-12-30T00:00:00",
          "2022-12-31T00:00:00"
         ],
         "xaxis": "x",
         "y": [
          4262.9,
          -74.60000000000002,
          -158.39999999999998,
          -552.5,
          -1390,
          -1430,
          -1490,
          -1500,
          -1530,
          -1870,
          -1940,
          -2020,
          -2070,
          -2510,
          -3020,
          -3850.5,
          -4670,
          -5500,
          -5950,
          -6850,
          -6934,
          -6940,
          -7140.5,
          -7340,
          -8860,
          -9210,
          -9363,
          -10217.8,
          -12060,
          -12840,
          -13567.5
         ],
         "yaxis": "y"
        },
        {
         "fillpattern": {
          "shape": ""
         },
         "hovertemplate": "variable=Saldo Andorra<br>datetime=%{x}<br>value=%{y}<extra></extra>",
         "legendgroup": "Saldo Andorra",
         "line": {
          "color": "#FFA15A"
         },
         "marker": {
          "symbol": "circle"
         },
         "mode": "lines",
         "name": "Saldo Andorra",
         "orientation": "v",
         "showlegend": true,
         "stackgroup": "1",
         "type": "scatter",
         "x": [
          "2022-12-19T00:00:00",
          "2022-12-28T00:00:00",
          "2022-12-27T00:00:00",
          "2022-12-12T00:00:00",
          "2022-12-26T00:00:00",
          "2022-12-04T00:00:00",
          "2022-12-08T00:00:00",
          "2022-12-05T00:00:00",
          "2022-12-25T00:00:00",
          "2022-12-29T00:00:00",
          "2022-12-30T00:00:00",
          "2022-12-01T00:00:00",
          "2022-12-03T00:00:00",
          "2022-12-20T00:00:00",
          "2022-12-22T00:00:00",
          "2022-12-23T00:00:00",
          "2022-12-09T00:00:00",
          "2022-12-21T00:00:00",
          "2022-12-24T00:00:00",
          "2022-12-16T00:00:00",
          "2022-12-13T00:00:00",
          "2022-12-02T00:00:00",
          "2022-12-11T00:00:00",
          "2022-12-18T00:00:00",
          "2022-12-31T00:00:00",
          "2022-12-17T00:00:00",
          "2022-12-10T00:00:00",
          "2022-12-14T00:00:00",
          "2022-12-15T00:00:00",
          "2022-12-06T00:00:00",
          "2022-12-07T00:00:00"
         ],
         "xaxis": "x",
         "y": [
          -943,
          -1041,
          -1082,
          -1084,
          -1110,
          -1166,
          -1179,
          -1193,
          -1210,
          -1215,
          -1217,
          -1241,
          -1268,
          -1269,
          -1272,
          -1289,
          -1308,
          -1314,
          -1341,
          -1351,
          -1369,
          -1385,
          -1401,
          -1420,
          -1436.5,
          -1498,
          -1504,
          -1518,
          -1533,
          -2089,
          -2383
         ],
         "yaxis": "y"
        },
        {
         "fillpattern": {
          "shape": ""
         },
         "hovertemplate": "variable=Enlace Baleares<br>datetime=%{x}<br>value=%{y}<extra></extra>",
         "legendgroup": "Enlace Baleares",
         "line": {
          "color": "#19d3f3"
         },
         "marker": {
          "symbol": "circle"
         },
         "mode": "lines",
         "name": "Enlace Baleares",
         "orientation": "v",
         "showlegend": true,
         "stackgroup": "1",
         "type": "scatter",
         "x": [
          "2022-12-05T00:00:00",
          "2022-12-04T00:00:00",
          "2022-12-06T00:00:00",
          "2022-12-11T00:00:00",
          "2022-12-01T00:00:00",
          "2022-12-07T00:00:00",
          "2022-12-09T00:00:00",
          "2022-12-02T00:00:00",
          "2022-12-15T00:00:00",
          "2022-12-17T00:00:00",
          "2022-12-16T00:00:00",
          "2022-12-26T00:00:00",
          "2022-12-03T00:00:00",
          "2022-12-08T00:00:00",
          "2022-12-10T00:00:00",
          "2022-12-25T00:00:00",
          "2022-12-27T00:00:00",
          "2022-12-13T00:00:00",
          "2022-12-14T00:00:00",
          "2022-12-18T00:00:00",
          "2022-12-24T00:00:00",
          "2022-12-31T00:00:00",
          "2022-12-23T00:00:00",
          "2022-12-19T00:00:00",
          "2022-12-22T00:00:00",
          "2022-12-12T00:00:00",
          "2022-12-28T00:00:00",
          "2022-12-20T00:00:00",
          "2022-12-21T00:00:00",
          "2022-12-29T00:00:00",
          "2022-12-30T00:00:00"
         ],
         "xaxis": "x",
         "y": [
          -979.1999999999999,
          -979.1999999999999,
          -979.1999999999999,
          -1227.2,
          -1325.6,
          -1326,
          -1347,
          -1475.4,
          -1548.3999999999999,
          -1895.8,
          -1899.3,
          -2303.9,
          -2502.3,
          -2572.7,
          -2641.2,
          -2665.6,
          -2673.8,
          -2722.3,
          -2808.4,
          -3042.8,
          -3230,
          -3334,
          -3431,
          -3579,
          -3641,
          -3740.1,
          -3794,
          -3848,
          -3848,
          -3981,
          -4141
         ],
         "yaxis": "y"
        },
        {
         "fillpattern": {
          "shape": ""
         },
         "hovertemplate": "variable=Saldo Francia<br>datetime=%{x}<br>value=%{y}<extra></extra>",
         "legendgroup": "Saldo Francia",
         "line": {
          "color": "#FF6692"
         },
         "marker": {
          "symbol": "circle"
         },
         "mode": "lines",
         "name": "Saldo Francia",
         "orientation": "v",
         "showlegend": true,
         "stackgroup": "1",
         "type": "scatter",
         "x": [
          "2022-12-28T00:00:00",
          "2022-12-26T00:00:00",
          "2022-12-31T00:00:00",
          "2022-12-29T00:00:00",
          "2022-12-27T00:00:00",
          "2022-12-14T00:00:00",
          "2022-12-01T00:00:00",
          "2022-12-15T00:00:00",
          "2022-12-13T00:00:00",
          "2022-12-12T00:00:00",
          "2022-12-20T00:00:00",
          "2022-12-02T00:00:00",
          "2022-12-16T00:00:00",
          "2022-12-19T00:00:00",
          "2022-12-18T00:00:00",
          "2022-12-09T00:00:00",
          "2022-12-30T00:00:00",
          "2022-12-17T00:00:00",
          "2022-12-05T00:00:00",
          "2022-12-08T00:00:00",
          "2022-12-07T00:00:00",
          "2022-12-23T00:00:00",
          "2022-12-22T00:00:00",
          "2022-12-11T00:00:00",
          "2022-12-06T00:00:00",
          "2022-12-25T00:00:00",
          "2022-12-24T00:00:00",
          "2022-12-04T00:00:00",
          "2022-12-03T00:00:00",
          "2022-12-21T00:00:00",
          "2022-12-10T00:00:00"
         ],
         "xaxis": "x",
         "y": [
          -1296.6000000000004,
          -7984.267,
          -15145,
          -19261.8,
          -19558.7,
          -38475,
          -40800,
          -42500,
          -42986,
          -46144.667,
          -46631.9,
          -48150,
          -49410,
          -50335.25,
          -50888,
          -53790,
          -54318.5,
          -54732,
          -54872.833,
          -55724.833,
          -58577,
          -60436,
          -60499.333,
          -61255,
          -61658,
          -63742,
          -63965.5,
          -65554.05,
          -66856.133,
          -67382,
          -68130.001
         ],
         "yaxis": "y"
        },
        {
         "fillpattern": {
          "shape": ""
         },
         "hovertemplate": "variable=Consumo bombeo<br>datetime=%{x}<br>value=%{y}<extra></extra>",
         "legendgroup": "Consumo bombeo",
         "line": {
          "color": "#B6E880"
         },
         "marker": {
          "symbol": "circle"
         },
         "mode": "lines",
         "name": "Consumo bombeo",
         "orientation": "v",
         "showlegend": true,
         "stackgroup": "1",
         "type": "scatter",
         "x": [
          "2022-12-03T00:00:00",
          "2022-12-04T00:00:00",
          "2022-12-05T00:00:00",
          "2022-12-02T00:00:00",
          "2022-12-16T00:00:00",
          "2022-12-07T00:00:00",
          "2022-12-01T00:00:00",
          "2022-12-17T00:00:00",
          "2022-12-06T00:00:00",
          "2022-12-27T00:00:00",
          "2022-12-08T00:00:00",
          "2022-12-15T00:00:00",
          "2022-12-09T00:00:00",
          "2022-12-23T00:00:00",
          "2022-12-22T00:00:00",
          "2022-12-13T00:00:00",
          "2022-12-26T00:00:00",
          "2022-12-20T00:00:00",
          "2022-12-14T00:00:00",
          "2022-12-11T00:00:00",
          "2022-12-21T00:00:00",
          "2022-12-19T00:00:00",
          "2022-12-28T00:00:00",
          "2022-12-12T00:00:00",
          "2022-12-10T00:00:00",
          "2022-12-29T00:00:00",
          "2022-12-24T00:00:00",
          "2022-12-18T00:00:00",
          "2022-12-25T00:00:00",
          "2022-12-31T00:00:00",
          "2022-12-30T00:00:00"
         ],
         "xaxis": "x",
         "y": [
          -6350.82,
          -6631.3,
          -7979.75,
          -9484.4,
          -10878.15,
          -11353.117,
          -11761.025,
          -13773.475,
          -14555.482,
          -18237.492,
          -19120.625,
          -21664.317,
          -22253.2,
          -24266.725000000002,
          -25196.675,
          -25828.125,
          -26552.1,
          -27981.475,
          -28083.600000000002,
          -28294.392,
          -30002.875,
          -32087.538,
          -34991.767,
          -35893.1,
          -37460.675,
          -40302.675,
          -49923,
          -50411.508,
          -52764.508,
          -65530.45,
          -67283.325
         ],
         "yaxis": "y"
        }
       ],
       "layout": {
        "legend": {
         "title": {
          "text": "variable"
         },
         "tracegroupgap": 0
        },
        "margin": {
         "t": 60
        },
        "template": {
         "data": {
          "bar": [
           {
            "error_x": {
             "color": "#2a3f5f"
            },
            "error_y": {
             "color": "#2a3f5f"
            },
            "marker": {
             "line": {
              "color": "#E5ECF6",
              "width": 0.5
             },
             "pattern": {
              "fillmode": "overlay",
              "size": 10,
              "solidity": 0.2
             }
            },
            "type": "bar"
           }
          ],
          "barpolar": [
           {
            "marker": {
             "line": {
              "color": "#E5ECF6",
              "width": 0.5
             },
             "pattern": {
              "fillmode": "overlay",
              "size": 10,
              "solidity": 0.2
             }
            },
            "type": "barpolar"
           }
          ],
          "carpet": [
           {
            "aaxis": {
             "endlinecolor": "#2a3f5f",
             "gridcolor": "white",
             "linecolor": "white",
             "minorgridcolor": "white",
             "startlinecolor": "#2a3f5f"
            },
            "baxis": {
             "endlinecolor": "#2a3f5f",
             "gridcolor": "white",
             "linecolor": "white",
             "minorgridcolor": "white",
             "startlinecolor": "#2a3f5f"
            },
            "type": "carpet"
           }
          ],
          "choropleth": [
           {
            "colorbar": {
             "outlinewidth": 0,
             "ticks": ""
            },
            "type": "choropleth"
           }
          ],
          "contour": [
           {
            "colorbar": {
             "outlinewidth": 0,
             "ticks": ""
            },
            "colorscale": [
             [
              0,
              "#0d0887"
             ],
             [
              0.1111111111111111,
              "#46039f"
             ],
             [
              0.2222222222222222,
              "#7201a8"
             ],
             [
              0.3333333333333333,
              "#9c179e"
             ],
             [
              0.4444444444444444,
              "#bd3786"
             ],
             [
              0.5555555555555556,
              "#d8576b"
             ],
             [
              0.6666666666666666,
              "#ed7953"
             ],
             [
              0.7777777777777778,
              "#fb9f3a"
             ],
             [
              0.8888888888888888,
              "#fdca26"
             ],
             [
              1,
              "#f0f921"
             ]
            ],
            "type": "contour"
           }
          ],
          "contourcarpet": [
           {
            "colorbar": {
             "outlinewidth": 0,
             "ticks": ""
            },
            "type": "contourcarpet"
           }
          ],
          "heatmap": [
           {
            "colorbar": {
             "outlinewidth": 0,
             "ticks": ""
            },
            "colorscale": [
             [
              0,
              "#0d0887"
             ],
             [
              0.1111111111111111,
              "#46039f"
             ],
             [
              0.2222222222222222,
              "#7201a8"
             ],
             [
              0.3333333333333333,
              "#9c179e"
             ],
             [
              0.4444444444444444,
              "#bd3786"
             ],
             [
              0.5555555555555556,
              "#d8576b"
             ],
             [
              0.6666666666666666,
              "#ed7953"
             ],
             [
              0.7777777777777778,
              "#fb9f3a"
             ],
             [
              0.8888888888888888,
              "#fdca26"
             ],
             [
              1,
              "#f0f921"
             ]
            ],
            "type": "heatmap"
           }
          ],
          "heatmapgl": [
           {
            "colorbar": {
             "outlinewidth": 0,
             "ticks": ""
            },
            "colorscale": [
             [
              0,
              "#0d0887"
             ],
             [
              0.1111111111111111,
              "#46039f"
             ],
             [
              0.2222222222222222,
              "#7201a8"
             ],
             [
              0.3333333333333333,
              "#9c179e"
             ],
             [
              0.4444444444444444,
              "#bd3786"
             ],
             [
              0.5555555555555556,
              "#d8576b"
             ],
             [
              0.6666666666666666,
              "#ed7953"
             ],
             [
              0.7777777777777778,
              "#fb9f3a"
             ],
             [
              0.8888888888888888,
              "#fdca26"
             ],
             [
              1,
              "#f0f921"
             ]
            ],
            "type": "heatmapgl"
           }
          ],
          "histogram": [
           {
            "marker": {
             "pattern": {
              "fillmode": "overlay",
              "size": 10,
              "solidity": 0.2
             }
            },
            "type": "histogram"
           }
          ],
          "histogram2d": [
           {
            "colorbar": {
             "outlinewidth": 0,
             "ticks": ""
            },
            "colorscale": [
             [
              0,
              "#0d0887"
             ],
             [
              0.1111111111111111,
              "#46039f"
             ],
             [
              0.2222222222222222,
              "#7201a8"
             ],
             [
              0.3333333333333333,
              "#9c179e"
             ],
             [
              0.4444444444444444,
              "#bd3786"
             ],
             [
              0.5555555555555556,
              "#d8576b"
             ],
             [
              0.6666666666666666,
              "#ed7953"
             ],
             [
              0.7777777777777778,
              "#fb9f3a"
             ],
             [
              0.8888888888888888,
              "#fdca26"
             ],
             [
              1,
              "#f0f921"
             ]
            ],
            "type": "histogram2d"
           }
          ],
          "histogram2dcontour": [
           {
            "colorbar": {
             "outlinewidth": 0,
             "ticks": ""
            },
            "colorscale": [
             [
              0,
              "#0d0887"
             ],
             [
              0.1111111111111111,
              "#46039f"
             ],
             [
              0.2222222222222222,
              "#7201a8"
             ],
             [
              0.3333333333333333,
              "#9c179e"
             ],
             [
              0.4444444444444444,
              "#bd3786"
             ],
             [
              0.5555555555555556,
              "#d8576b"
             ],
             [
              0.6666666666666666,
              "#ed7953"
             ],
             [
              0.7777777777777778,
              "#fb9f3a"
             ],
             [
              0.8888888888888888,
              "#fdca26"
             ],
             [
              1,
              "#f0f921"
             ]
            ],
            "type": "histogram2dcontour"
           }
          ],
          "mesh3d": [
           {
            "colorbar": {
             "outlinewidth": 0,
             "ticks": ""
            },
            "type": "mesh3d"
           }
          ],
          "parcoords": [
           {
            "line": {
             "colorbar": {
              "outlinewidth": 0,
              "ticks": ""
             }
            },
            "type": "parcoords"
           }
          ],
          "pie": [
           {
            "automargin": true,
            "type": "pie"
           }
          ],
          "scatter": [
           {
            "fillpattern": {
             "fillmode": "overlay",
             "size": 10,
             "solidity": 0.2
            },
            "type": "scatter"
           }
          ],
          "scatter3d": [
           {
            "line": {
             "colorbar": {
              "outlinewidth": 0,
              "ticks": ""
             }
            },
            "marker": {
             "colorbar": {
              "outlinewidth": 0,
              "ticks": ""
             }
            },
            "type": "scatter3d"
           }
          ],
          "scattercarpet": [
           {
            "marker": {
             "colorbar": {
              "outlinewidth": 0,
              "ticks": ""
             }
            },
            "type": "scattercarpet"
           }
          ],
          "scattergeo": [
           {
            "marker": {
             "colorbar": {
              "outlinewidth": 0,
              "ticks": ""
             }
            },
            "type": "scattergeo"
           }
          ],
          "scattergl": [
           {
            "marker": {
             "colorbar": {
              "outlinewidth": 0,
              "ticks": ""
             }
            },
            "type": "scattergl"
           }
          ],
          "scattermapbox": [
           {
            "marker": {
             "colorbar": {
              "outlinewidth": 0,
              "ticks": ""
             }
            },
            "type": "scattermapbox"
           }
          ],
          "scatterpolar": [
           {
            "marker": {
             "colorbar": {
              "outlinewidth": 0,
              "ticks": ""
             }
            },
            "type": "scatterpolar"
           }
          ],
          "scatterpolargl": [
           {
            "marker": {
             "colorbar": {
              "outlinewidth": 0,
              "ticks": ""
             }
            },
            "type": "scatterpolargl"
           }
          ],
          "scatterternary": [
           {
            "marker": {
             "colorbar": {
              "outlinewidth": 0,
              "ticks": ""
             }
            },
            "type": "scatterternary"
           }
          ],
          "surface": [
           {
            "colorbar": {
             "outlinewidth": 0,
             "ticks": ""
            },
            "colorscale": [
             [
              0,
              "#0d0887"
             ],
             [
              0.1111111111111111,
              "#46039f"
             ],
             [
              0.2222222222222222,
              "#7201a8"
             ],
             [
              0.3333333333333333,
              "#9c179e"
             ],
             [
              0.4444444444444444,
              "#bd3786"
             ],
             [
              0.5555555555555556,
              "#d8576b"
             ],
             [
              0.6666666666666666,
              "#ed7953"
             ],
             [
              0.7777777777777778,
              "#fb9f3a"
             ],
             [
              0.8888888888888888,
              "#fdca26"
             ],
             [
              1,
              "#f0f921"
             ]
            ],
            "type": "surface"
           }
          ],
          "table": [
           {
            "cells": {
             "fill": {
              "color": "#EBF0F8"
             },
             "line": {
              "color": "white"
             }
            },
            "header": {
             "fill": {
              "color": "#C8D4E3"
             },
             "line": {
              "color": "white"
             }
            },
            "type": "table"
           }
          ]
         },
         "layout": {
          "annotationdefaults": {
           "arrowcolor": "#2a3f5f",
           "arrowhead": 0,
           "arrowwidth": 1
          },
          "autotypenumbers": "strict",
          "coloraxis": {
           "colorbar": {
            "outlinewidth": 0,
            "ticks": ""
           }
          },
          "colorscale": {
           "diverging": [
            [
             0,
             "#8e0152"
            ],
            [
             0.1,
             "#c51b7d"
            ],
            [
             0.2,
             "#de77ae"
            ],
            [
             0.3,
             "#f1b6da"
            ],
            [
             0.4,
             "#fde0ef"
            ],
            [
             0.5,
             "#f7f7f7"
            ],
            [
             0.6,
             "#e6f5d0"
            ],
            [
             0.7,
             "#b8e186"
            ],
            [
             0.8,
             "#7fbc41"
            ],
            [
             0.9,
             "#4d9221"
            ],
            [
             1,
             "#276419"
            ]
           ],
           "sequential": [
            [
             0,
             "#0d0887"
            ],
            [
             0.1111111111111111,
             "#46039f"
            ],
            [
             0.2222222222222222,
             "#7201a8"
            ],
            [
             0.3333333333333333,
             "#9c179e"
            ],
            [
             0.4444444444444444,
             "#bd3786"
            ],
            [
             0.5555555555555556,
             "#d8576b"
            ],
            [
             0.6666666666666666,
             "#ed7953"
            ],
            [
             0.7777777777777778,
             "#fb9f3a"
            ],
            [
             0.8888888888888888,
             "#fdca26"
            ],
            [
             1,
             "#f0f921"
            ]
           ],
           "sequentialminus": [
            [
             0,
             "#0d0887"
            ],
            [
             0.1111111111111111,
             "#46039f"
            ],
            [
             0.2222222222222222,
             "#7201a8"
            ],
            [
             0.3333333333333333,
             "#9c179e"
            ],
            [
             0.4444444444444444,
             "#bd3786"
            ],
            [
             0.5555555555555556,
             "#d8576b"
            ],
            [
             0.6666666666666666,
             "#ed7953"
            ],
            [
             0.7777777777777778,
             "#fb9f3a"
            ],
            [
             0.8888888888888888,
             "#fdca26"
            ],
            [
             1,
             "#f0f921"
            ]
           ]
          },
          "colorway": [
           "#636efa",
           "#EF553B",
           "#00cc96",
           "#ab63fa",
           "#FFA15A",
           "#19d3f3",
           "#FF6692",
           "#B6E880",
           "#FF97FF",
           "#FECB52"
          ],
          "font": {
           "color": "#2a3f5f"
          },
          "geo": {
           "bgcolor": "white",
           "lakecolor": "white",
           "landcolor": "#E5ECF6",
           "showlakes": true,
           "showland": true,
           "subunitcolor": "white"
          },
          "hoverlabel": {
           "align": "left"
          },
          "hovermode": "closest",
          "mapbox": {
           "style": "light"
          },
          "paper_bgcolor": "white",
          "plot_bgcolor": "#E5ECF6",
          "polar": {
           "angularaxis": {
            "gridcolor": "white",
            "linecolor": "white",
            "ticks": ""
           },
           "bgcolor": "#E5ECF6",
           "radialaxis": {
            "gridcolor": "white",
            "linecolor": "white",
            "ticks": ""
           }
          },
          "scene": {
           "xaxis": {
            "backgroundcolor": "#E5ECF6",
            "gridcolor": "white",
            "gridwidth": 2,
            "linecolor": "white",
            "showbackground": true,
            "ticks": "",
            "zerolinecolor": "white"
           },
           "yaxis": {
            "backgroundcolor": "#E5ECF6",
            "gridcolor": "white",
            "gridwidth": 2,
            "linecolor": "white",
            "showbackground": true,
            "ticks": "",
            "zerolinecolor": "white"
           },
           "zaxis": {
            "backgroundcolor": "#E5ECF6",
            "gridcolor": "white",
            "gridwidth": 2,
            "linecolor": "white",
            "showbackground": true,
            "ticks": "",
            "zerolinecolor": "white"
           }
          },
          "shapedefaults": {
           "line": {
            "color": "#2a3f5f"
           }
          },
          "ternary": {
           "aaxis": {
            "gridcolor": "white",
            "linecolor": "white",
            "ticks": ""
           },
           "baxis": {
            "gridcolor": "white",
            "linecolor": "white",
            "ticks": ""
           },
           "bgcolor": "#E5ECF6",
           "caxis": {
            "gridcolor": "white",
            "linecolor": "white",
            "ticks": ""
           }
          },
          "title": {
           "x": 0.05
          },
          "xaxis": {
           "automargin": true,
           "gridcolor": "white",
           "linecolor": "white",
           "ticks": "",
           "title": {
            "standoff": 15
           },
           "zerolinecolor": "white",
           "zerolinewidth": 2
          },
          "yaxis": {
           "automargin": true,
           "gridcolor": "white",
           "linecolor": "white",
           "ticks": "",
           "title": {
            "standoff": 15
           },
           "zerolinecolor": "white",
           "zerolinewidth": 2
          }
         }
        },
        "xaxis": {
         "anchor": "y",
         "domain": [
          0,
          1
         ],
         "title": {
          "text": "datetime"
         }
        },
        "yaxis": {
         "anchor": "x",
         "domain": [
          0,
          1
         ],
         "title": {
          "text": "value"
         }
        }
       }
      }
     },
     "metadata": {},
     "output_type": "display_data"
    }
   ],
   "source": [
    "px.area(data_frame=dfm, x='datetime', y='value', color='variable')"
   ]
  },
  {
   "cell_type": "markdown",
   "id": "94fab934-64bb-41d2-9d60-fac83075fb4b",
   "metadata": {},
   "source": [
    "#### Facets"
   ]
  },
  {
   "cell_type": "code",
   "execution_count": 37,
   "id": "29e3de56",
   "metadata": {},
   "outputs": [
    {
     "data": {
      "text/html": [
       "<div>\n",
       "<style scoped>\n",
       "    .dataframe tbody tr th:only-of-type {\n",
       "        vertical-align: middle;\n",
       "    }\n",
       "\n",
       "    .dataframe tbody tr th {\n",
       "        vertical-align: top;\n",
       "    }\n",
       "\n",
       "    .dataframe thead th {\n",
       "        text-align: right;\n",
       "    }\n",
       "</style>\n",
       "<table border=\"1\" class=\"dataframe\">\n",
       "  <thead>\n",
       "    <tr style=\"text-align: right;\">\n",
       "      <th></th>\n",
       "      <th>datetime</th>\n",
       "      <th>variable</th>\n",
       "      <th>value</th>\n",
       "    </tr>\n",
       "  </thead>\n",
       "  <tbody>\n",
       "    <tr>\n",
       "      <th>259</th>\n",
       "      <td>2022-12-12</td>\n",
       "      <td>Eólica</td>\n",
       "      <td>344688.925</td>\n",
       "    </tr>\n",
       "    <tr>\n",
       "      <th>68</th>\n",
       "      <td>2022-12-07</td>\n",
       "      <td>Ciclo combinado</td>\n",
       "      <td>341391.733</td>\n",
       "    </tr>\n",
       "    <tr>\n",
       "      <th>...</th>\n",
       "      <td>...</td>\n",
       "      <td>...</td>\n",
       "      <td>...</td>\n",
       "    </tr>\n",
       "    <tr>\n",
       "      <th>423</th>\n",
       "      <td>2022-12-21</td>\n",
       "      <td>Saldo Francia</td>\n",
       "      <td>-67382.000</td>\n",
       "    </tr>\n",
       "    <tr>\n",
       "      <th>412</th>\n",
       "      <td>2022-12-10</td>\n",
       "      <td>Saldo Francia</td>\n",
       "      <td>-68130.001</td>\n",
       "    </tr>\n",
       "  </tbody>\n",
       "</table>\n",
       "<p>558 rows × 3 columns</p>\n",
       "</div>"
      ],
      "text/plain": [
       "      datetime         variable       value\n",
       "259 2022-12-12           Eólica  344688.925\n",
       "68  2022-12-07  Ciclo combinado  341391.733\n",
       "..         ...              ...         ...\n",
       "423 2022-12-21    Saldo Francia  -67382.000\n",
       "412 2022-12-10    Saldo Francia  -68130.001\n",
       "\n",
       "[558 rows x 3 columns]"
      ]
     },
     "execution_count": 37,
     "metadata": {},
     "output_type": "execute_result"
    }
   ],
   "source": [
    "dfm"
   ]
  },
  {
   "cell_type": "code",
   "execution_count": 38,
   "id": "b8f5698c-aef0-436e-aba4-5d22bc39681e",
   "metadata": {},
   "outputs": [
    {
     "data": {
      "application/vnd.plotly.v1+json": {
       "config": {
        "plotlyServerURL": "https://plot.ly"
       },
       "data": [
        {
         "fillpattern": {
          "shape": ""
         },
         "hovertemplate": "variable=Eólica<br>datetime=%{x}<br>value=%{y}<extra></extra>",
         "legendgroup": "Eólica",
         "line": {
          "color": "#636efa"
         },
         "marker": {
          "symbol": "circle"
         },
         "mode": "lines",
         "name": "Eólica",
         "orientation": "v",
         "showlegend": true,
         "stackgroup": "1",
         "type": "scatter",
         "x": [
          "2022-12-12T00:00:00",
          "2022-12-21T00:00:00",
          "2022-12-30T00:00:00",
          "2022-12-22T00:00:00",
          "2022-12-13T00:00:00",
          "2022-12-20T00:00:00",
          "2022-12-23T00:00:00",
          "2022-12-14T00:00:00",
          "2022-12-10T00:00:00",
          "2022-12-19T00:00:00",
          "2022-12-29T00:00:00",
          "2022-12-09T00:00:00",
          "2022-12-28T00:00:00",
          "2022-12-08T00:00:00",
          "2022-12-15T00:00:00",
          "2022-12-18T00:00:00",
          "2022-12-24T00:00:00",
          "2022-12-31T00:00:00",
          "2022-12-25T00:00:00",
          "2022-12-16T00:00:00",
          "2022-12-01T00:00:00",
          "2022-12-11T00:00:00",
          "2022-12-05T00:00:00",
          "2022-12-03T00:00:00",
          "2022-12-02T00:00:00",
          "2022-12-17T00:00:00",
          "2022-12-04T00:00:00",
          "2022-12-27T00:00:00",
          "2022-12-26T00:00:00",
          "2022-12-07T00:00:00",
          "2022-12-06T00:00:00"
         ],
         "xaxis": "x17",
         "y": [
          344688.925,
          317072.911,
          314274.925,
          295582.25,
          294800.075,
          273608.877,
          258296.45,
          257419.225,
          256540.694,
          251926.53,
          248642.775,
          200978.258,
          197316.296,
          196346.675,
          187318.758,
          185238.875,
          181749.317,
          175047.375,
          164381.945,
          158883.65,
          144571.275,
          143732.398,
          134602.975,
          76798.2,
          76543.005,
          63560.95,
          61074.95,
          58327.625,
          55458.75,
          50885.45,
          40119.125
         ],
         "yaxis": "y17"
        },
        {
         "fillpattern": {
          "shape": ""
         },
         "hovertemplate": "variable=Ciclo combinado<br>datetime=%{x}<br>value=%{y}<extra></extra>",
         "legendgroup": "Ciclo combinado",
         "line": {
          "color": "#EF553B"
         },
         "marker": {
          "symbol": "circle"
         },
         "mode": "lines",
         "name": "Ciclo combinado",
         "orientation": "v",
         "showlegend": true,
         "stackgroup": "1",
         "type": "scatter",
         "x": [
          "2022-12-07T00:00:00",
          "2022-12-06T00:00:00",
          "2022-12-02T00:00:00",
          "2022-12-03T00:00:00",
          "2022-12-05T00:00:00",
          "2022-12-04T00:00:00",
          "2022-12-09T00:00:00",
          "2022-12-01T00:00:00",
          "2022-12-17T00:00:00",
          "2022-12-08T00:00:00",
          "2022-12-11T00:00:00",
          "2022-12-15T00:00:00",
          "2022-12-16T00:00:00",
          "2022-12-10T00:00:00",
          "2022-12-26T00:00:00",
          "2022-12-27T00:00:00",
          "2022-12-13T00:00:00",
          "2022-12-14T00:00:00",
          "2022-12-12T00:00:00",
          "2022-12-25T00:00:00",
          "2022-12-20T00:00:00",
          "2022-12-28T00:00:00",
          "2022-12-24T00:00:00",
          "2022-12-19T00:00:00",
          "2022-12-18T00:00:00",
          "2022-12-21T00:00:00",
          "2022-12-23T00:00:00",
          "2022-12-22T00:00:00",
          "2022-12-29T00:00:00",
          "2022-12-31T00:00:00",
          "2022-12-30T00:00:00"
         ],
         "xaxis": "x18",
         "y": [
          341391.733,
          322276.183,
          285396.367,
          246015.975,
          231782.59,
          210513.092,
          194561.325,
          188295.075,
          157527.325,
          154792.95,
          150085.35,
          149197.75,
          135891.892,
          118185.175,
          94148,
          86273.023,
          75096.133,
          70417.05,
          52904.3,
          52580.142,
          52555.55,
          51487.473,
          51194.092000000004,
          51129.533,
          50901.975,
          47266.042,
          41976.375,
          41528.575,
          41460.75,
          36128.75,
          28471.8
         ],
         "yaxis": "y18"
        },
        {
         "fillpattern": {
          "shape": ""
         },
         "hovertemplate": "variable=Nuclear<br>datetime=%{x}<br>value=%{y}<extra></extra>",
         "legendgroup": "Nuclear",
         "line": {
          "color": "#00cc96"
         },
         "marker": {
          "symbol": "circle"
         },
         "mode": "lines",
         "name": "Nuclear",
         "orientation": "v",
         "showlegend": true,
         "stackgroup": "1",
         "type": "scatter",
         "x": [
          "2022-12-19T00:00:00",
          "2022-12-29T00:00:00",
          "2022-12-18T00:00:00",
          "2022-12-12T00:00:00",
          "2022-12-20T00:00:00",
          "2022-12-13T00:00:00",
          "2022-12-14T00:00:00",
          "2022-12-28T00:00:00",
          "2022-12-02T00:00:00",
          "2022-12-27T00:00:00",
          "2022-12-22T00:00:00",
          "2022-12-26T00:00:00",
          "2022-12-24T00:00:00",
          "2022-12-23T00:00:00",
          "2022-12-01T00:00:00",
          "2022-12-25T00:00:00",
          "2022-12-21T00:00:00",
          "2022-12-15T00:00:00",
          "2022-12-05T00:00:00",
          "2022-12-17T00:00:00",
          "2022-12-16T00:00:00",
          "2022-12-04T00:00:00",
          "2022-12-03T00:00:00",
          "2022-12-11T00:00:00",
          "2022-12-30T00:00:00",
          "2022-12-09T00:00:00",
          "2022-12-10T00:00:00",
          "2022-12-06T00:00:00",
          "2022-12-08T00:00:00",
          "2022-12-31T00:00:00",
          "2022-12-07T00:00:00"
         ],
         "xaxis": "x19",
         "y": [
          169818,
          169809.625,
          169706.5,
          169641.1,
          169592.8,
          169576.1,
          169575,
          169567.2,
          169522.6,
          169505.9,
          169502.9,
          169502.7,
          169448.3,
          169402.2,
          169400.9,
          169385.125,
          169287.4,
          169259.5,
          169236.2,
          169194.7,
          169193.30000000002,
          168845,
          168810.9,
          165961.30000000002,
          162528.875,
          161637.125,
          160593.4,
          157636.2,
          155594.15,
          149035.975,
          146309.25
         ],
         "yaxis": "y19"
        },
        {
         "fillpattern": {
          "shape": ""
         },
         "hovertemplate": "variable=Hidráulica<br>datetime=%{x}<br>value=%{y}<extra></extra>",
         "legendgroup": "Hidráulica",
         "line": {
          "color": "#ab63fa"
         },
         "marker": {
          "symbol": "circle"
         },
         "mode": "lines",
         "name": "Hidráulica",
         "orientation": "v",
         "showlegend": true,
         "stackgroup": "1",
         "type": "scatter",
         "x": [
          "2022-12-27T00:00:00",
          "2022-12-22T00:00:00",
          "2022-12-17T00:00:00",
          "2022-12-16T00:00:00",
          "2022-12-20T00:00:00",
          "2022-12-21T00:00:00",
          "2022-12-23T00:00:00",
          "2022-12-14T00:00:00",
          "2022-12-26T00:00:00",
          "2022-12-15T00:00:00",
          "2022-12-19T00:00:00",
          "2022-12-28T00:00:00",
          "2022-12-31T00:00:00",
          "2022-12-29T00:00:00",
          "2022-12-02T00:00:00",
          "2022-12-24T00:00:00",
          "2022-12-13T00:00:00",
          "2022-12-03T00:00:00",
          "2022-12-04T00:00:00",
          "2022-12-01T00:00:00",
          "2022-12-06T00:00:00",
          "2022-12-18T00:00:00",
          "2022-12-05T00:00:00",
          "2022-12-30T00:00:00",
          "2022-12-25T00:00:00",
          "2022-12-12T00:00:00",
          "2022-12-09T00:00:00",
          "2022-12-07T00:00:00",
          "2022-12-08T00:00:00",
          "2022-12-10T00:00:00",
          "2022-12-11T00:00:00"
         ],
         "xaxis": "x20",
         "y": [
          135477.917,
          134507.025,
          123661.725,
          123345.8,
          116866.385,
          113013.381,
          112591.575,
          110373.975,
          109989.8,
          109022.625,
          103753.1,
          101033.635,
          88236.784,
          87332.95,
          87180.3,
          86089.875,
          85869.475,
          85602.95,
          85471.125,
          85416.9,
          82807.959,
          82296.15,
          77820.9,
          76542.575,
          72493.566,
          71207.95,
          70869.7,
          68763.85,
          66273.175,
          65128.638,
          65094.6
         ],
         "yaxis": "y20"
        },
        {
         "fillpattern": {
          "shape": ""
         },
         "hovertemplate": "variable=Saldo Portugal<br>datetime=%{x}<br>value=%{y}<extra></extra>",
         "legendgroup": "Saldo Portugal",
         "line": {
          "color": "#FFA15A"
         },
         "marker": {
          "symbol": "circle"
         },
         "mode": "lines",
         "name": "Saldo Portugal",
         "orientation": "v",
         "showlegend": true,
         "stackgroup": "1",
         "type": "scatter",
         "x": [
          "2022-12-24T00:00:00",
          "2022-12-31T00:00:00",
          "2022-12-30T00:00:00",
          "2022-12-19T00:00:00",
          "2022-12-16T00:00:00",
          "2022-12-20T00:00:00",
          "2022-12-13T00:00:00",
          "2022-12-18T00:00:00",
          "2022-12-25T00:00:00",
          "2022-12-11T00:00:00",
          "2022-12-14T00:00:00",
          "2022-12-29T00:00:00",
          "2022-12-17T00:00:00",
          "2022-12-12T00:00:00",
          "2022-12-21T00:00:00",
          "2022-12-01T00:00:00",
          "2022-12-23T00:00:00",
          "2022-12-05T00:00:00",
          "2022-12-07T00:00:00",
          "2022-12-27T00:00:00",
          "2022-12-08T00:00:00",
          "2022-12-04T00:00:00",
          "2022-12-15T00:00:00",
          "2022-12-09T00:00:00",
          "2022-12-22T00:00:00",
          "2022-12-02T00:00:00",
          "2022-12-03T00:00:00",
          "2022-12-26T00:00:00",
          "2022-12-28T00:00:00",
          "2022-12-10T00:00:00",
          "2022-12-06T00:00:00"
         ],
         "xaxis": "x13",
         "y": [
          60934.9,
          59926.708,
          50542.1,
          42347.7,
          39111.8,
          37146,
          34339,
          33695.3,
          31361.5,
          29825.5,
          29372.2,
          28566,
          23501.5,
          21877,
          21204.6,
          21038.2,
          18653.6,
          11326.199999999999,
          11148.2,
          10529.3,
          10464.099999999999,
          6200.8,
          2574.4,
          -1596.7000000000003,
          -2419.7000000000003,
          -5325,
          -5556.700000000001,
          -10631.1,
          -11994.9,
          -19905.8,
          -21626
         ],
         "yaxis": "y13"
        },
        {
         "fillpattern": {
          "shape": ""
         },
         "hovertemplate": "variable=Solar fotovoltaica<br>datetime=%{x}<br>value=%{y}<extra></extra>",
         "legendgroup": "Solar fotovoltaica",
         "line": {
          "color": "#19d3f3"
         },
         "marker": {
          "symbol": "circle"
         },
         "mode": "lines",
         "name": "Solar fotovoltaica",
         "orientation": "v",
         "showlegend": true,
         "stackgroup": "1",
         "type": "scatter",
         "x": [
          "2022-12-27T00:00:00",
          "2022-12-28T00:00:00",
          "2022-12-26T00:00:00",
          "2022-12-31T00:00:00",
          "2022-12-18T00:00:00",
          "2022-12-02T00:00:00",
          "2022-12-03T00:00:00",
          "2022-12-19T00:00:00",
          "2022-12-24T00:00:00",
          "2022-12-01T00:00:00",
          "2022-12-23T00:00:00",
          "2022-12-04T00:00:00",
          "2022-12-25T00:00:00",
          "2022-12-10T00:00:00",
          "2022-12-17T00:00:00",
          "2022-12-30T00:00:00",
          "2022-12-29T00:00:00",
          "2022-12-22T00:00:00",
          "2022-12-07T00:00:00",
          "2022-12-21T00:00:00",
          "2022-12-16T00:00:00",
          "2022-12-15T00:00:00",
          "2022-12-20T00:00:00",
          "2022-12-06T00:00:00",
          "2022-12-14T00:00:00",
          "2022-12-08T00:00:00",
          "2022-12-09T00:00:00",
          "2022-12-05T00:00:00",
          "2022-12-11T00:00:00",
          "2022-12-12T00:00:00",
          "2022-12-13T00:00:00"
         ],
         "xaxis": "x14",
         "y": [
          59797.25,
          59363.575,
          56396.6,
          52060.875,
          51501,
          50708.7,
          50362.75,
          49794.525,
          48427.725,
          48341.025,
          46412.125,
          44570.7,
          43649.75,
          40667.606,
          39169.425,
          38280.325000000004,
          36229.15,
          35855.825,
          34359.1,
          32762.8,
          30831.425,
          30690.625,
          29117.325,
          28200.75,
          27722.675,
          21719.6,
          20660.125,
          20158.35,
          18862.95,
          17826,
          12369.175
         ],
         "yaxis": "y14"
        },
        {
         "fillpattern": {
          "shape": ""
         },
         "hovertemplate": "variable=Cogeneración<br>datetime=%{x}<br>value=%{y}<extra></extra>",
         "legendgroup": "Cogeneración",
         "line": {
          "color": "#FF6692"
         },
         "marker": {
          "symbol": "circle"
         },
         "mode": "lines",
         "name": "Cogeneración",
         "orientation": "v",
         "showlegend": true,
         "stackgroup": "1",
         "type": "scatter",
         "x": [
          "2022-12-05T00:00:00",
          "2022-12-01T00:00:00",
          "2022-12-02T00:00:00",
          "2022-12-03T00:00:00",
          "2022-12-06T00:00:00",
          "2022-12-07T00:00:00",
          "2022-12-09T00:00:00",
          "2022-12-12T00:00:00",
          "2022-12-08T00:00:00",
          "2022-12-11T00:00:00",
          "2022-12-04T00:00:00",
          "2022-12-10T00:00:00",
          "2022-12-15T00:00:00",
          "2022-12-16T00:00:00",
          "2022-12-17T00:00:00",
          "2022-12-19T00:00:00",
          "2022-12-13T00:00:00",
          "2022-12-20T00:00:00",
          "2022-12-14T00:00:00",
          "2022-12-18T00:00:00",
          "2022-12-21T00:00:00",
          "2022-12-27T00:00:00",
          "2022-12-22T00:00:00",
          "2022-12-26T00:00:00",
          "2022-12-28T00:00:00",
          "2022-12-23T00:00:00",
          "2022-12-29T00:00:00",
          "2022-12-24T00:00:00",
          "2022-12-30T00:00:00",
          "2022-12-25T00:00:00",
          "2022-12-31T00:00:00"
         ],
         "xaxis": "x15",
         "y": [
          45096.008,
          44488.75,
          43460,
          43385.6,
          43235.25,
          42557.95,
          42478.325,
          41857.335,
          41598.9,
          41355.55,
          41312.3,
          40416.725,
          40013.15,
          39923.484,
          39267.753,
          38811.045,
          38477.151,
          38032.4,
          37884.2,
          37059.347,
          35639.475,
          34161.95,
          33943.65,
          27379.260000000002,
          27375.2,
          26736.7,
          25536.35,
          22818.625,
          21089.6,
          19407.15,
          18808.9
         ],
         "yaxis": "y15"
        },
        {
         "fillpattern": {
          "shape": ""
         },
         "hovertemplate": "variable=Carbón<br>datetime=%{x}<br>value=%{y}<extra></extra>",
         "legendgroup": "Carbón",
         "line": {
          "color": "#B6E880"
         },
         "marker": {
          "symbol": "circle"
         },
         "mode": "lines",
         "name": "Carbón",
         "orientation": "v",
         "showlegend": true,
         "stackgroup": "1",
         "type": "scatter",
         "x": [
          "2022-12-16T00:00:00",
          "2022-12-15T00:00:00",
          "2022-12-17T00:00:00",
          "2022-12-12T00:00:00",
          "2022-12-13T00:00:00",
          "2022-12-14T00:00:00",
          "2022-12-11T00:00:00",
          "2022-12-19T00:00:00",
          "2022-12-18T00:00:00",
          "2022-12-05T00:00:00",
          "2022-12-07T00:00:00",
          "2022-12-04T00:00:00",
          "2022-12-08T00:00:00",
          "2022-12-10T00:00:00",
          "2022-12-02T00:00:00",
          "2022-12-06T00:00:00",
          "2022-12-01T00:00:00",
          "2022-12-20T00:00:00",
          "2022-12-03T00:00:00",
          "2022-12-09T00:00:00",
          "2022-12-21T00:00:00",
          "2022-12-22T00:00:00",
          "2022-12-23T00:00:00",
          "2022-12-27T00:00:00",
          "2022-12-26T00:00:00",
          "2022-12-29T00:00:00",
          "2022-12-28T00:00:00",
          "2022-12-30T00:00:00",
          "2022-12-24T00:00:00",
          "2022-12-31T00:00:00",
          "2022-12-25T00:00:00"
         ],
         "xaxis": "x16",
         "y": [
          38151,
          37540.825,
          37002.6,
          36722.15,
          33225.1,
          33157.075,
          32680.525,
          32393.075,
          29905.15,
          29320.725,
          28533.5,
          27398.65,
          27207.9,
          26735.2,
          26381.758,
          25766.596,
          25422.9,
          25127.975,
          24466.6,
          23904.283,
          18624.025,
          17101.925,
          16119.75,
          15506.25,
          11544.85,
          8283.4,
          8236.2,
          8145.1,
          7047.75,
          6771.85,
          6419.667
         ],
         "yaxis": "y16"
        },
        {
         "fillpattern": {
          "shape": ""
         },
         "hovertemplate": "variable=Turbinación bombeo<br>datetime=%{x}<br>value=%{y}<extra></extra>",
         "legendgroup": "Turbinación bombeo",
         "line": {
          "color": "#FF97FF"
         },
         "marker": {
          "symbol": "circle"
         },
         "mode": "lines",
         "name": "Turbinación bombeo",
         "orientation": "v",
         "showlegend": true,
         "stackgroup": "1",
         "type": "scatter",
         "x": [
          "2022-12-29T00:00:00",
          "2022-12-27T00:00:00",
          "2022-12-28T00:00:00",
          "2022-12-26T00:00:00",
          "2022-12-14T00:00:00",
          "2022-12-23T00:00:00",
          "2022-12-03T00:00:00",
          "2022-12-31T00:00:00",
          "2022-12-20T00:00:00",
          "2022-12-22T00:00:00",
          "2022-12-24T00:00:00",
          "2022-12-13T00:00:00",
          "2022-12-19T00:00:00",
          "2022-12-30T00:00:00",
          "2022-12-05T00:00:00",
          "2022-12-08T00:00:00",
          "2022-12-21T00:00:00",
          "2022-12-15T00:00:00",
          "2022-12-16T00:00:00",
          "2022-12-25T00:00:00",
          "2022-12-01T00:00:00",
          "2022-12-06T00:00:00",
          "2022-12-11T00:00:00",
          "2022-12-04T00:00:00",
          "2022-12-12T00:00:00",
          "2022-12-09T00:00:00",
          "2022-12-18T00:00:00",
          "2022-12-02T00:00:00",
          "2022-12-10T00:00:00",
          "2022-12-17T00:00:00",
          "2022-12-07T00:00:00"
         ],
         "xaxis": "x9",
         "y": [
          26680.933,
          23846.325,
          19804.125,
          17833.65,
          16857.975,
          16210.5,
          14898.15,
          14834.488000000001,
          14355.25,
          14284.725,
          14110.775,
          13910.550000000001,
          12809.65,
          12695.875,
          12508.775,
          11663,
          11341.1,
          10475.1,
          10222.025,
          9824.525,
          9475.8,
          8886.075,
          7923.65,
          7777.625,
          7572.9,
          6884.525,
          6645.225,
          6406.417,
          5805.15,
          5342.625,
          2728.8940000000002
         ],
         "yaxis": "y9"
        },
        {
         "fillpattern": {
          "shape": ""
         },
         "hovertemplate": "variable=otras renovables<br>datetime=%{x}<br>value=%{y}<extra></extra>",
         "legendgroup": "otras renovables",
         "line": {
          "color": "#FECB52"
         },
         "marker": {
          "symbol": "circle"
         },
         "mode": "lines",
         "name": "otras renovables",
         "orientation": "v",
         "showlegend": true,
         "stackgroup": "1",
         "type": "scatter",
         "x": [
          "2022-12-15T00:00:00",
          "2022-12-17T00:00:00",
          "2022-12-18T00:00:00",
          "2022-12-16T00:00:00",
          "2022-12-06T00:00:00",
          "2022-12-13T00:00:00",
          "2022-12-11T00:00:00",
          "2022-12-04T00:00:00",
          "2022-12-02T00:00:00",
          "2022-12-07T00:00:00",
          "2022-12-12T00:00:00",
          "2022-12-03T00:00:00",
          "2022-12-05T00:00:00",
          "2022-12-01T00:00:00",
          "2022-12-14T00:00:00",
          "2022-12-08T00:00:00",
          "2022-12-09T00:00:00",
          "2022-12-10T00:00:00",
          "2022-12-19T00:00:00",
          "2022-12-20T00:00:00",
          "2022-12-21T00:00:00",
          "2022-12-27T00:00:00",
          "2022-12-22T00:00:00",
          "2022-12-23T00:00:00",
          "2022-12-28T00:00:00",
          "2022-12-26T00:00:00",
          "2022-12-29T00:00:00",
          "2022-12-24T00:00:00",
          "2022-12-25T00:00:00",
          "2022-12-30T00:00:00",
          "2022-12-31T00:00:00"
         ],
         "xaxis": "x10",
         "y": [
          13006.307999999999,
          12924.467,
          12892,
          12828.333,
          12641.175,
          12513.858,
          12465.9,
          12458.6,
          12386.8,
          12311.833,
          12229.6,
          12186.2,
          12178.39,
          12098.93,
          12059.300000000001,
          11886.26,
          11761.525,
          11704.9,
          11620.05,
          11211.842,
          11191.967,
          10769.275,
          10668.875,
          8266.8,
          7986.6,
          7860,
          7215.2,
          7015.6,
          6713.1,
          6586.2,
          6060.7
         ],
         "yaxis": "y10"
        },
        {
         "fillpattern": {
          "shape": ""
         },
         "hovertemplate": "variable=Solar térmica<br>datetime=%{x}<br>value=%{y}<extra></extra>",
         "legendgroup": "Solar térmica",
         "line": {
          "color": "#636efa"
         },
         "marker": {
          "symbol": "circle"
         },
         "mode": "lines",
         "name": "Solar térmica",
         "orientation": "v",
         "showlegend": true,
         "stackgroup": "1",
         "type": "scatter",
         "x": [
          "2022-12-27T00:00:00",
          "2022-12-28T00:00:00",
          "2022-12-26T00:00:00",
          "2022-12-02T00:00:00",
          "2022-12-31T00:00:00",
          "2022-12-03T00:00:00",
          "2022-12-25T00:00:00",
          "2022-12-19T00:00:00",
          "2022-12-18T00:00:00",
          "2022-12-23T00:00:00",
          "2022-12-01T00:00:00",
          "2022-12-24T00:00:00",
          "2022-12-22T00:00:00",
          "2022-12-04T00:00:00",
          "2022-12-29T00:00:00",
          "2022-12-17T00:00:00",
          "2022-12-30T00:00:00",
          "2022-12-07T00:00:00",
          "2022-12-21T00:00:00",
          "2022-12-20T00:00:00",
          "2022-12-10T00:00:00",
          "2022-12-05T00:00:00",
          "2022-12-16T00:00:00",
          "2022-12-06T00:00:00",
          "2022-12-12T00:00:00",
          "2022-12-13T00:00:00",
          "2022-12-14T00:00:00",
          "2022-12-15T00:00:00",
          "2022-12-11T00:00:00",
          "2022-12-08T00:00:00",
          "2022-12-09T00:00:00"
         ],
         "xaxis": "x11",
         "y": [
          6443.7,
          6226.6,
          5702.900000000001,
          5637.6,
          5355.400000000001,
          4216.6,
          3997.7000000000003,
          3804.4,
          3652.575,
          3433.3,
          3152.2,
          2837.8,
          2165.4,
          1989.3,
          1697.8,
          1615.1000000000001,
          1502.7,
          782.8000000000001,
          639.8,
          607.5,
          568.2,
          343.4,
          343.2,
          330,
          232.9,
          164.5,
          138.1,
          82.8,
          51.4,
          42.9,
          6.9
         ],
         "yaxis": "y11"
        },
        {
         "fillpattern": {
          "shape": ""
         },
         "hovertemplate": "variable=Residuos no renovables<br>datetime=%{x}<br>value=%{y}<extra></extra>",
         "legendgroup": "Residuos no renovables",
         "line": {
          "color": "#EF553B"
         },
         "marker": {
          "symbol": "circle"
         },
         "mode": "lines",
         "name": "Residuos no renovables",
         "orientation": "v",
         "showlegend": true,
         "stackgroup": "1",
         "type": "scatter",
         "x": [
          "2022-12-03T00:00:00",
          "2022-12-27T00:00:00",
          "2022-12-10T00:00:00",
          "2022-12-11T00:00:00",
          "2022-12-02T00:00:00",
          "2022-12-09T00:00:00",
          "2022-12-21T00:00:00",
          "2022-12-08T00:00:00",
          "2022-12-30T00:00:00",
          "2022-12-18T00:00:00",
          "2022-12-12T00:00:00",
          "2022-12-04T00:00:00",
          "2022-12-29T00:00:00",
          "2022-12-31T00:00:00",
          "2022-12-26T00:00:00",
          "2022-12-13T00:00:00",
          "2022-12-19T00:00:00",
          "2022-12-01T00:00:00",
          "2022-12-23T00:00:00",
          "2022-12-25T00:00:00",
          "2022-12-24T00:00:00",
          "2022-12-20T00:00:00",
          "2022-12-06T00:00:00",
          "2022-12-05T00:00:00",
          "2022-12-22T00:00:00",
          "2022-12-28T00:00:00",
          "2022-12-07T00:00:00",
          "2022-12-17T00:00:00",
          "2022-12-16T00:00:00",
          "2022-12-14T00:00:00",
          "2022-12-15T00:00:00"
         ],
         "xaxis": "x12",
         "y": [
          6398.8,
          6344.63,
          6338.2,
          6325,
          6306,
          6290.8,
          6247.4,
          6220.599999999999,
          6206.1,
          6156.2,
          6142.633,
          6142.1,
          6125.2,
          6096.625,
          6093.319,
          6062.9,
          6056.33,
          6036.4,
          6023.2,
          6023.1,
          5999.8,
          5990.4,
          5945.1,
          5879.3,
          5875.725,
          5867.778,
          5864.3,
          5806.9,
          5448.4,
          5330.75,
          5076.8
         ],
         "yaxis": "y12"
        },
        {
         "fillpattern": {
          "shape": ""
         },
         "hovertemplate": "variable=Ajuste P48<br>datetime=%{x}<br>value=%{y}<extra></extra>",
         "legendgroup": "Ajuste P48",
         "line": {
          "color": "#00cc96"
         },
         "marker": {
          "symbol": "circle"
         },
         "mode": "lines",
         "name": "Ajuste P48",
         "orientation": "v",
         "showlegend": true,
         "stackgroup": "1",
         "type": "scatter",
         "x": [
          "2022-12-20T00:00:00",
          "2022-12-25T00:00:00",
          "2022-12-18T00:00:00",
          "2022-12-21T00:00:00",
          "2022-12-01T00:00:00",
          "2022-12-12T00:00:00",
          "2022-12-30T00:00:00",
          "2022-12-02T00:00:00",
          "2022-12-27T00:00:00",
          "2022-12-23T00:00:00",
          "2022-12-26T00:00:00",
          "2022-12-22T00:00:00",
          "2022-12-19T00:00:00",
          "2022-12-13T00:00:00",
          "2022-12-24T00:00:00",
          "2022-12-17T00:00:00",
          "2022-12-28T00:00:00",
          "2022-12-11T00:00:00",
          "2022-12-15T00:00:00",
          "2022-12-07T00:00:00",
          "2022-12-06T00:00:00",
          "2022-12-05T00:00:00",
          "2022-12-31T00:00:00",
          "2022-12-04T00:00:00",
          "2022-12-10T00:00:00",
          "2022-12-03T00:00:00",
          "2022-12-14T00:00:00",
          "2022-12-29T00:00:00",
          "2022-12-16T00:00:00",
          "2022-12-08T00:00:00",
          "2022-12-09T00:00:00"
         ],
         "xaxis": "x5",
         "y": [
          6075,
          5550,
          3348.55,
          2506.7,
          1535,
          302.625,
          252,
          197.5,
          26,
          -763.9,
          -1237.5,
          -1653.125,
          -2425,
          -3075,
          -3122,
          -3482.5,
          -3719,
          -4664.7,
          -7369.6,
          -7852.5,
          -8100,
          -9950.55,
          -10106.25,
          -10867.5,
          -11488.5,
          -12112.5,
          -12170.425,
          -13200,
          -17130,
          -19790,
          -21159.55
         ],
         "yaxis": "y5"
        },
        {
         "fillpattern": {
          "shape": ""
         },
         "hovertemplate": "variable=Saldo Marruecos<br>datetime=%{x}<br>value=%{y}<extra></extra>",
         "legendgroup": "Saldo Marruecos",
         "line": {
          "color": "#ab63fa"
         },
         "marker": {
          "symbol": "circle"
         },
         "mode": "lines",
         "name": "Saldo Marruecos",
         "orientation": "v",
         "showlegend": true,
         "stackgroup": "1",
         "type": "scatter",
         "x": [
          "2022-12-11T00:00:00",
          "2022-12-09T00:00:00",
          "2022-12-10T00:00:00",
          "2022-12-08T00:00:00",
          "2022-12-04T00:00:00",
          "2022-12-14T00:00:00",
          "2022-12-17T00:00:00",
          "2022-12-15T00:00:00",
          "2022-12-18T00:00:00",
          "2022-12-27T00:00:00",
          "2022-12-07T00:00:00",
          "2022-12-05T00:00:00",
          "2022-12-13T00:00:00",
          "2022-12-16T00:00:00",
          "2022-12-06T00:00:00",
          "2022-12-12T00:00:00",
          "2022-12-28T00:00:00",
          "2022-12-02T00:00:00",
          "2022-12-19T00:00:00",
          "2022-12-01T00:00:00",
          "2022-12-29T00:00:00",
          "2022-12-21T00:00:00",
          "2022-12-20T00:00:00",
          "2022-12-26T00:00:00",
          "2022-12-22T00:00:00",
          "2022-12-23T00:00:00",
          "2022-12-03T00:00:00",
          "2022-12-24T00:00:00",
          "2022-12-25T00:00:00",
          "2022-12-30T00:00:00",
          "2022-12-31T00:00:00"
         ],
         "xaxis": "x6",
         "y": [
          4262.9,
          -74.60000000000002,
          -158.39999999999998,
          -552.5,
          -1390,
          -1430,
          -1490,
          -1500,
          -1530,
          -1870,
          -1940,
          -2020,
          -2070,
          -2510,
          -3020,
          -3850.5,
          -4670,
          -5500,
          -5950,
          -6850,
          -6934,
          -6940,
          -7140.5,
          -7340,
          -8860,
          -9210,
          -9363,
          -10217.8,
          -12060,
          -12840,
          -13567.5
         ],
         "yaxis": "y6"
        },
        {
         "fillpattern": {
          "shape": ""
         },
         "hovertemplate": "variable=Saldo Andorra<br>datetime=%{x}<br>value=%{y}<extra></extra>",
         "legendgroup": "Saldo Andorra",
         "line": {
          "color": "#FFA15A"
         },
         "marker": {
          "symbol": "circle"
         },
         "mode": "lines",
         "name": "Saldo Andorra",
         "orientation": "v",
         "showlegend": true,
         "stackgroup": "1",
         "type": "scatter",
         "x": [
          "2022-12-19T00:00:00",
          "2022-12-28T00:00:00",
          "2022-12-27T00:00:00",
          "2022-12-12T00:00:00",
          "2022-12-26T00:00:00",
          "2022-12-04T00:00:00",
          "2022-12-08T00:00:00",
          "2022-12-05T00:00:00",
          "2022-12-25T00:00:00",
          "2022-12-29T00:00:00",
          "2022-12-30T00:00:00",
          "2022-12-01T00:00:00",
          "2022-12-03T00:00:00",
          "2022-12-20T00:00:00",
          "2022-12-22T00:00:00",
          "2022-12-23T00:00:00",
          "2022-12-09T00:00:00",
          "2022-12-21T00:00:00",
          "2022-12-24T00:00:00",
          "2022-12-16T00:00:00",
          "2022-12-13T00:00:00",
          "2022-12-02T00:00:00",
          "2022-12-11T00:00:00",
          "2022-12-18T00:00:00",
          "2022-12-31T00:00:00",
          "2022-12-17T00:00:00",
          "2022-12-10T00:00:00",
          "2022-12-14T00:00:00",
          "2022-12-15T00:00:00",
          "2022-12-06T00:00:00",
          "2022-12-07T00:00:00"
         ],
         "xaxis": "x7",
         "y": [
          -943,
          -1041,
          -1082,
          -1084,
          -1110,
          -1166,
          -1179,
          -1193,
          -1210,
          -1215,
          -1217,
          -1241,
          -1268,
          -1269,
          -1272,
          -1289,
          -1308,
          -1314,
          -1341,
          -1351,
          -1369,
          -1385,
          -1401,
          -1420,
          -1436.5,
          -1498,
          -1504,
          -1518,
          -1533,
          -2089,
          -2383
         ],
         "yaxis": "y7"
        },
        {
         "fillpattern": {
          "shape": ""
         },
         "hovertemplate": "variable=Enlace Baleares<br>datetime=%{x}<br>value=%{y}<extra></extra>",
         "legendgroup": "Enlace Baleares",
         "line": {
          "color": "#19d3f3"
         },
         "marker": {
          "symbol": "circle"
         },
         "mode": "lines",
         "name": "Enlace Baleares",
         "orientation": "v",
         "showlegend": true,
         "stackgroup": "1",
         "type": "scatter",
         "x": [
          "2022-12-05T00:00:00",
          "2022-12-04T00:00:00",
          "2022-12-06T00:00:00",
          "2022-12-11T00:00:00",
          "2022-12-01T00:00:00",
          "2022-12-07T00:00:00",
          "2022-12-09T00:00:00",
          "2022-12-02T00:00:00",
          "2022-12-15T00:00:00",
          "2022-12-17T00:00:00",
          "2022-12-16T00:00:00",
          "2022-12-26T00:00:00",
          "2022-12-03T00:00:00",
          "2022-12-08T00:00:00",
          "2022-12-10T00:00:00",
          "2022-12-25T00:00:00",
          "2022-12-27T00:00:00",
          "2022-12-13T00:00:00",
          "2022-12-14T00:00:00",
          "2022-12-18T00:00:00",
          "2022-12-24T00:00:00",
          "2022-12-31T00:00:00",
          "2022-12-23T00:00:00",
          "2022-12-19T00:00:00",
          "2022-12-22T00:00:00",
          "2022-12-12T00:00:00",
          "2022-12-28T00:00:00",
          "2022-12-20T00:00:00",
          "2022-12-21T00:00:00",
          "2022-12-29T00:00:00",
          "2022-12-30T00:00:00"
         ],
         "xaxis": "x8",
         "y": [
          -979.1999999999999,
          -979.1999999999999,
          -979.1999999999999,
          -1227.2,
          -1325.6,
          -1326,
          -1347,
          -1475.4,
          -1548.3999999999999,
          -1895.8,
          -1899.3,
          -2303.9,
          -2502.3,
          -2572.7,
          -2641.2,
          -2665.6,
          -2673.8,
          -2722.3,
          -2808.4,
          -3042.8,
          -3230,
          -3334,
          -3431,
          -3579,
          -3641,
          -3740.1,
          -3794,
          -3848,
          -3848,
          -3981,
          -4141
         ],
         "yaxis": "y8"
        },
        {
         "fillpattern": {
          "shape": ""
         },
         "hovertemplate": "variable=Saldo Francia<br>datetime=%{x}<br>value=%{y}<extra></extra>",
         "legendgroup": "Saldo Francia",
         "line": {
          "color": "#FF6692"
         },
         "marker": {
          "symbol": "circle"
         },
         "mode": "lines",
         "name": "Saldo Francia",
         "orientation": "v",
         "showlegend": true,
         "stackgroup": "1",
         "type": "scatter",
         "x": [
          "2022-12-28T00:00:00",
          "2022-12-26T00:00:00",
          "2022-12-31T00:00:00",
          "2022-12-29T00:00:00",
          "2022-12-27T00:00:00",
          "2022-12-14T00:00:00",
          "2022-12-01T00:00:00",
          "2022-12-15T00:00:00",
          "2022-12-13T00:00:00",
          "2022-12-12T00:00:00",
          "2022-12-20T00:00:00",
          "2022-12-02T00:00:00",
          "2022-12-16T00:00:00",
          "2022-12-19T00:00:00",
          "2022-12-18T00:00:00",
          "2022-12-09T00:00:00",
          "2022-12-30T00:00:00",
          "2022-12-17T00:00:00",
          "2022-12-05T00:00:00",
          "2022-12-08T00:00:00",
          "2022-12-07T00:00:00",
          "2022-12-23T00:00:00",
          "2022-12-22T00:00:00",
          "2022-12-11T00:00:00",
          "2022-12-06T00:00:00",
          "2022-12-25T00:00:00",
          "2022-12-24T00:00:00",
          "2022-12-04T00:00:00",
          "2022-12-03T00:00:00",
          "2022-12-21T00:00:00",
          "2022-12-10T00:00:00"
         ],
         "xaxis": "x",
         "y": [
          -1296.6000000000004,
          -7984.267,
          -15145,
          -19261.8,
          -19558.7,
          -38475,
          -40800,
          -42500,
          -42986,
          -46144.667,
          -46631.9,
          -48150,
          -49410,
          -50335.25,
          -50888,
          -53790,
          -54318.5,
          -54732,
          -54872.833,
          -55724.833,
          -58577,
          -60436,
          -60499.333,
          -61255,
          -61658,
          -63742,
          -63965.5,
          -65554.05,
          -66856.133,
          -67382,
          -68130.001
         ],
         "yaxis": "y"
        },
        {
         "fillpattern": {
          "shape": ""
         },
         "hovertemplate": "variable=Consumo bombeo<br>datetime=%{x}<br>value=%{y}<extra></extra>",
         "legendgroup": "Consumo bombeo",
         "line": {
          "color": "#B6E880"
         },
         "marker": {
          "symbol": "circle"
         },
         "mode": "lines",
         "name": "Consumo bombeo",
         "orientation": "v",
         "showlegend": true,
         "stackgroup": "1",
         "type": "scatter",
         "x": [
          "2022-12-03T00:00:00",
          "2022-12-04T00:00:00",
          "2022-12-05T00:00:00",
          "2022-12-02T00:00:00",
          "2022-12-16T00:00:00",
          "2022-12-07T00:00:00",
          "2022-12-01T00:00:00",
          "2022-12-17T00:00:00",
          "2022-12-06T00:00:00",
          "2022-12-27T00:00:00",
          "2022-12-08T00:00:00",
          "2022-12-15T00:00:00",
          "2022-12-09T00:00:00",
          "2022-12-23T00:00:00",
          "2022-12-22T00:00:00",
          "2022-12-13T00:00:00",
          "2022-12-26T00:00:00",
          "2022-12-20T00:00:00",
          "2022-12-14T00:00:00",
          "2022-12-11T00:00:00",
          "2022-12-21T00:00:00",
          "2022-12-19T00:00:00",
          "2022-12-28T00:00:00",
          "2022-12-12T00:00:00",
          "2022-12-10T00:00:00",
          "2022-12-29T00:00:00",
          "2022-12-24T00:00:00",
          "2022-12-18T00:00:00",
          "2022-12-25T00:00:00",
          "2022-12-31T00:00:00",
          "2022-12-30T00:00:00"
         ],
         "xaxis": "x2",
         "y": [
          -6350.82,
          -6631.3,
          -7979.75,
          -9484.4,
          -10878.15,
          -11353.117,
          -11761.025,
          -13773.475,
          -14555.482,
          -18237.492,
          -19120.625,
          -21664.317,
          -22253.2,
          -24266.725000000002,
          -25196.675,
          -25828.125,
          -26552.1,
          -27981.475,
          -28083.600000000002,
          -28294.392,
          -30002.875,
          -32087.538,
          -34991.767,
          -35893.1,
          -37460.675,
          -40302.675,
          -49923,
          -50411.508,
          -52764.508,
          -65530.45,
          -67283.325
         ],
         "yaxis": "y2"
        }
       ],
       "layout": {
        "annotations": [
         {
          "font": {},
          "showarrow": false,
          "text": "variable=Saldo Francia",
          "x": 0.1175,
          "xanchor": "center",
          "xref": "paper",
          "y": 0.144,
          "yanchor": "bottom",
          "yref": "paper"
         },
         {
          "font": {},
          "showarrow": false,
          "text": "variable=Consumo bombeo",
          "x": 0.3725,
          "xanchor": "center",
          "xref": "paper",
          "y": 0.144,
          "yanchor": "bottom",
          "yref": "paper"
         },
         {
          "font": {},
          "showarrow": false,
          "text": "variable=Ajuste P48",
          "x": 0.1175,
          "xanchor": "center",
          "xref": "paper",
          "y": 0.358,
          "yanchor": "bottom",
          "yref": "paper"
         },
         {
          "font": {},
          "showarrow": false,
          "text": "variable=Saldo Marruecos",
          "x": 0.3725,
          "xanchor": "center",
          "xref": "paper",
          "y": 0.358,
          "yanchor": "bottom",
          "yref": "paper"
         },
         {
          "font": {},
          "showarrow": false,
          "text": "variable=Saldo Andorra",
          "x": 0.6275,
          "xanchor": "center",
          "xref": "paper",
          "y": 0.358,
          "yanchor": "bottom",
          "yref": "paper"
         },
         {
          "font": {},
          "showarrow": false,
          "text": "variable=Enlace Baleares",
          "x": 0.8824999999999998,
          "xanchor": "center",
          "xref": "paper",
          "y": 0.358,
          "yanchor": "bottom",
          "yref": "paper"
         },
         {
          "font": {},
          "showarrow": false,
          "text": "variable=Turbinación bombeo",
          "x": 0.1175,
          "xanchor": "center",
          "xref": "paper",
          "y": 0.572,
          "yanchor": "bottom",
          "yref": "paper"
         },
         {
          "font": {},
          "showarrow": false,
          "text": "variable=otras renovables",
          "x": 0.3725,
          "xanchor": "center",
          "xref": "paper",
          "y": 0.572,
          "yanchor": "bottom",
          "yref": "paper"
         },
         {
          "font": {},
          "showarrow": false,
          "text": "variable=Solar térmica",
          "x": 0.6275,
          "xanchor": "center",
          "xref": "paper",
          "y": 0.572,
          "yanchor": "bottom",
          "yref": "paper"
         },
         {
          "font": {},
          "showarrow": false,
          "text": "variable=Residuos no renovables",
          "x": 0.8824999999999998,
          "xanchor": "center",
          "xref": "paper",
          "y": 0.572,
          "yanchor": "bottom",
          "yref": "paper"
         },
         {
          "font": {},
          "showarrow": false,
          "text": "variable=Saldo Portugal",
          "x": 0.1175,
          "xanchor": "center",
          "xref": "paper",
          "y": 0.7859999999999999,
          "yanchor": "bottom",
          "yref": "paper"
         },
         {
          "font": {},
          "showarrow": false,
          "text": "variable=Solar fotovoltaica",
          "x": 0.3725,
          "xanchor": "center",
          "xref": "paper",
          "y": 0.7859999999999999,
          "yanchor": "bottom",
          "yref": "paper"
         },
         {
          "font": {},
          "showarrow": false,
          "text": "variable=Cogeneración",
          "x": 0.6275,
          "xanchor": "center",
          "xref": "paper",
          "y": 0.7859999999999999,
          "yanchor": "bottom",
          "yref": "paper"
         },
         {
          "font": {},
          "showarrow": false,
          "text": "variable=Carbón",
          "x": 0.8824999999999998,
          "xanchor": "center",
          "xref": "paper",
          "y": 0.7859999999999999,
          "yanchor": "bottom",
          "yref": "paper"
         },
         {
          "font": {},
          "showarrow": false,
          "text": "variable=Eólica",
          "x": 0.1175,
          "xanchor": "center",
          "xref": "paper",
          "y": 1,
          "yanchor": "bottom",
          "yref": "paper"
         },
         {
          "font": {},
          "showarrow": false,
          "text": "variable=Ciclo combinado",
          "x": 0.3725,
          "xanchor": "center",
          "xref": "paper",
          "y": 1,
          "yanchor": "bottom",
          "yref": "paper"
         },
         {
          "font": {},
          "showarrow": false,
          "text": "variable=Nuclear",
          "x": 0.6275,
          "xanchor": "center",
          "xref": "paper",
          "y": 1,
          "yanchor": "bottom",
          "yref": "paper"
         },
         {
          "font": {},
          "showarrow": false,
          "text": "variable=Hidráulica",
          "x": 0.8824999999999998,
          "xanchor": "center",
          "xref": "paper",
          "y": 1,
          "yanchor": "bottom",
          "yref": "paper"
         }
        ],
        "height": 700,
        "legend": {
         "title": {
          "text": "variable"
         },
         "tracegroupgap": 0
        },
        "margin": {
         "t": 60
        },
        "template": {
         "data": {
          "bar": [
           {
            "error_x": {
             "color": "#2a3f5f"
            },
            "error_y": {
             "color": "#2a3f5f"
            },
            "marker": {
             "line": {
              "color": "#E5ECF6",
              "width": 0.5
             },
             "pattern": {
              "fillmode": "overlay",
              "size": 10,
              "solidity": 0.2
             }
            },
            "type": "bar"
           }
          ],
          "barpolar": [
           {
            "marker": {
             "line": {
              "color": "#E5ECF6",
              "width": 0.5
             },
             "pattern": {
              "fillmode": "overlay",
              "size": 10,
              "solidity": 0.2
             }
            },
            "type": "barpolar"
           }
          ],
          "carpet": [
           {
            "aaxis": {
             "endlinecolor": "#2a3f5f",
             "gridcolor": "white",
             "linecolor": "white",
             "minorgridcolor": "white",
             "startlinecolor": "#2a3f5f"
            },
            "baxis": {
             "endlinecolor": "#2a3f5f",
             "gridcolor": "white",
             "linecolor": "white",
             "minorgridcolor": "white",
             "startlinecolor": "#2a3f5f"
            },
            "type": "carpet"
           }
          ],
          "choropleth": [
           {
            "colorbar": {
             "outlinewidth": 0,
             "ticks": ""
            },
            "type": "choropleth"
           }
          ],
          "contour": [
           {
            "colorbar": {
             "outlinewidth": 0,
             "ticks": ""
            },
            "colorscale": [
             [
              0,
              "#0d0887"
             ],
             [
              0.1111111111111111,
              "#46039f"
             ],
             [
              0.2222222222222222,
              "#7201a8"
             ],
             [
              0.3333333333333333,
              "#9c179e"
             ],
             [
              0.4444444444444444,
              "#bd3786"
             ],
             [
              0.5555555555555556,
              "#d8576b"
             ],
             [
              0.6666666666666666,
              "#ed7953"
             ],
             [
              0.7777777777777778,
              "#fb9f3a"
             ],
             [
              0.8888888888888888,
              "#fdca26"
             ],
             [
              1,
              "#f0f921"
             ]
            ],
            "type": "contour"
           }
          ],
          "contourcarpet": [
           {
            "colorbar": {
             "outlinewidth": 0,
             "ticks": ""
            },
            "type": "contourcarpet"
           }
          ],
          "heatmap": [
           {
            "colorbar": {
             "outlinewidth": 0,
             "ticks": ""
            },
            "colorscale": [
             [
              0,
              "#0d0887"
             ],
             [
              0.1111111111111111,
              "#46039f"
             ],
             [
              0.2222222222222222,
              "#7201a8"
             ],
             [
              0.3333333333333333,
              "#9c179e"
             ],
             [
              0.4444444444444444,
              "#bd3786"
             ],
             [
              0.5555555555555556,
              "#d8576b"
             ],
             [
              0.6666666666666666,
              "#ed7953"
             ],
             [
              0.7777777777777778,
              "#fb9f3a"
             ],
             [
              0.8888888888888888,
              "#fdca26"
             ],
             [
              1,
              "#f0f921"
             ]
            ],
            "type": "heatmap"
           }
          ],
          "heatmapgl": [
           {
            "colorbar": {
             "outlinewidth": 0,
             "ticks": ""
            },
            "colorscale": [
             [
              0,
              "#0d0887"
             ],
             [
              0.1111111111111111,
              "#46039f"
             ],
             [
              0.2222222222222222,
              "#7201a8"
             ],
             [
              0.3333333333333333,
              "#9c179e"
             ],
             [
              0.4444444444444444,
              "#bd3786"
             ],
             [
              0.5555555555555556,
              "#d8576b"
             ],
             [
              0.6666666666666666,
              "#ed7953"
             ],
             [
              0.7777777777777778,
              "#fb9f3a"
             ],
             [
              0.8888888888888888,
              "#fdca26"
             ],
             [
              1,
              "#f0f921"
             ]
            ],
            "type": "heatmapgl"
           }
          ],
          "histogram": [
           {
            "marker": {
             "pattern": {
              "fillmode": "overlay",
              "size": 10,
              "solidity": 0.2
             }
            },
            "type": "histogram"
           }
          ],
          "histogram2d": [
           {
            "colorbar": {
             "outlinewidth": 0,
             "ticks": ""
            },
            "colorscale": [
             [
              0,
              "#0d0887"
             ],
             [
              0.1111111111111111,
              "#46039f"
             ],
             [
              0.2222222222222222,
              "#7201a8"
             ],
             [
              0.3333333333333333,
              "#9c179e"
             ],
             [
              0.4444444444444444,
              "#bd3786"
             ],
             [
              0.5555555555555556,
              "#d8576b"
             ],
             [
              0.6666666666666666,
              "#ed7953"
             ],
             [
              0.7777777777777778,
              "#fb9f3a"
             ],
             [
              0.8888888888888888,
              "#fdca26"
             ],
             [
              1,
              "#f0f921"
             ]
            ],
            "type": "histogram2d"
           }
          ],
          "histogram2dcontour": [
           {
            "colorbar": {
             "outlinewidth": 0,
             "ticks": ""
            },
            "colorscale": [
             [
              0,
              "#0d0887"
             ],
             [
              0.1111111111111111,
              "#46039f"
             ],
             [
              0.2222222222222222,
              "#7201a8"
             ],
             [
              0.3333333333333333,
              "#9c179e"
             ],
             [
              0.4444444444444444,
              "#bd3786"
             ],
             [
              0.5555555555555556,
              "#d8576b"
             ],
             [
              0.6666666666666666,
              "#ed7953"
             ],
             [
              0.7777777777777778,
              "#fb9f3a"
             ],
             [
              0.8888888888888888,
              "#fdca26"
             ],
             [
              1,
              "#f0f921"
             ]
            ],
            "type": "histogram2dcontour"
           }
          ],
          "mesh3d": [
           {
            "colorbar": {
             "outlinewidth": 0,
             "ticks": ""
            },
            "type": "mesh3d"
           }
          ],
          "parcoords": [
           {
            "line": {
             "colorbar": {
              "outlinewidth": 0,
              "ticks": ""
             }
            },
            "type": "parcoords"
           }
          ],
          "pie": [
           {
            "automargin": true,
            "type": "pie"
           }
          ],
          "scatter": [
           {
            "fillpattern": {
             "fillmode": "overlay",
             "size": 10,
             "solidity": 0.2
            },
            "type": "scatter"
           }
          ],
          "scatter3d": [
           {
            "line": {
             "colorbar": {
              "outlinewidth": 0,
              "ticks": ""
             }
            },
            "marker": {
             "colorbar": {
              "outlinewidth": 0,
              "ticks": ""
             }
            },
            "type": "scatter3d"
           }
          ],
          "scattercarpet": [
           {
            "marker": {
             "colorbar": {
              "outlinewidth": 0,
              "ticks": ""
             }
            },
            "type": "scattercarpet"
           }
          ],
          "scattergeo": [
           {
            "marker": {
             "colorbar": {
              "outlinewidth": 0,
              "ticks": ""
             }
            },
            "type": "scattergeo"
           }
          ],
          "scattergl": [
           {
            "marker": {
             "colorbar": {
              "outlinewidth": 0,
              "ticks": ""
             }
            },
            "type": "scattergl"
           }
          ],
          "scattermapbox": [
           {
            "marker": {
             "colorbar": {
              "outlinewidth": 0,
              "ticks": ""
             }
            },
            "type": "scattermapbox"
           }
          ],
          "scatterpolar": [
           {
            "marker": {
             "colorbar": {
              "outlinewidth": 0,
              "ticks": ""
             }
            },
            "type": "scatterpolar"
           }
          ],
          "scatterpolargl": [
           {
            "marker": {
             "colorbar": {
              "outlinewidth": 0,
              "ticks": ""
             }
            },
            "type": "scatterpolargl"
           }
          ],
          "scatterternary": [
           {
            "marker": {
             "colorbar": {
              "outlinewidth": 0,
              "ticks": ""
             }
            },
            "type": "scatterternary"
           }
          ],
          "surface": [
           {
            "colorbar": {
             "outlinewidth": 0,
             "ticks": ""
            },
            "colorscale": [
             [
              0,
              "#0d0887"
             ],
             [
              0.1111111111111111,
              "#46039f"
             ],
             [
              0.2222222222222222,
              "#7201a8"
             ],
             [
              0.3333333333333333,
              "#9c179e"
             ],
             [
              0.4444444444444444,
              "#bd3786"
             ],
             [
              0.5555555555555556,
              "#d8576b"
             ],
             [
              0.6666666666666666,
              "#ed7953"
             ],
             [
              0.7777777777777778,
              "#fb9f3a"
             ],
             [
              0.8888888888888888,
              "#fdca26"
             ],
             [
              1,
              "#f0f921"
             ]
            ],
            "type": "surface"
           }
          ],
          "table": [
           {
            "cells": {
             "fill": {
              "color": "#EBF0F8"
             },
             "line": {
              "color": "white"
             }
            },
            "header": {
             "fill": {
              "color": "#C8D4E3"
             },
             "line": {
              "color": "white"
             }
            },
            "type": "table"
           }
          ]
         },
         "layout": {
          "annotationdefaults": {
           "arrowcolor": "#2a3f5f",
           "arrowhead": 0,
           "arrowwidth": 1
          },
          "autotypenumbers": "strict",
          "coloraxis": {
           "colorbar": {
            "outlinewidth": 0,
            "ticks": ""
           }
          },
          "colorscale": {
           "diverging": [
            [
             0,
             "#8e0152"
            ],
            [
             0.1,
             "#c51b7d"
            ],
            [
             0.2,
             "#de77ae"
            ],
            [
             0.3,
             "#f1b6da"
            ],
            [
             0.4,
             "#fde0ef"
            ],
            [
             0.5,
             "#f7f7f7"
            ],
            [
             0.6,
             "#e6f5d0"
            ],
            [
             0.7,
             "#b8e186"
            ],
            [
             0.8,
             "#7fbc41"
            ],
            [
             0.9,
             "#4d9221"
            ],
            [
             1,
             "#276419"
            ]
           ],
           "sequential": [
            [
             0,
             "#0d0887"
            ],
            [
             0.1111111111111111,
             "#46039f"
            ],
            [
             0.2222222222222222,
             "#7201a8"
            ],
            [
             0.3333333333333333,
             "#9c179e"
            ],
            [
             0.4444444444444444,
             "#bd3786"
            ],
            [
             0.5555555555555556,
             "#d8576b"
            ],
            [
             0.6666666666666666,
             "#ed7953"
            ],
            [
             0.7777777777777778,
             "#fb9f3a"
            ],
            [
             0.8888888888888888,
             "#fdca26"
            ],
            [
             1,
             "#f0f921"
            ]
           ],
           "sequentialminus": [
            [
             0,
             "#0d0887"
            ],
            [
             0.1111111111111111,
             "#46039f"
            ],
            [
             0.2222222222222222,
             "#7201a8"
            ],
            [
             0.3333333333333333,
             "#9c179e"
            ],
            [
             0.4444444444444444,
             "#bd3786"
            ],
            [
             0.5555555555555556,
             "#d8576b"
            ],
            [
             0.6666666666666666,
             "#ed7953"
            ],
            [
             0.7777777777777778,
             "#fb9f3a"
            ],
            [
             0.8888888888888888,
             "#fdca26"
            ],
            [
             1,
             "#f0f921"
            ]
           ]
          },
          "colorway": [
           "#636efa",
           "#EF553B",
           "#00cc96",
           "#ab63fa",
           "#FFA15A",
           "#19d3f3",
           "#FF6692",
           "#B6E880",
           "#FF97FF",
           "#FECB52"
          ],
          "font": {
           "color": "#2a3f5f"
          },
          "geo": {
           "bgcolor": "white",
           "lakecolor": "white",
           "landcolor": "#E5ECF6",
           "showlakes": true,
           "showland": true,
           "subunitcolor": "white"
          },
          "hoverlabel": {
           "align": "left"
          },
          "hovermode": "closest",
          "mapbox": {
           "style": "light"
          },
          "paper_bgcolor": "white",
          "plot_bgcolor": "#E5ECF6",
          "polar": {
           "angularaxis": {
            "gridcolor": "white",
            "linecolor": "white",
            "ticks": ""
           },
           "bgcolor": "#E5ECF6",
           "radialaxis": {
            "gridcolor": "white",
            "linecolor": "white",
            "ticks": ""
           }
          },
          "scene": {
           "xaxis": {
            "backgroundcolor": "#E5ECF6",
            "gridcolor": "white",
            "gridwidth": 2,
            "linecolor": "white",
            "showbackground": true,
            "ticks": "",
            "zerolinecolor": "white"
           },
           "yaxis": {
            "backgroundcolor": "#E5ECF6",
            "gridcolor": "white",
            "gridwidth": 2,
            "linecolor": "white",
            "showbackground": true,
            "ticks": "",
            "zerolinecolor": "white"
           },
           "zaxis": {
            "backgroundcolor": "#E5ECF6",
            "gridcolor": "white",
            "gridwidth": 2,
            "linecolor": "white",
            "showbackground": true,
            "ticks": "",
            "zerolinecolor": "white"
           }
          },
          "shapedefaults": {
           "line": {
            "color": "#2a3f5f"
           }
          },
          "ternary": {
           "aaxis": {
            "gridcolor": "white",
            "linecolor": "white",
            "ticks": ""
           },
           "baxis": {
            "gridcolor": "white",
            "linecolor": "white",
            "ticks": ""
           },
           "bgcolor": "#E5ECF6",
           "caxis": {
            "gridcolor": "white",
            "linecolor": "white",
            "ticks": ""
           }
          },
          "title": {
           "x": 0.05
          },
          "xaxis": {
           "automargin": true,
           "gridcolor": "white",
           "linecolor": "white",
           "ticks": "",
           "title": {
            "standoff": 15
           },
           "zerolinecolor": "white",
           "zerolinewidth": 2
          },
          "yaxis": {
           "automargin": true,
           "gridcolor": "white",
           "linecolor": "white",
           "ticks": "",
           "title": {
            "standoff": 15
           },
           "zerolinecolor": "white",
           "zerolinewidth": 2
          }
         }
        },
        "xaxis": {
         "anchor": "y",
         "domain": [
          0,
          0.235
         ],
         "title": {
          "text": "datetime"
         }
        },
        "xaxis10": {
         "anchor": "y10",
         "domain": [
          0.255,
          0.49
         ],
         "matches": "x",
         "showticklabels": false
        },
        "xaxis11": {
         "anchor": "y11",
         "domain": [
          0.51,
          0.745
         ],
         "matches": "x",
         "showticklabels": false
        },
        "xaxis12": {
         "anchor": "y12",
         "domain": [
          0.7649999999999999,
          0.9999999999999999
         ],
         "matches": "x",
         "showticklabels": false
        },
        "xaxis13": {
         "anchor": "y13",
         "domain": [
          0,
          0.235
         ],
         "matches": "x",
         "showticklabels": false
        },
        "xaxis14": {
         "anchor": "y14",
         "domain": [
          0.255,
          0.49
         ],
         "matches": "x",
         "showticklabels": false
        },
        "xaxis15": {
         "anchor": "y15",
         "domain": [
          0.51,
          0.745
         ],
         "matches": "x",
         "showticklabels": false
        },
        "xaxis16": {
         "anchor": "y16",
         "domain": [
          0.7649999999999999,
          0.9999999999999999
         ],
         "matches": "x",
         "showticklabels": false
        },
        "xaxis17": {
         "anchor": "y17",
         "domain": [
          0,
          0.235
         ],
         "matches": "x",
         "showticklabels": false
        },
        "xaxis18": {
         "anchor": "y18",
         "domain": [
          0.255,
          0.49
         ],
         "matches": "x",
         "showticklabels": false
        },
        "xaxis19": {
         "anchor": "y19",
         "domain": [
          0.51,
          0.745
         ],
         "matches": "x",
         "showticklabels": false
        },
        "xaxis2": {
         "anchor": "y2",
         "domain": [
          0.255,
          0.49
         ],
         "matches": "x",
         "title": {
          "text": "datetime"
         }
        },
        "xaxis20": {
         "anchor": "y20",
         "domain": [
          0.7649999999999999,
          0.9999999999999999
         ],
         "matches": "x",
         "showticklabels": false
        },
        "xaxis3": {
         "anchor": "y3",
         "domain": [
          0.51,
          0.745
         ],
         "matches": "x",
         "title": {
          "text": "datetime"
         }
        },
        "xaxis4": {
         "anchor": "y4",
         "domain": [
          0.7649999999999999,
          0.9999999999999999
         ],
         "matches": "x",
         "title": {
          "text": "datetime"
         }
        },
        "xaxis5": {
         "anchor": "y5",
         "domain": [
          0,
          0.235
         ],
         "matches": "x",
         "showticklabels": false
        },
        "xaxis6": {
         "anchor": "y6",
         "domain": [
          0.255,
          0.49
         ],
         "matches": "x",
         "showticklabels": false
        },
        "xaxis7": {
         "anchor": "y7",
         "domain": [
          0.51,
          0.745
         ],
         "matches": "x",
         "showticklabels": false
        },
        "xaxis8": {
         "anchor": "y8",
         "domain": [
          0.7649999999999999,
          0.9999999999999999
         ],
         "matches": "x",
         "showticklabels": false
        },
        "xaxis9": {
         "anchor": "y9",
         "domain": [
          0,
          0.235
         ],
         "matches": "x",
         "showticklabels": false
        },
        "yaxis": {
         "anchor": "x",
         "domain": [
          0,
          0.144
         ],
         "title": {
          "text": "value"
         }
        },
        "yaxis10": {
         "anchor": "x10",
         "domain": [
          0.428,
          0.572
         ],
         "matches": "y",
         "showticklabels": false
        },
        "yaxis11": {
         "anchor": "x11",
         "domain": [
          0.428,
          0.572
         ],
         "matches": "y",
         "showticklabels": false
        },
        "yaxis12": {
         "anchor": "x12",
         "domain": [
          0.428,
          0.572
         ],
         "matches": "y",
         "showticklabels": false
        },
        "yaxis13": {
         "anchor": "x13",
         "domain": [
          0.6419999999999999,
          0.7859999999999999
         ],
         "matches": "y",
         "title": {
          "text": "value"
         }
        },
        "yaxis14": {
         "anchor": "x14",
         "domain": [
          0.6419999999999999,
          0.7859999999999999
         ],
         "matches": "y",
         "showticklabels": false
        },
        "yaxis15": {
         "anchor": "x15",
         "domain": [
          0.6419999999999999,
          0.7859999999999999
         ],
         "matches": "y",
         "showticklabels": false
        },
        "yaxis16": {
         "anchor": "x16",
         "domain": [
          0.6419999999999999,
          0.7859999999999999
         ],
         "matches": "y",
         "showticklabels": false
        },
        "yaxis17": {
         "anchor": "x17",
         "domain": [
          0.856,
          1
         ],
         "matches": "y",
         "title": {
          "text": "value"
         }
        },
        "yaxis18": {
         "anchor": "x18",
         "domain": [
          0.856,
          1
         ],
         "matches": "y",
         "showticklabels": false
        },
        "yaxis19": {
         "anchor": "x19",
         "domain": [
          0.856,
          1
         ],
         "matches": "y",
         "showticklabels": false
        },
        "yaxis2": {
         "anchor": "x2",
         "domain": [
          0,
          0.144
         ],
         "matches": "y",
         "showticklabels": false
        },
        "yaxis20": {
         "anchor": "x20",
         "domain": [
          0.856,
          1
         ],
         "matches": "y",
         "showticklabels": false
        },
        "yaxis3": {
         "anchor": "x3",
         "domain": [
          0,
          0.144
         ],
         "matches": "y",
         "showticklabels": false
        },
        "yaxis4": {
         "anchor": "x4",
         "domain": [
          0,
          0.144
         ],
         "matches": "y",
         "showticklabels": false
        },
        "yaxis5": {
         "anchor": "x5",
         "domain": [
          0.214,
          0.358
         ],
         "matches": "y",
         "title": {
          "text": "value"
         }
        },
        "yaxis6": {
         "anchor": "x6",
         "domain": [
          0.214,
          0.358
         ],
         "matches": "y",
         "showticklabels": false
        },
        "yaxis7": {
         "anchor": "x7",
         "domain": [
          0.214,
          0.358
         ],
         "matches": "y",
         "showticklabels": false
        },
        "yaxis8": {
         "anchor": "x8",
         "domain": [
          0.214,
          0.358
         ],
         "matches": "y",
         "showticklabels": false
        },
        "yaxis9": {
         "anchor": "x9",
         "domain": [
          0.428,
          0.572
         ],
         "matches": "y",
         "title": {
          "text": "value"
         }
        }
       }
      }
     },
     "metadata": {},
     "output_type": "display_data"
    }
   ],
   "source": [
    "px.area(data_frame=dfm, x='datetime', y='value', color='variable',\n",
    "      facet_col='variable', facet_col_wrap=4, height=700)"
   ]
  }
 ],
 "metadata": {
  "kernelspec": {
   "display_name": "Python 3 (ipykernel)",
   "language": "python",
   "name": "python3"
  },
  "language_info": {
   "codemirror_mode": {
    "name": "ipython",
    "version": 3
   },
   "file_extension": ".py",
   "mimetype": "text/x-python",
   "name": "python",
   "nbconvert_exporter": "python",
   "pygments_lexer": "ipython3",
   "version": "3.12.2"
  },
  "toc-autonumbering": true
 },
 "nbformat": 4,
 "nbformat_minor": 5
}
