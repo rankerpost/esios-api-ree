{
 "cells": [
  {
   "cell_type": "markdown",
   "id": "4ec16ab7-51dd-4a1e-915b-8753b466f925",
   "metadata": {},
   "source": [
    "# Create Data Visualization"
   ]
  },
  {
   "cell_type": "markdown",
   "id": "429ae846-82ab-40e6-9e4f-24412bab23e6",
   "metadata": {},
   "source": [
    "## Load the data"
   ]
  },
  {
   "cell_type": "code",
   "execution_count": 2,
   "id": "e981d84b-dab7-4048-969d-cba05bc63024",
   "metadata": {},
   "outputs": [
    {
     "data": {
      "text/html": [
       "<div>\n",
       "<style scoped>\n",
       "    .dataframe tbody tr th:only-of-type {\n",
       "        vertical-align: middle;\n",
       "    }\n",
       "\n",
       "    .dataframe tbody tr th {\n",
       "        vertical-align: top;\n",
       "    }\n",
       "\n",
       "    .dataframe thead th {\n",
       "        text-align: right;\n",
       "    }\n",
       "</style>\n",
       "<table border=\"1\" class=\"dataframe\">\n",
       "  <thead>\n",
       "    <tr style=\"text-align: right;\">\n",
       "      <th></th>\n",
       "      <th>Hidráulica</th>\n",
       "      <th>Ajuste P48</th>\n",
       "      <th>Saldo Andorra</th>\n",
       "      <th>Saldo Marruecos</th>\n",
       "      <th>Saldo Francia</th>\n",
       "      <th>Saldo Portugal</th>\n",
       "      <th>otras renovables</th>\n",
       "      <th>Residuos no renovables</th>\n",
       "      <th>Cogeneración</th>\n",
       "      <th>Eólica</th>\n",
       "      <th>Carbón</th>\n",
       "      <th>Enlace Baleares</th>\n",
       "      <th>Consumo bombeo</th>\n",
       "      <th>Solar térmica</th>\n",
       "      <th>Solar fotovoltaica</th>\n",
       "      <th>Ciclo combinado</th>\n",
       "      <th>Turbinación bombeo</th>\n",
       "      <th>Nuclear</th>\n",
       "    </tr>\n",
       "    <tr>\n",
       "      <th>datetime_utc</th>\n",
       "      <th></th>\n",
       "      <th></th>\n",
       "      <th></th>\n",
       "      <th></th>\n",
       "      <th></th>\n",
       "      <th></th>\n",
       "      <th></th>\n",
       "      <th></th>\n",
       "      <th></th>\n",
       "      <th></th>\n",
       "      <th></th>\n",
       "      <th></th>\n",
       "      <th></th>\n",
       "      <th></th>\n",
       "      <th></th>\n",
       "      <th></th>\n",
       "      <th></th>\n",
       "      <th></th>\n",
       "    </tr>\n",
       "  </thead>\n",
       "  <tbody>\n",
       "    <tr>\n",
       "      <th>2022-12-01 00:00:00</th>\n",
       "      <td>1111.250</td>\n",
       "      <td>0.0</td>\n",
       "      <td>-8.0</td>\n",
       "      <td>0.0</td>\n",
       "      <td>-600.0</td>\n",
       "      <td>89.375</td>\n",
       "      <td>133.275</td>\n",
       "      <td>64.15</td>\n",
       "      <td>462.95</td>\n",
       "      <td>646.875</td>\n",
       "      <td>376.25</td>\n",
       "      <td>-10.2</td>\n",
       "      <td>-47.500</td>\n",
       "      <td>2.25</td>\n",
       "      <td>0.050</td>\n",
       "      <td>2207.725</td>\n",
       "      <td>160.50</td>\n",
       "      <td>1765.325</td>\n",
       "    </tr>\n",
       "    <tr>\n",
       "      <th>2022-12-01 00:00:00</th>\n",
       "      <td>1104.750</td>\n",
       "      <td>25.0</td>\n",
       "      <td>-8.0</td>\n",
       "      <td>0.0</td>\n",
       "      <td>-600.0</td>\n",
       "      <td>89.375</td>\n",
       "      <td>133.275</td>\n",
       "      <td>64.15</td>\n",
       "      <td>462.95</td>\n",
       "      <td>644.150</td>\n",
       "      <td>376.25</td>\n",
       "      <td>-10.2</td>\n",
       "      <td>-47.500</td>\n",
       "      <td>2.25</td>\n",
       "      <td>0.050</td>\n",
       "      <td>2178.350</td>\n",
       "      <td>129.10</td>\n",
       "      <td>1765.325</td>\n",
       "    </tr>\n",
       "    <tr>\n",
       "      <th>...</th>\n",
       "      <td>...</td>\n",
       "      <td>...</td>\n",
       "      <td>...</td>\n",
       "      <td>...</td>\n",
       "      <td>...</td>\n",
       "      <td>...</td>\n",
       "      <td>...</td>\n",
       "      <td>...</td>\n",
       "      <td>...</td>\n",
       "      <td>...</td>\n",
       "      <td>...</td>\n",
       "      <td>...</td>\n",
       "      <td>...</td>\n",
       "      <td>...</td>\n",
       "      <td>...</td>\n",
       "      <td>...</td>\n",
       "      <td>...</td>\n",
       "      <td>...</td>\n",
       "    </tr>\n",
       "    <tr>\n",
       "      <th>2022-12-22 23:00:00</th>\n",
       "      <td>1254.125</td>\n",
       "      <td>-25.0</td>\n",
       "      <td>-13.0</td>\n",
       "      <td>-100.0</td>\n",
       "      <td>-525.0</td>\n",
       "      <td>-166.075</td>\n",
       "      <td>100.200</td>\n",
       "      <td>61.85</td>\n",
       "      <td>324.35</td>\n",
       "      <td>3234.250</td>\n",
       "      <td>160.00</td>\n",
       "      <td>-25.5</td>\n",
       "      <td>-184.175</td>\n",
       "      <td>0.75</td>\n",
       "      <td>0.225</td>\n",
       "      <td>288.475</td>\n",
       "      <td>38.35</td>\n",
       "      <td>1766.025</td>\n",
       "    </tr>\n",
       "    <tr>\n",
       "      <th>2022-12-22 23:00:00</th>\n",
       "      <td>1253.350</td>\n",
       "      <td>-25.0</td>\n",
       "      <td>-13.0</td>\n",
       "      <td>-100.0</td>\n",
       "      <td>-525.0</td>\n",
       "      <td>-166.075</td>\n",
       "      <td>100.200</td>\n",
       "      <td>61.85</td>\n",
       "      <td>324.35</td>\n",
       "      <td>3201.750</td>\n",
       "      <td>158.25</td>\n",
       "      <td>-25.5</td>\n",
       "      <td>-278.675</td>\n",
       "      <td>0.75</td>\n",
       "      <td>0.225</td>\n",
       "      <td>232.250</td>\n",
       "      <td>34.10</td>\n",
       "      <td>1766.025</td>\n",
       "    </tr>\n",
       "  </tbody>\n",
       "</table>\n",
       "<p>2112 rows × 18 columns</p>\n",
       "</div>"
      ],
      "text/plain": [
       "                     Hidráulica  Ajuste P48  Saldo Andorra  Saldo Marruecos  \\\n",
       "datetime_utc                                                                  \n",
       "2022-12-01 00:00:00    1111.250         0.0           -8.0              0.0   \n",
       "2022-12-01 00:00:00    1104.750        25.0           -8.0              0.0   \n",
       "...                         ...         ...            ...              ...   \n",
       "2022-12-22 23:00:00    1254.125       -25.0          -13.0           -100.0   \n",
       "2022-12-22 23:00:00    1253.350       -25.0          -13.0           -100.0   \n",
       "\n",
       "                     Saldo Francia  Saldo Portugal  otras renovables  \\\n",
       "datetime_utc                                                           \n",
       "2022-12-01 00:00:00         -600.0          89.375           133.275   \n",
       "2022-12-01 00:00:00         -600.0          89.375           133.275   \n",
       "...                            ...             ...               ...   \n",
       "2022-12-22 23:00:00         -525.0        -166.075           100.200   \n",
       "2022-12-22 23:00:00         -525.0        -166.075           100.200   \n",
       "\n",
       "                     Residuos no renovables  Cogeneración    Eólica  Carbón  \\\n",
       "datetime_utc                                                                  \n",
       "2022-12-01 00:00:00                   64.15        462.95   646.875  376.25   \n",
       "2022-12-01 00:00:00                   64.15        462.95   644.150  376.25   \n",
       "...                                     ...           ...       ...     ...   \n",
       "2022-12-22 23:00:00                   61.85        324.35  3234.250  160.00   \n",
       "2022-12-22 23:00:00                   61.85        324.35  3201.750  158.25   \n",
       "\n",
       "                     Enlace Baleares  Consumo bombeo  Solar térmica  \\\n",
       "datetime_utc                                                          \n",
       "2022-12-01 00:00:00            -10.2         -47.500           2.25   \n",
       "2022-12-01 00:00:00            -10.2         -47.500           2.25   \n",
       "...                              ...             ...            ...   \n",
       "2022-12-22 23:00:00            -25.5        -184.175           0.75   \n",
       "2022-12-22 23:00:00            -25.5        -278.675           0.75   \n",
       "\n",
       "                     Solar fotovoltaica  Ciclo combinado  Turbinación bombeo  \\\n",
       "datetime_utc                                                                   \n",
       "2022-12-01 00:00:00               0.050         2207.725              160.50   \n",
       "2022-12-01 00:00:00               0.050         2178.350              129.10   \n",
       "...                                 ...              ...                 ...   \n",
       "2022-12-22 23:00:00               0.225          288.475               38.35   \n",
       "2022-12-22 23:00:00               0.225          232.250               34.10   \n",
       "\n",
       "                      Nuclear  \n",
       "datetime_utc                   \n",
       "2022-12-01 00:00:00  1765.325  \n",
       "2022-12-01 00:00:00  1765.325  \n",
       "...                       ...  \n",
       "2022-12-22 23:00:00  1766.025  \n",
       "2022-12-22 23:00:00  1766.025  \n",
       "\n",
       "[2112 rows x 18 columns]"
      ]
     },
     "execution_count": 2,
     "metadata": {},
     "output_type": "execute_result"
    }
   ],
   "source": [
    "import pandas as pd #!\n",
    "\n",
    "df_generation = pd.read_excel('generation.xlsx', index_col=0, parse_dates=['datetime_utc'])\n",
    "df_generation"
   ]
  },
  {
   "cell_type": "markdown",
   "id": "5b32584a-bdd9-4af1-94f4-b8f8341e9428",
   "metadata": {},
   "source": [
    "## Compute the daily p48 generation"
   ]
  },
  {
   "cell_type": "code",
   "execution_count": null,
   "id": "53d94389-346d-40af-b2a5-2ca01f4305f2",
   "metadata": {},
   "outputs": [],
   "source": []
  },
  {
   "cell_type": "markdown",
   "id": "ed4ff487-0ce2-4dd3-8cb5-60e36cf5dad6",
   "metadata": {},
   "source": [
    "## Basic example to understand the `melt` trick"
   ]
  },
  {
   "cell_type": "markdown",
   "id": "b131c15e-7860-4f6f-8927-649ec9c5f7dd",
   "metadata": {},
   "source": [
    "### Load the data"
   ]
  },
  {
   "cell_type": "code",
   "execution_count": null,
   "id": "2c321bab-c183-4e2c-8757-a95bb2167e36",
   "metadata": {},
   "outputs": [],
   "source": []
  },
  {
   "cell_type": "markdown",
   "id": "8988dab3-5b48-4831-987c-de2df44c7910",
   "metadata": {},
   "source": [
    "### Visualize the barplot"
   ]
  },
  {
   "cell_type": "code",
   "execution_count": null,
   "id": "a12ef1b3-e9e2-448e-9ddf-adcc15c0e8c5",
   "metadata": {},
   "outputs": [],
   "source": []
  },
  {
   "cell_type": "markdown",
   "id": "77c3913e-e9d9-4601-91fb-cfddedcec027",
   "metadata": {},
   "source": [
    "## Melt the daily p48 generation `DataFrame`"
   ]
  },
  {
   "cell_type": "code",
   "execution_count": null,
   "id": "1c1323d4-998f-464e-9edc-b3f1540a9732",
   "metadata": {},
   "outputs": [],
   "source": []
  },
  {
   "cell_type": "markdown",
   "id": "f52321e9-f518-42ac-be62-5429162b4739",
   "metadata": {},
   "source": [
    "## Visualize the data"
   ]
  },
  {
   "cell_type": "markdown",
   "id": "e959fbe1-3c54-4250-945d-517f4b1ba4d0",
   "metadata": {},
   "source": [
    "### Bar plot"
   ]
  },
  {
   "cell_type": "markdown",
   "id": "7843acad-11c8-4d4c-9294-249ebf324e9a",
   "metadata": {},
   "source": [
    "#### Colors"
   ]
  },
  {
   "cell_type": "code",
   "execution_count": null,
   "id": "99fc43f5-e037-4039-b3c0-1afaacea3636",
   "metadata": {},
   "outputs": [],
   "source": []
  },
  {
   "cell_type": "markdown",
   "id": "081f4337-9a8c-4c7a-8cbb-dae718f3ee7c",
   "metadata": {},
   "source": [
    "#### Facets"
   ]
  },
  {
   "cell_type": "code",
   "execution_count": null,
   "id": "721d19e6-50c9-4a75-a3ce-0742ba0d0d89",
   "metadata": {},
   "outputs": [],
   "source": []
  },
  {
   "cell_type": "markdown",
   "id": "97702d5d-5cf7-467e-840f-aa60eb20e39c",
   "metadata": {},
   "source": [
    "### Area plot"
   ]
  },
  {
   "cell_type": "markdown",
   "id": "9d0cfcdd-95f5-43ff-b093-5f5ff75b912d",
   "metadata": {},
   "source": [
    "#### Colors"
   ]
  },
  {
   "cell_type": "code",
   "execution_count": null,
   "id": "b11fc754-9db5-47e4-8e0d-f16993d4ebfc",
   "metadata": {},
   "outputs": [],
   "source": []
  },
  {
   "cell_type": "markdown",
   "id": "94fab934-64bb-41d2-9d60-fac83075fb4b",
   "metadata": {},
   "source": [
    "#### Facets"
   ]
  },
  {
   "cell_type": "code",
   "execution_count": null,
   "id": "d7f3e0e6-bad3-4ba4-b749-00f1f000a76e",
   "metadata": {},
   "outputs": [],
   "source": []
  }
 ],
 "metadata": {
  "kernelspec": {
   "display_name": "Python 3 (ipykernel)",
   "language": "python",
   "name": "python3"
  },
  "language_info": {
   "codemirror_mode": {
    "name": "ipython",
    "version": 3
   },
   "file_extension": ".py",
   "mimetype": "text/x-python",
   "name": "python",
   "nbconvert_exporter": "python",
   "pygments_lexer": "ipython3",
   "version": "3.10.6"
  },
  "toc-autonumbering": true
 },
 "nbformat": 4,
 "nbformat_minor": 5
}
